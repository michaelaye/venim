{
 "cells": [
  {
   "cell_type": "code",
   "execution_count": 1,
   "metadata": {},
   "outputs": [],
   "source": [
    "import xarray as xr"
   ]
  },
  {
   "cell_type": "code",
   "execution_count": 2,
   "metadata": {},
   "outputs": [],
   "source": [
    "ds = xr.open_dataset(\"/Users/klay6683/Downloads/ir2_20160519_140822_202_l3b_v10.nc\")"
   ]
  },
  {
   "cell_type": "code",
   "execution_count": 3,
   "metadata": {},
   "outputs": [
    {
     "data": {
      "text/plain": [
       "<xarray.Dataset>\n",
       "Dimensions:        (latitude: 1440, longitude: 2880, src_index: 4, time: 1)\n",
       "Coordinates:\n",
       "  * longitude      (longitude) float32 0.0625 0.1875 ... 359.8125 359.9375\n",
       "  * latitude       (latitude) float32 -89.9375 -89.8125 ... 89.8125 89.9375\n",
       "  * src_index      (src_index) int16 0 1 2 3\n",
       "  * time           (time) datetime64[ns] 2016-05-19T14:08:26.891118464\n",
       "Data variables:\n",
       "    radiance       (time, latitude, longitude) float32 ...\n",
       "    inangle        (time, latitude, longitude) float32 ...\n",
       "    emangle        (time, latitude, longitude) float32 ...\n",
       "    phangle        (time, latitude, longitude) float32 ...\n",
       "    azangle        (time, latitude, longitude) float32 ...\n",
       "    src_index_ax1  (time, latitude, longitude, src_index) float32 ...\n",
       "    src_index_ax2  (time, latitude, longitude, src_index) float32 ...\n",
       "    P_L0NAME       |S1024 ...\n",
       "    TELESCOP       |S1024 ...\n",
       "    SPCECRFT       |S1024 ...\n",
       "    INSTRUME       |S1024 ...\n",
       "    OBJECT         |S1024 ...\n",
       "    FILTER         |S1024 ...\n",
       "    P_ID           |S1024 ...\n",
       "    DATE_BEG       |S1024 ...\n",
       "    DATE_OBS       |S1024 ...\n",
       "    DATE_END       |S1024 ...\n",
       "    DATE           |S1024 ...\n",
       "    P_CMPSTY       |S1024 ...\n",
       "    P_CMPTYP       |S1024 ...\n",
       "    P_DVER         |S1024 ...\n",
       "    S_ORBITN       (time) int16 ...\n",
       "    S_PERLON       (time) float32 ...\n",
       "    S_PERLAT       (time) float32 ...\n",
       "    S_PERALT       (time) float32 ...\n",
       "    S_INCANG       (time) float32 ...\n",
       "    S_ECCENT       (time) float32 ...\n",
       "    S_LONNOD       (time) float32 ...\n",
       "    S_ARGPER       (time) float32 ...\n",
       "    S_SEMIAX       (time) float32 ...\n",
       "    DATAMAX        (time) float32 ...\n",
       "    DATAMIN        (time) float32 ...\n",
       "    P_DPIXV        (time) float32 ...\n",
       "    P_DPIXN        (time) int16 ...\n",
       "    P_SPIXV        (time) float32 ...\n",
       "    P_SPIXN        (time) int16 ...\n",
       "    EXPOSURE       (time) float32 ...\n",
       "    P_BINN         (time) int16 ...\n",
       "    P_FLPROT       (time) int16 ...\n",
       "    S_DISTAV       (time) float32 ...\n",
       "    S_DISTVS       (time) float32 ...\n",
       "    S_APPDIA       (time) float32 ...\n",
       "    S_IFOV         (time) float32 ...\n",
       "    S_SOLLAT       (time) float32 ...\n",
       "    S_SOLLON       (time) float32 ...\n",
       "    S_TGRADI       (time) float32 ...\n",
       "    S_SSCLAT       (time) float32 ...\n",
       "    S_SSCLON       (time) float32 ...\n",
       "    S_SSCLT        (time) timedelta64[ns] ...\n",
       "    S_SSCPHA       (time) float32 ...\n",
       "    S_CLDALT       (time) float32 ...\n",
       "    S_SSCPX        (time) float32 ...\n",
       "    S_SSCPY        (time) float32 ...\n",
       "    S_NPVAZM       (time) float32 ...\n",
       "    FIT_STAT       (time) int16 ...\n",
       "    D_SSCPX        (time) float32 ...\n",
       "    D_SSCPY        (time) float32 ...\n",
       "    D_NPVAZM       (time) float32 ...\n",
       "    D_LVANG        (time) float32 ...\n",
       "Attributes:\n",
       "    title:                 Akatsuki Level 3\n",
       "    history:               Produced by Akatsuki L2/L3 Converter Version 3.7 (...\n",
       "    institute:             ISAS/JAXA\n",
       "    source:                ir2_20160519_140822_202_l2b_v10.fit, ir2_20160519_...\n",
       "    references:            Ogohara et al. (2012), Automated cloud tracking sy...\n",
       "    comments:              Akatsuki L3 data comes with ABSOLUTELY NO WARRANTY...\n",
       "    Conventions:           CF-1.7\n",
       "    command:               /nasA_planetc/vco_work/release_work/public/2019-06...\n",
       "    hgid:                  7b81c2b8b5a5\n",
       "    loaded_spice_kernels:  naif0012.tls,pck00010.tpc,vco_gm_de431_v01.tpc,vco..."
      ]
     },
     "execution_count": 3,
     "metadata": {},
     "output_type": "execute_result"
    }
   ],
   "source": [
    "ds"
   ]
  },
  {
   "cell_type": "code",
   "execution_count": 7,
   "metadata": {},
   "outputs": [
    {
     "data": {
      "text/plain": [
       "'Akatsuki L3 data comes with ABSOLUTELY NO WARRANTY. See variables for data details.'"
      ]
     },
     "execution_count": 7,
     "metadata": {},
     "output_type": "execute_result"
    }
   ],
   "source": [
    "ds.comments"
   ]
  },
  {
   "cell_type": "code",
   "execution_count": 8,
   "metadata": {},
   "outputs": [],
   "source": [
    "from urllib.request import urlretrieve"
   ]
  },
  {
   "cell_type": "code",
   "execution_count": 10,
   "metadata": {},
   "outputs": [
    {
     "data": {
      "text/plain": [
       "('testimage.fits', <http.client.HTTPMessage at 0x1194cf5f8>)"
      ]
     },
     "execution_count": 10,
     "metadata": {},
     "output_type": "execute_result"
    }
   ],
   "source": [
    "urlretrieve('https://atmos.nmsu.edu/PDS/data/vcoir2_0001/data/r0009/ir2_20160313_075709_174_l1b_v10.fit',\n",
    "           'testimage.fits')"
   ]
  },
  {
   "cell_type": "code",
   "execution_count": 12,
   "metadata": {},
   "outputs": [
    {
     "name": "stdout",
     "output_type": "stream",
     "text": [
      "total 4224\n",
      "drwxr-xr-x@  6 klay6683  2260      192 Nov  6 17:14 \u001b[34m.\u001b[m\u001b[m/\n",
      "drwxr-xr-x@ 33 klay6683  2260     1056 Nov  6 12:17 \u001b[34m..\u001b[m\u001b[m/\n",
      "drwxr-xr-x@  4 klay6683  2260      128 Nov  6 09:34 \u001b[34m.ipynb_checkpoints\u001b[m\u001b[m/\n",
      "-rw-r--r--@  1 klay6683  2260     6000 Nov  6 14:08 Untitled.ipynb\n",
      "-rw-r--r--@  1 klay6683  2260    25349 Nov  5 10:20 image_stats.ipynb\n",
      "-rw-r--r--@  1 klay6683  2260  2122560 Nov  6 17:14 testimage.fits\n"
     ]
    }
   ],
   "source": [
    "ls -la"
   ]
  },
  {
   "cell_type": "code",
   "execution_count": null,
   "metadata": {},
   "outputs": [],
   "source": []
  }
 ],
 "metadata": {
  "kernelspec": {
   "display_name": "Python [conda env:py37]",
   "language": "python",
   "name": "conda-env-py37-py"
  },
  "language_info": {
   "codemirror_mode": {
    "name": "ipython",
    "version": 3
   },
   "file_extension": ".py",
   "mimetype": "text/x-python",
   "name": "python",
   "nbconvert_exporter": "python",
   "pygments_lexer": "ipython3",
   "version": "3.7.6"
  },
  "widgets": {
   "application/vnd.jupyter.widget-state+json": {
    "state": {},
    "version_major": 2,
    "version_minor": 0
   }
  }
 },
 "nbformat": 4,
 "nbformat_minor": 4
}
