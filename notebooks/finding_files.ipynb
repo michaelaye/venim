{
 "cells": [
  {
   "cell_type": "code",
   "execution_count": 1,
   "metadata": {},
   "outputs": [],
   "source": [
    "from venim.akatsuki.ir2 import (\n",
    "    IR2PathManager, get_orbit_file_list, get_file_path, get_file_data, get_file_header, getdata\n",
    ")"
   ]
  },
  {
   "cell_type": "markdown",
   "metadata": {},
   "source": [
    "## orbit unknown"
   ]
  },
  {
   "cell_type": "code",
   "execution_count": 2,
   "metadata": {},
   "outputs": [],
   "source": [
    "id = \"ir2_20160825_021042_202_l2b_v10.fit\""
   ]
  },
  {
   "cell_type": "code",
   "execution_count": 3,
   "metadata": {},
   "outputs": [
    {
     "data": {
      "text/plain": [
       "XTENSION= 'IMAGE   '           / type of extension                              \n",
       "BITPIX  =                  -32 / number of bits per data pixel                  \n",
       "NAXIS   =                    2 / number of data axes                            \n",
       "NAXIS1  =                 1024 / length of data axis 1                          \n",
       "NAXIS2  =                 1024 / length of data axis 2                          \n",
       "PCOUNT  =                    0 / number of parameters per group                 \n",
       "GCOUNT  =                    1 / number of groups                               \n",
       "EXTNAME = 'IR2-LEVEL2b'        / name of this HDU                               \n",
       "EXTVER  =                    0 / version of the extension                       \n",
       "ORIGIN  = 'VCO/LEON team'      / organization responsible for the data          \n",
       "DATE    = '2019-04-10T23:22:45' / date of generation of this HDU in UTC         \n",
       "DATE-BEG= '2016-08-25T02:10:14.045' / date of the start of observation in UTC   \n",
       "DATE-OBS= '2016-08-25T02:10:42.515' / date of the middle of observation in UTC  \n",
       "DATE-END= '2016-08-25T02:11:10.985' / date of the end of observation in UTC     \n",
       "TELESCOP= 'VCO     '           / telescope used to acquire data                 \n",
       "SPCECRFT= 'VCO     '           / name of spacecraft                             \n",
       "INSTRUME= '2-micron Camera'    / name of instrument                             \n",
       "OBJECT  = 'VENUS   '           / name of observed object                        \n",
       "BUNIT   = 'W m^-2 sr^-1 um^-1' / physical units of the array values             \n",
       "DATAMAX =         8.561775E+00 / maximum data value                             \n",
       "DATAMIN =        -7.074358E-02 / minimum data value                             \n",
       "P_L0NAME= 'vcoir200017B45E673_0077.img' / filename of raw image in level 0      \n",
       "P_MPIXV =            -1.00E+04 / pixel flag value for missing data in data array\n",
       "P_MPIXN =                    0 / number of pixels with missing value            \n",
       "P_DPIXV =            -1.00E+03 / dead pixel flag value in data array            \n",
       "P_DPIXN =                    0 / number of dead pixels in data array            \n",
       "P_SPIXO =            -1.00E+02 / saturated pixel offset value in data array     \n",
       "P_SPIXV = 'N/A     '           / saturated pixel flag value in data array       \n",
       "P_SPIXN =                    0 / number of saturated pixels in data array       \n",
       "P_MEAN  =         7.744175E-01 / mean value of the data                         \n",
       "P_STDDEV=         1.777242E+00 / standard deviation of the data                 \n",
       "COMMENT                                                                         \n",
       "COMMENT ******* VCO Observation Information *******                             \n",
       "COMMENT                                                                         \n",
       "EXPOSURE=                 6.97 / exposure time [s]                              \n",
       "FILTER  = '2.02 um'            / filter name                                    \n",
       "P_ID    = 'VCO_IR2_202'        / VCO instrument/filter ID                       \n",
       "P_FLTCW =                 2.02 / center wavelength for the value of FILTER [um] \n",
       "P_FLTBW =                0.039 / bandwidth for the value of FILTER [um]         \n",
       "P_FLTAT =                 0.06 / average transmission for the value of FILTER   \n",
       "P_BINN  =                    1 / number of pixels for binning: 1 2 4 8          \n",
       "P_POSLLX=                    1 / x-pos of lower-left corner pixel of image      \n",
       "P_POSLLY=                    1 / y-pos of lower-left corner pixel of image      \n",
       "P_POSURX=                 1024 / x-pos of upper-right corner pixel of image     \n",
       "P_POSURY=                 1024 / y-pos of upper-right corner pixel of image     \n",
       "P_FLPROT=                    2 / flip and rotation flag: 2 (CCW 180 deg)        \n",
       "P_OPOSX1=                 1024 / selected image area in detector pixel coord.   \n",
       "P_OPOSY1=                 1024                                                  \n",
       "P_OPOSX2=                    1                                                  \n",
       "P_OPOSY2=                 1024                                                  \n",
       "P_OPOSX3=                 1024                                                  \n",
       "P_OPOSY3=                    1                                                  \n",
       "P_OPOSX4=                    1                                                  \n",
       "P_OPOSY4=                    1                                                  \n",
       "COMMENT                                                                         \n",
       "COMMENT ******* VCO Onboard Image Processing Information *******                \n",
       "COMMENT                                                                         \n",
       "P_CMPSTY= 'LOSSLESS'           / image compression style: RAWDATA/LOSSLESS/LOSSY\n",
       "P_CMPTYP= 'HIREW   '           / image compression type: RAWDATA/HIREW          \n",
       "P_CMPPAR= '0x04'               / image compression parameter                    \n",
       "P_IMGERR= 'NORMAL END'         / image processing err log: NORMAL END/error info\n",
       "COMMENT                                                                         \n",
       "COMMENT ******* VCO Spacecraft Clock Information *******                        \n",
       "COMMENT                                                                         \n",
       "P_SCCSC = '2/2068172179'       / VCO S/C clock start count                      \n",
       "P_SCCEC = '2/2068174002'       / VCO S/C clock end count                        \n",
       "COMMENT                                                                         \n",
       "COMMENT ******* Version of FITS Header Keyword Dictionary *******               \n",
       "COMMENT                                                                         \n",
       "P_DVER  = '2018-06-12'         / version of common keyword dictionary for VCO   \n",
       "COMMENT                                                                         \n",
       "COMMENT ******* IR2 bit status information *******                              \n",
       "COMMENT                                                                         \n",
       "I2_HTON = 'OFF     '           / IR2 heater status: OFF/ON                      \n",
       "I2_HTENA= 'DISABLE '           / IR2 heater permission: DISABLE/ENABLE          \n",
       "I2_CLENA= 'DISABLE '           / IR2 CAL lamp permission: DISABLE/ENABLE        \n",
       "I2_CLON = 'OFF     '           / IR2 CAL lamp status: OFF/ON                    \n",
       "I2_CLBRT= 'BRIGHT  '           / IR2 CAL lamp brightness: DARK/BRIGHT           \n",
       "I2_GAIN = 'LOW     '           / IR2 amplifier gain: LOW/HIGH                   \n",
       "I2_LEDON= 'OFF     '           / IR2 LED status: OFF/ON                         \n",
       "I2_P1ACK= 'ACK     '           / IR2 photodiode1 status: ACK/NO ACK             \n",
       "I2_P2ACK= 'ACK     '           / IR2 photodiode2 status: ACK/NO ACK             \n",
       "I2_FWROT= 'STOP    '           / IR2 filter wheel status: STOP/ROTATION         \n",
       "COMMENT                                                                         \n",
       "COMMENT ******* IR2 byte status information *******                             \n",
       "COMMENT                                                                         \n",
       "I2_IMGNM=                    9 / number of processed images                     \n",
       "I2_T_C1 =                65.14 / IR2 CCD temperature (50-70) [K]                \n",
       "I2_T_C2 =                66.16 / IR2 CCD temperature (70-350) [K]               \n",
       "I2_T_OP =               178.56 / IR2 optics temperature (150-320) [K]           \n",
       "I2_T_CH =               289.44 / IR2 cold head temperature (200-320) [K]        \n",
       "I2_T_CM =               290.52 / IR2 compressor temperature (200-320) [K]       \n",
       "I2_T_HD =               265.84 / IR2 hood temperature (200-350) [K]             \n",
       "I2_T_P1 =                58.38 / IR2 cold tip temperature (45-70) [K]           \n",
       "I2_T_P2 =                58.87 / IR2 cold tip temperature (70-350) [K]          \n",
       "I2_T_C1B= 'BF:BABFBFBEBFBFBEBFBF' / original bytes for I2_T_C1                  \n",
       "I2_T_C2B= '0B:0A0B0B0B0B0B0B0B0B' / original bytes for I2_T_C2                  \n",
       "I2_T_OPB= '31:313131313131313131' / original bytes for I2_T_OP                  \n",
       "I2_T_CHB= 'B1:B0B0B0B0B0B0B0B1B1' / original bytes for I2_T_CH                  \n",
       "I2_T_CMB= 'B7:B7B7B7B7B7B7B7B7B7' / original bytes for I2_T_CM                  \n",
       "I2_T_HDB= '70:6F6F6F6F6F70707070' / original bytes for I2_T_HD                  \n",
       "I2_T_P1B= '81:818181818181818181' / original bytes for I2_T_P1                  \n",
       "I2_T_P2B= '02:020202020202020202' / original bytes for I2_T_P2                  \n",
       "I2_T_C1R=              0.08658 / resolution per a digit for I2_T_C1 [K]         \n",
       "I2_T_C2R=              1.29630 / resolution per a digit for I2_T_C2 [K]         \n",
       "I2_T_OPR=              0.75221 / resolution per a digit for I2_T_OP [K]         \n",
       "I2_T_CHR=              0.54545 / resolution per a digit for I2_T_CH [K]         \n",
       "I2_T_CMR=              0.54545 / resolution per a digit for I2_T_CM [K]         \n",
       "I2_T_HDR=              0.65217 / resolution per a digit for I2_T_HD [K]         \n",
       "I2_T_P1R=              0.10917 / resolution per a digit for I2_T_P1 [K]         \n",
       "I2_T_P2R=              1.23348 / resolution per a digit for I2_T_P2 [K]         \n",
       "COMMENT                                                                         \n",
       "COMMENT ******* IR2 DAC status information *******                              \n",
       "COMMENT                                                                         \n",
       "I2_CLK01= '0x80    '           / IR2 CLK01 DAC value                            \n",
       "I2_CLK02= '0x73    '           / IR2 CLK02 DAC value                            \n",
       "I2_CLK03= '0x75    '           / IR2 CLK03 DAC value                            \n",
       "I2_CLK04= '0x78    '           / IR2 CLK04 DAC value                            \n",
       "I2_CLK05= '0x7B    '           / IR2 CLK05 DAC value                            \n",
       "I2_CLK06= '0x90    '           / IR2 CLK06 DAC value                            \n",
       "I2_CLK07= '0x90    '           / IR2 CLK07 DAC value                            \n",
       "I2_CLK08= '0x90    '           / IR2 CLK08 DAC value                            \n",
       "I2_CLK09= '0x90    '           / IR2 CLK09 DAC value                            \n",
       "I2_CLK10= '0x71    '           / IR2 CLK10 DAC value                            \n",
       "I2_CLK11= '0xD4    '           / IR2 CLK11 DAC value                            \n",
       "I2_CLK12= '0xF8    '           / IR2 CLK12 DAC value                            \n",
       "I2_CLK13= '0xF8    '           / IR2 CLK13 DAC value                            \n",
       "I2_CLK14= '0xBA    '           / IR2 CLK14 DAC value                            \n",
       "I2_CLK15= '0xD4    '           / IR2 CLK15 DAC value                            \n",
       "I2_CLK16= '0xB9    '           / IR2 CLK16 DAC value                            \n",
       "I2_CLK17= '0x76    '           / IR2 CLK17 DAC value                            \n",
       "I2_CLK18= '0xF2    '           / IR2 CLK18 DAC value                            \n",
       "I2_CLK19= '0xFF    '           / IR2 CLK19 DAC value                            \n",
       "I2_CLK20= '0x90    '           / IR2 CLK20 DAC value                            \n",
       "I2_PTTRN= '2010.11.29'         / version string for IR clock-pattern program    \n",
       "I2_C2E  =                  70. / number of electrons per count                  \n",
       "COMMENT                                                                         \n",
       "COMMENT ******* Version of FITS Header Keyword Dictionary *******               \n",
       "COMMENT                                                                         \n",
       "I2_DVER = '2016-09-21'         / version of keyword dictionary for IR2          \n",
       "HISTORY OPERATOR: Takehiko SATOH, Manabu YAMADA, Shin-ya MURAKAMI               \n",
       "HISTORY DATE: 2019-04-10T06:08:49                                               \n",
       "HISTORY TASK: Generate FITS file. LEON Image Header Conversion.                 \n",
       "HISTORY SOFT: LEON-L1a.cpp program                                              \n",
       "HISTORY       compiled at Sep  6 2018 00:31:10                                  \n",
       "COMMENT                                                                         \n",
       "COMMENT ******* VCO Observation Program ID *******                              \n",
       "COMMENT                                                                         \n",
       "P_OBSPRG= '0x06_v2 '           / observation program ID                         \n",
       "P_OPNAME= 'Dayside slim (IR1, IR2, LIR)' / obs. prg. name                       \n",
       "P_OPDATE= '2016-08-25T02:00:00' / start time of observation program execution   \n",
       "HISTORY OPERATOR: Shin-ya Murakami                                              \n",
       "HISTORY DATE: 2019-04-10T06:09:27                                               \n",
       "HISTORY TASK: add P_OBSPRG, P_OPNAME and P_OPDATE, determine                    \n",
       "HISTORY       FILTER and EXPOSURE, and edit P_SCCSC and P_SCCEC.                \n",
       "HISTORY SOFT: LEON-L1a2.rb ver. 0.7.2                                           \n",
       "P_NSALV =                    0 / number of salvaged areas                       \n",
       "HISTORY OPERATOR: Shin-ya Murakami                                              \n",
       "HISTORY DATE: 2019-04-10T06:09:27                                               \n",
       "HISTORY TASK: Add header keywords for areas with salvaged tiles.                \n",
       "HISTORY SOFT: salvaged_tile_info.cpp program                                    \n",
       "HISTORY       compiled at Jun 23 2018 21:10:32                                  \n",
       "COMMENT                                                                         \n",
       "COMMENT ****** VCO Orbital Information at Periapsis time *****                  \n",
       "COMMENT                                                                         \n",
       "S_ORBITN=                   25 / VCO orbit number                               \n",
       "S_PERTIM= '2016-08-24T19:24:57.000' / time of periapsis passage                 \n",
       "S_PERLON=               266.04 / sub S/C longitude at periapsis passage [deg]   \n",
       "S_PERLAT=                 3.46 / sub S/C latitude at periapsis passage [deg]    \n",
       "S_PERALT=              7192.46 / sub S/C altitude at periapsis passage [km]     \n",
       "S_INCANG=               163.87 / inclination angle of the orbit [deg]           \n",
       "S_ECCENT=                0.931 / eccentricity of the orbit                      \n",
       "S_LONNOD=               226.99 / orbit plane longitude of ascending node [deg]  \n",
       "S_ARGPER=               167.45 / orbit plane argument of periapsis [deg]        \n",
       "S_SEMIAX=              193347. / semi-major axis of the orbit [km]              \n",
       "COMMENT                                                                         \n",
       "COMMENT ****** VCO Geometry Information at observation ******                   \n",
       "COMMENT                                                                         \n",
       "S_DISTAV=              78988.9 / distance between VCO and Venus [km]            \n",
       "S_DISTVS=           1.0799D+08 / distance between Venus and Sun [km]            \n",
       "S_APPDIA=              8.88999 / apparent diameter of Venus [deg]               \n",
       "S_IFOV  =          0.000198148 / instantaneous field of view [rad]              \n",
       "S_NPVAZM=             -93.1058 / azimuth of north pole vector [deg]             \n",
       "S_SOLLAT=             -1.44174 / sub solar latitude [deg]                       \n",
       "S_SOLLON=              229.526 / sub solar longitude [deg]                      \n",
       "S_TGRADI=               6051.8 / target radius at the equator [km]              \n",
       "S_SSCLAT=             -13.3143 / sub S/C latitude [deg]                         \n",
       "S_SSCLON=              129.324 / sub S/C longitude [deg]                        \n",
       "S_SSCLT =              18.6802 / sub S/C local time [h]                         \n",
       "S_SSCPHA=              99.5884 / sub S/C phase angle [deg]                      \n",
       "S_SSCPX =              644.611 / sub S/C X position on image array [pix]        \n",
       "S_SSCPY =              629.772 / sub S/C Y position on image array [pix]        \n",
       "S_CLDALT=                  70. / assumed cloud altitude [km]                    \n",
       "S_SCPJ2X=         -9.80086D+07 / S/C X position from the Sun in J2000 [km]      \n",
       "S_SCPJ2Y=         -4.33727D+07 / S/C Y position from the Sun in J2000 [km]      \n",
       "S_SCPJ2Z=          -1.3331D+07 / S/C Z position from the Sun in J2000 [km]      \n",
       "S_SDIRX =            -0.197793 / X of unit vector of Sun direction in S/C frame \n",
       "S_SDIRY =            0.0343921 / Y of unit vector of Sun direction in S/C frame \n",
       "S_SDIRZ =              0.97964 / Z of unit vector of Sun direction in S/C frame \n",
       "COMMENT                                                                         \n",
       "COMMENT ****** RA/DEC Information at observation ******                         \n",
       "COMMENT                                                                         \n",
       "S_RA    =              105.279 / RA of image center (J2000) [deg]               \n",
       "S_DEC   =              36.9757 / DEC of image center (J2000) [deg]              \n",
       "S_RA1   =              97.6608 / RA of bottom-left corner of image [deg]        \n",
       "S_DEC1  =              42.7215 / DEC of bottom-left corner of image [deg]       \n",
       "S_RA2   =              113.365 / RA of bottom-right corner of image [deg]       \n",
       "S_DEC2  =              42.3106 / DEC of bottom-right corner of image [deg]      \n",
       "S_RA3   =              98.2971 / RA of top-left corner of image [deg]           \n",
       "S_DEC3  =              31.1665 / DEC of top-left corner of image [deg]          \n",
       "S_RA4   =              111.791 / RA of top-right corner of image [deg]          \n",
       "S_DEC4  =              30.8132 / DEC of top-right corner of image [deg]         \n",
       "COMMENT                                                                         \n",
       "COMMENT ****** Quaternion of S/C attitude at observation ******                 \n",
       "COMMENT                                                                         \n",
       "S_Q0SPC =             0.676182 / scalar part of the quaternion of S/C attitude  \n",
       "S_Q1SPC =             0.381468 / 1st element of vector part of the quaternion   \n",
       "S_Q2SPC =            -0.581511 / 2nd element of vector part of the quaternion   \n",
       "S_Q3SPC =             0.243115 / 3rd element of vector part of the quaternion   \n",
       "COMMENT                                                                         \n",
       "COMMENT ****** BEGIN SPICE KERNELS ********                                     \n",
       "COMMENT naif0012.tls, pck00010.tpc, vco_gm_de431_v01.tpc, vco_de423_de430.bsp,  \n",
       "COMMENT rssd0002.tf, vco_spacecraft_v26.tf, vco_uvi_v12.ti, vco_ir1_v11.ti,     \n",
       "COMMENT vco_ir2_v10.ti, vco_lac_v14.ti, vco_lir_v09.ti, vco_2010_v01.bsp,       \n",
       "COMMENT vco_2011_v01.bsp, vco_2012_v01.bsp, vco_2013_v01.bsp, vco_2014_v01.bsp, \n",
       "COMMENT vco_2015_v01.bsp, vco_2016_v01.bsp, vco_2017_v01.bsp, vco_2018_v01.bsp, \n",
       "COMMENT vco_v03.tsc, vco_2010_pred_v02.bc, vco_2010_v02.bc,                     \n",
       "COMMENT vco_2011_pred_v02.bc, vco_2011_v02.bc, vco_2012_v02.bc, vco_2013_v02.bc,\n",
       "COMMENT vco_2014_pred_v02.bc, vco_2014_v02.bc, vco_2015_pred_v02.bc,            \n",
       "COMMENT vco_2015_v02.bc, vco_2016_pred_v02.bc, vco_2016_v02.bc,                 \n",
       "COMMENT vco_2017_pred_v02.bc, vco_2017_v02.bc, vco_2018_pred_v02.bc,            \n",
       "COMMENT vco_2018_v02.bc, vco_sap_nominal_v02.bc, vco_sap_2010_v02.bc,           \n",
       "COMMENT vco_sap_2011_v02.bc, vco_sap_2012_v02.bc, vco_sap_2013_v02.bc,          \n",
       "COMMENT vco_sap_2014_v02.bc, vco_sap_2015_v02.bc, vco_sap_2016_v02.bc,          \n",
       "COMMENT vco_sap_2017_v02.bc, vco_sap_2018_v02.bc, vco_xmga_2010_v01.bc,         \n",
       "COMMENT vco_xmga_2011_v02.bc, vco_xmga_2012_v02.bc, vco_xmga_2013_v01.bc,       \n",
       "COMMENT vco_xmga_2014_v01.bc, vco_xmga_2015_v01.bc, vco_xmga_2016_v01.bc,       \n",
       "COMMENT vco_xmga_2017_v01.bc, vco_xmga_2018_v01.bc                              \n",
       "COMMENT ****** END SPICE KERNELS **********                                     \n",
       "COMMENT                                                                         \n",
       "HISTORY OPERATOR: Takehiko SATOH, Manabu YAMADA, Shin-ya MURAKAMI               \n",
       "HISTORY DATE: 2019-04-10T12:04:31                                               \n",
       "HISTORY TASK: Make FITS file with geometry information.                         \n",
       "HISTORY SOFT: $RCSfile: PC-atob.cpp,v $ $Revision: 1.129 $ program              \n",
       "HISTORY       compiled at Oct  9 2018 14:23:40                                  \n",
       "COMMENT                                                                         \n",
       "COMMENT ******* IR2 Calibration Information (L1 to L2) *******                  \n",
       "COMMENT                                                                         \n",
       "I2_C2F  = 'Flux [W m^-2 sr^-1 um^-1] = ( Counts * K1 + K0 ) / Exposure / Solid&'\n",
       "CONTINUE  '_Angle  '           / method for converting pixel counts to flux     \n",
       "I2_C2FK1=            3.700E-10 / K1 for 2.02 um                                 \n",
       "I2_C2FK0=            0.000E+00 / K0 for 2.02 um                                 \n",
       "I2_C2FSA=            3.953E-08 / solid angle per a pixel [sr/pixel]             \n",
       "I2_FLAT = '226um_54sec_clean.fit' / filename of flat-field image                \n",
       "I2_TCVER= 'V0.5 (2016-09-20)'  / version for temperature correction of flat     \n",
       "I2_TCF00=            1.0542893 / TC factor for quad(0,0)                        \n",
       "I2_TCF10=            1.0457577 / TC factor for quad(1,0)                        \n",
       "I2_TCF01=            0.9770675 / TC factor for quad(0,1)                        \n",
       "I2_TCF11=            0.9282920 / TC factor for quad(1,1)                        \n",
       "HISTORY OPERATOR: Takehiko SATOH                                                \n",
       "HISTORY DATE: 2019-04-10T23:22:45                                               \n",
       "HISTORY TASK: IR2 L1 to L2 procedure.                                           \n",
       "HISTORY SOFT: IR2_L1toL2.f90 program                                            \n",
       "HISTORY       compiled at Apr 10 2019 13:36:27                                  "
      ]
     },
     "execution_count": 3,
     "metadata": {},
     "output_type": "execute_result"
    }
   ],
   "source": [
    "get_file_header(id)"
   ]
  },
  {
   "cell_type": "code",
   "execution_count": 4,
   "metadata": {},
   "outputs": [
    {
     "data": {
      "text/plain": [
       "array([[0.0274001 , 0.02330993, 0.02859067, ..., 0.02331178, 0.02467787,\n",
       "        0.01652493],\n",
       "       [0.0316646 , 0.04182127, 0.03279238, ..., 0.02633065, 0.01943572,\n",
       "        0.02506897],\n",
       "       [0.0267205 , 0.03956323, 0.04101482, ..., 0.02945183, 0.02672193,\n",
       "        0.0253132 ],\n",
       "       ...,\n",
       "       [0.05834591, 0.05786409, 0.0674255 , ..., 0.03375199, 0.04179231,\n",
       "        0.03695557],\n",
       "       [0.05270885, 0.05499405, 0.06451134, ..., 0.0254655 , 0.02812219,\n",
       "        0.02978044],\n",
       "       [0.0416375 , 0.0533443 , 0.06018749, ..., 0.01194046, 0.01986316,\n",
       "        0.02268159]], dtype=float32)"
      ]
     },
     "execution_count": 4,
     "metadata": {},
     "output_type": "execute_result"
    }
   ],
   "source": [
    "get_file_data(id)"
   ]
  },
  {
   "cell_type": "code",
   "execution_count": 5,
   "metadata": {},
   "outputs": [
    {
     "data": {
      "text/plain": [
       "PosixPath('/Users/klay6683/Dropbox/data/venim/akatsuki/ir2/calibrated/r0025/ir2_20160825_021042_202_l2b_v10.fit')"
      ]
     },
     "execution_count": 5,
     "metadata": {},
     "output_type": "execute_result"
    }
   ],
   "source": [
    "get_file_path(id)"
   ]
  },
  {
   "cell_type": "markdown",
   "metadata": {},
   "source": [
    "# orbit known, get all files"
   ]
  },
  {
   "cell_type": "code",
   "execution_count": 6,
   "metadata": {},
   "outputs": [],
   "source": [
    "orbit = 25"
   ]
  },
  {
   "cell_type": "code",
   "execution_count": 7,
   "metadata": {},
   "outputs": [],
   "source": [
    "pm = IR2PathManager(orbit=orbit)"
   ]
  },
  {
   "cell_type": "code",
   "execution_count": 8,
   "metadata": {},
   "outputs": [
    {
     "data": {
      "text/plain": [
       "'r0025'"
      ]
     },
     "execution_count": 8,
     "metadata": {},
     "output_type": "execute_result"
    }
   ],
   "source": [
    "pm.orbit  # orbit is automatically converted to the revolution string rxxx"
   ]
  },
  {
   "cell_type": "code",
   "execution_count": 9,
   "metadata": {},
   "outputs": [
    {
     "data": {
      "text/plain": [
       "PosixPath('/Users/klay6683/Dropbox/data/venim/akatsuki/ir2/calibrated/r0025')"
      ]
     },
     "execution_count": 9,
     "metadata": {},
     "output_type": "execute_result"
    }
   ],
   "source": [
    "pm.savedir  # now complete with orbit"
   ]
  },
  {
   "cell_type": "markdown",
   "metadata": {},
   "source": [
    "The pandas dataframe has now\n",
    "\n",
    "* full path as last column\n",
    "* 2 new columns wavelength and exposure"
   ]
  },
  {
   "cell_type": "code",
   "execution_count": 10,
   "metadata": {},
   "outputs": [
    {
     "data": {
      "text/html": [
       "<div>\n",
       "<style scoped>\n",
       "    .dataframe tbody tr th:only-of-type {\n",
       "        vertical-align: middle;\n",
       "    }\n",
       "\n",
       "    .dataframe tbody tr th {\n",
       "        vertical-align: top;\n",
       "    }\n",
       "\n",
       "    .dataframe thead th {\n",
       "        text-align: right;\n",
       "    }\n",
       "</style>\n",
       "<table border=\"1\" class=\"dataframe\">\n",
       "  <thead>\n",
       "    <tr style=\"text-align: right;\">\n",
       "      <th></th>\n",
       "      <th>filename</th>\n",
       "      <th>datetime</th>\n",
       "      <th>wavelength</th>\n",
       "      <th>exposure</th>\n",
       "      <th>full_path</th>\n",
       "    </tr>\n",
       "  </thead>\n",
       "  <tbody>\n",
       "    <tr>\n",
       "      <th>0</th>\n",
       "      <td>ir2_20160829_201008_202_l2b_v10.fit</td>\n",
       "      <td>2016-08-29 20:10:08</td>\n",
       "      <td>202</td>\n",
       "      <td>12.97</td>\n",
       "      <td>/Users/klay6683/Dropbox/data/venim/akatsuki/ir2/calibrated/r0025/ir2_20160829_201008_202_l2b_v10...</td>\n",
       "    </tr>\n",
       "    <tr>\n",
       "      <th>1</th>\n",
       "      <td>ir2_20160825_081015_202_l2b_v10.fit</td>\n",
       "      <td>2016-08-25 08:10:15</td>\n",
       "      <td>202</td>\n",
       "      <td>12.97</td>\n",
       "      <td>/Users/klay6683/Dropbox/data/venim/akatsuki/ir2/calibrated/r0025/ir2_20160825_081015_202_l2b_v10...</td>\n",
       "    </tr>\n",
       "    <tr>\n",
       "      <th>2</th>\n",
       "      <td>ir2_20160828_100334_226_l2b_v10.fit</td>\n",
       "      <td>2016-08-28 10:03:34</td>\n",
       "      <td>226</td>\n",
       "      <td>6.97</td>\n",
       "      <td>/Users/klay6683/Dropbox/data/venim/akatsuki/ir2/calibrated/r0025/ir2_20160828_100334_226_l2b_v10...</td>\n",
       "    </tr>\n",
       "    <tr>\n",
       "      <th>3</th>\n",
       "      <td>ir2_20160828_180211_174_l2b_v10.fit</td>\n",
       "      <td>2016-08-28 18:02:11</td>\n",
       "      <td>174</td>\n",
       "      <td>6.97</td>\n",
       "      <td>/Users/klay6683/Dropbox/data/venim/akatsuki/ir2/calibrated/r0025/ir2_20160828_180211_174_l2b_v10...</td>\n",
       "    </tr>\n",
       "    <tr>\n",
       "      <th>4</th>\n",
       "      <td>ir2_20160827_100211_174_l2b_v10.fit</td>\n",
       "      <td>2016-08-27 10:02:11</td>\n",
       "      <td>174</td>\n",
       "      <td>6.97</td>\n",
       "      <td>/Users/klay6683/Dropbox/data/venim/akatsuki/ir2/calibrated/r0025/ir2_20160827_100211_174_l2b_v10...</td>\n",
       "    </tr>\n",
       "  </tbody>\n",
       "</table>\n",
       "</div>"
      ],
      "text/plain": [
       "                              filename            datetime  wavelength  exposure                                                                                            full_path\n",
       "0  ir2_20160829_201008_202_l2b_v10.fit 2016-08-29 20:10:08         202     12.97  /Users/klay6683/Dropbox/data/venim/akatsuki/ir2/calibrated/r0025/ir2_20160829_201008_202_l2b_v10...\n",
       "1  ir2_20160825_081015_202_l2b_v10.fit 2016-08-25 08:10:15         202     12.97  /Users/klay6683/Dropbox/data/venim/akatsuki/ir2/calibrated/r0025/ir2_20160825_081015_202_l2b_v10...\n",
       "2  ir2_20160828_100334_226_l2b_v10.fit 2016-08-28 10:03:34         226      6.97  /Users/klay6683/Dropbox/data/venim/akatsuki/ir2/calibrated/r0025/ir2_20160828_100334_226_l2b_v10...\n",
       "3  ir2_20160828_180211_174_l2b_v10.fit 2016-08-28 18:02:11         174      6.97  /Users/klay6683/Dropbox/data/venim/akatsuki/ir2/calibrated/r0025/ir2_20160828_180211_174_l2b_v10...\n",
       "4  ir2_20160827_100211_174_l2b_v10.fit 2016-08-27 10:02:11         174      6.97  /Users/klay6683/Dropbox/data/venim/akatsuki/ir2/calibrated/r0025/ir2_20160827_100211_174_l2b_v10..."
      ]
     },
     "execution_count": 10,
     "metadata": {},
     "output_type": "execute_result"
    }
   ],
   "source": [
    "files = pm.list_files_for_orbit()\n",
    "files.head()"
   ]
  },
  {
   "cell_type": "code",
   "execution_count": 11,
   "metadata": {},
   "outputs": [
    {
     "data": {
      "text/plain": [
       "filename              object\n",
       "datetime      datetime64[ns]\n",
       "wavelength             int64\n",
       "exposure             float64\n",
       "full_path             object\n",
       "dtype: object"
      ]
     },
     "execution_count": 11,
     "metadata": {},
     "output_type": "execute_result"
    }
   ],
   "source": [
    "files.dtypes"
   ]
  },
  {
   "cell_type": "markdown",
   "metadata": {},
   "source": [
    "If you don't want to deal with the PathManager object, just use the new utility function `get_orbit_file_list()`"
   ]
  },
  {
   "cell_type": "code",
   "execution_count": 12,
   "metadata": {},
   "outputs": [
    {
     "data": {
      "text/html": [
       "<div>\n",
       "<style scoped>\n",
       "    .dataframe tbody tr th:only-of-type {\n",
       "        vertical-align: middle;\n",
       "    }\n",
       "\n",
       "    .dataframe tbody tr th {\n",
       "        vertical-align: top;\n",
       "    }\n",
       "\n",
       "    .dataframe thead th {\n",
       "        text-align: right;\n",
       "    }\n",
       "</style>\n",
       "<table border=\"1\" class=\"dataframe\">\n",
       "  <thead>\n",
       "    <tr style=\"text-align: right;\">\n",
       "      <th></th>\n",
       "      <th>filename</th>\n",
       "      <th>datetime</th>\n",
       "      <th>wavelength</th>\n",
       "      <th>exposure</th>\n",
       "      <th>full_path</th>\n",
       "    </tr>\n",
       "  </thead>\n",
       "  <tbody>\n",
       "    <tr>\n",
       "      <th>0</th>\n",
       "      <td>ir2_20160829_201008_202_l2b_v10.fit</td>\n",
       "      <td>2016-08-29 20:10:08</td>\n",
       "      <td>202</td>\n",
       "      <td>12.97</td>\n",
       "      <td>/Users/klay6683/Dropbox/data/venim/akatsuki/ir2/calibrated/r0025/ir2_20160829_201008_202_l2b_v10...</td>\n",
       "    </tr>\n",
       "    <tr>\n",
       "      <th>1</th>\n",
       "      <td>ir2_20160825_081015_202_l2b_v10.fit</td>\n",
       "      <td>2016-08-25 08:10:15</td>\n",
       "      <td>202</td>\n",
       "      <td>12.97</td>\n",
       "      <td>/Users/klay6683/Dropbox/data/venim/akatsuki/ir2/calibrated/r0025/ir2_20160825_081015_202_l2b_v10...</td>\n",
       "    </tr>\n",
       "    <tr>\n",
       "      <th>2</th>\n",
       "      <td>ir2_20160828_100334_226_l2b_v10.fit</td>\n",
       "      <td>2016-08-28 10:03:34</td>\n",
       "      <td>226</td>\n",
       "      <td>6.97</td>\n",
       "      <td>/Users/klay6683/Dropbox/data/venim/akatsuki/ir2/calibrated/r0025/ir2_20160828_100334_226_l2b_v10...</td>\n",
       "    </tr>\n",
       "    <tr>\n",
       "      <th>3</th>\n",
       "      <td>ir2_20160828_180211_174_l2b_v10.fit</td>\n",
       "      <td>2016-08-28 18:02:11</td>\n",
       "      <td>174</td>\n",
       "      <td>6.97</td>\n",
       "      <td>/Users/klay6683/Dropbox/data/venim/akatsuki/ir2/calibrated/r0025/ir2_20160828_180211_174_l2b_v10...</td>\n",
       "    </tr>\n",
       "    <tr>\n",
       "      <th>4</th>\n",
       "      <td>ir2_20160827_100211_174_l2b_v10.fit</td>\n",
       "      <td>2016-08-27 10:02:11</td>\n",
       "      <td>174</td>\n",
       "      <td>6.97</td>\n",
       "      <td>/Users/klay6683/Dropbox/data/venim/akatsuki/ir2/calibrated/r0025/ir2_20160827_100211_174_l2b_v10...</td>\n",
       "    </tr>\n",
       "  </tbody>\n",
       "</table>\n",
       "</div>"
      ],
      "text/plain": [
       "                              filename            datetime  wavelength  exposure                                                                                            full_path\n",
       "0  ir2_20160829_201008_202_l2b_v10.fit 2016-08-29 20:10:08         202     12.97  /Users/klay6683/Dropbox/data/venim/akatsuki/ir2/calibrated/r0025/ir2_20160829_201008_202_l2b_v10...\n",
       "1  ir2_20160825_081015_202_l2b_v10.fit 2016-08-25 08:10:15         202     12.97  /Users/klay6683/Dropbox/data/venim/akatsuki/ir2/calibrated/r0025/ir2_20160825_081015_202_l2b_v10...\n",
       "2  ir2_20160828_100334_226_l2b_v10.fit 2016-08-28 10:03:34         226      6.97  /Users/klay6683/Dropbox/data/venim/akatsuki/ir2/calibrated/r0025/ir2_20160828_100334_226_l2b_v10...\n",
       "3  ir2_20160828_180211_174_l2b_v10.fit 2016-08-28 18:02:11         174      6.97  /Users/klay6683/Dropbox/data/venim/akatsuki/ir2/calibrated/r0025/ir2_20160828_180211_174_l2b_v10...\n",
       "4  ir2_20160827_100211_174_l2b_v10.fit 2016-08-27 10:02:11         174      6.97  /Users/klay6683/Dropbox/data/venim/akatsuki/ir2/calibrated/r0025/ir2_20160827_100211_174_l2b_v10..."
      ]
     },
     "execution_count": 12,
     "metadata": {},
     "output_type": "execute_result"
    }
   ],
   "source": [
    "df = get_orbit_file_list(25)\n",
    "df.head()"
   ]
  },
  {
   "cell_type": "markdown",
   "metadata": {},
   "source": [
    "See stats on a dataframe column, use the `value_counts()` method:"
   ]
  },
  {
   "cell_type": "code",
   "execution_count": 13,
   "metadata": {},
   "outputs": [
    {
     "data": {
      "text/plain": [
       "6.97     136\n",
       "12.97    112\n",
       "Name: exposure, dtype: int64"
      ]
     },
     "execution_count": 13,
     "metadata": {},
     "output_type": "execute_result"
    }
   ],
   "source": [
    "df.exposure.value_counts()"
   ]
  },
  {
   "cell_type": "markdown",
   "metadata": {},
   "source": [
    "To filter your pandas dataframe (or numpy array) by boolean logic use so called `lazy indexing`.\n",
    "\n",
    "A logical condition returns a list of booleans of same shape as original array:"
   ]
  },
  {
   "cell_type": "code",
   "execution_count": 14,
   "metadata": {},
   "outputs": [
    {
     "data": {
      "text/plain": [
       "0      False\n",
       "1      False\n",
       "2       True\n",
       "3       True\n",
       "4       True\n",
       "       ...  \n",
       "243     True\n",
       "244    False\n",
       "245    False\n",
       "246     True\n",
       "247     True\n",
       "Name: exposure, Length: 248, dtype: bool"
      ]
     },
     "execution_count": 14,
     "metadata": {},
     "output_type": "execute_result"
    }
   ],
   "source": [
    "df.exposure < 10"
   ]
  },
  {
   "cell_type": "markdown",
   "metadata": {},
   "source": [
    "Using that within the indexing brackets of a numpy array or pandas.DataFrame returns only the rows for which the condition is true (note the exposure columns all showing values below 10 now):"
   ]
  },
  {
   "cell_type": "code",
   "execution_count": 15,
   "metadata": {},
   "outputs": [
    {
     "data": {
      "text/html": [
       "<div>\n",
       "<style scoped>\n",
       "    .dataframe tbody tr th:only-of-type {\n",
       "        vertical-align: middle;\n",
       "    }\n",
       "\n",
       "    .dataframe tbody tr th {\n",
       "        vertical-align: top;\n",
       "    }\n",
       "\n",
       "    .dataframe thead th {\n",
       "        text-align: right;\n",
       "    }\n",
       "</style>\n",
       "<table border=\"1\" class=\"dataframe\">\n",
       "  <thead>\n",
       "    <tr style=\"text-align: right;\">\n",
       "      <th></th>\n",
       "      <th>filename</th>\n",
       "      <th>datetime</th>\n",
       "      <th>wavelength</th>\n",
       "      <th>exposure</th>\n",
       "      <th>full_path</th>\n",
       "    </tr>\n",
       "  </thead>\n",
       "  <tbody>\n",
       "    <tr>\n",
       "      <th>2</th>\n",
       "      <td>ir2_20160828_100334_226_l2b_v10.fit</td>\n",
       "      <td>2016-08-28 10:03:34</td>\n",
       "      <td>226</td>\n",
       "      <td>6.97</td>\n",
       "      <td>/Users/klay6683/Dropbox/data/venim/akatsuki/ir2/calibrated/r0025/ir2_20160828_100334_226_l2b_v10...</td>\n",
       "    </tr>\n",
       "    <tr>\n",
       "      <th>3</th>\n",
       "      <td>ir2_20160828_180211_174_l2b_v10.fit</td>\n",
       "      <td>2016-08-28 18:02:11</td>\n",
       "      <td>174</td>\n",
       "      <td>6.97</td>\n",
       "      <td>/Users/klay6683/Dropbox/data/venim/akatsuki/ir2/calibrated/r0025/ir2_20160828_180211_174_l2b_v10...</td>\n",
       "    </tr>\n",
       "    <tr>\n",
       "      <th>4</th>\n",
       "      <td>ir2_20160827_100211_174_l2b_v10.fit</td>\n",
       "      <td>2016-08-27 10:02:11</td>\n",
       "      <td>174</td>\n",
       "      <td>6.97</td>\n",
       "      <td>/Users/klay6683/Dropbox/data/venim/akatsuki/ir2/calibrated/r0025/ir2_20160827_100211_174_l2b_v10...</td>\n",
       "    </tr>\n",
       "    <tr>\n",
       "      <th>6</th>\n",
       "      <td>ir2_20160827_180334_226_l2b_v10.fit</td>\n",
       "      <td>2016-08-27 18:03:34</td>\n",
       "      <td>226</td>\n",
       "      <td>6.97</td>\n",
       "      <td>/Users/klay6683/Dropbox/data/venim/akatsuki/ir2/calibrated/r0025/ir2_20160827_180334_226_l2b_v10...</td>\n",
       "    </tr>\n",
       "    <tr>\n",
       "      <th>7</th>\n",
       "      <td>ir2_20160825_021042_202_l2b_v10.fit</td>\n",
       "      <td>2016-08-25 02:10:42</td>\n",
       "      <td>202</td>\n",
       "      <td>6.97</td>\n",
       "      <td>/Users/klay6683/Dropbox/data/venim/akatsuki/ir2/calibrated/r0025/ir2_20160825_021042_202_l2b_v10...</td>\n",
       "    </tr>\n",
       "  </tbody>\n",
       "</table>\n",
       "</div>"
      ],
      "text/plain": [
       "                              filename            datetime  wavelength  exposure                                                                                            full_path\n",
       "2  ir2_20160828_100334_226_l2b_v10.fit 2016-08-28 10:03:34         226      6.97  /Users/klay6683/Dropbox/data/venim/akatsuki/ir2/calibrated/r0025/ir2_20160828_100334_226_l2b_v10...\n",
       "3  ir2_20160828_180211_174_l2b_v10.fit 2016-08-28 18:02:11         174      6.97  /Users/klay6683/Dropbox/data/venim/akatsuki/ir2/calibrated/r0025/ir2_20160828_180211_174_l2b_v10...\n",
       "4  ir2_20160827_100211_174_l2b_v10.fit 2016-08-27 10:02:11         174      6.97  /Users/klay6683/Dropbox/data/venim/akatsuki/ir2/calibrated/r0025/ir2_20160827_100211_174_l2b_v10...\n",
       "6  ir2_20160827_180334_226_l2b_v10.fit 2016-08-27 18:03:34         226      6.97  /Users/klay6683/Dropbox/data/venim/akatsuki/ir2/calibrated/r0025/ir2_20160827_180334_226_l2b_v10...\n",
       "7  ir2_20160825_021042_202_l2b_v10.fit 2016-08-25 02:10:42         202      6.97  /Users/klay6683/Dropbox/data/venim/akatsuki/ir2/calibrated/r0025/ir2_20160825_021042_202_l2b_v10..."
      ]
     },
     "execution_count": 15,
     "metadata": {},
     "output_type": "execute_result"
    }
   ],
   "source": [
    "shorter = df[df.exposure<10]\n",
    "shorter.head()"
   ]
  },
  {
   "cell_type": "markdown",
   "metadata": {},
   "source": [
    "You can combine logical searches like so (now filtering for wavelength as well:)"
   ]
  },
  {
   "cell_type": "code",
   "execution_count": 16,
   "metadata": {},
   "outputs": [
    {
     "data": {
      "text/html": [
       "<div>\n",
       "<style scoped>\n",
       "    .dataframe tbody tr th:only-of-type {\n",
       "        vertical-align: middle;\n",
       "    }\n",
       "\n",
       "    .dataframe tbody tr th {\n",
       "        vertical-align: top;\n",
       "    }\n",
       "\n",
       "    .dataframe thead th {\n",
       "        text-align: right;\n",
       "    }\n",
       "</style>\n",
       "<table border=\"1\" class=\"dataframe\">\n",
       "  <thead>\n",
       "    <tr style=\"text-align: right;\">\n",
       "      <th></th>\n",
       "      <th>filename</th>\n",
       "      <th>datetime</th>\n",
       "      <th>wavelength</th>\n",
       "      <th>exposure</th>\n",
       "      <th>full_path</th>\n",
       "    </tr>\n",
       "  </thead>\n",
       "  <tbody>\n",
       "    <tr>\n",
       "      <th>7</th>\n",
       "      <td>ir2_20160825_021042_202_l2b_v10.fit</td>\n",
       "      <td>2016-08-25 02:10:42</td>\n",
       "      <td>202</td>\n",
       "      <td>6.97</td>\n",
       "      <td>/Users/klay6683/Dropbox/data/venim/akatsuki/ir2/calibrated/r0025/ir2_20160825_021042_202_l2b_v10...</td>\n",
       "    </tr>\n",
       "    <tr>\n",
       "      <th>16</th>\n",
       "      <td>ir2_20160828_110820_202_l2b_v10.fit</td>\n",
       "      <td>2016-08-28 11:08:20</td>\n",
       "      <td>202</td>\n",
       "      <td>6.97</td>\n",
       "      <td>/Users/klay6683/Dropbox/data/venim/akatsuki/ir2/calibrated/r0025/ir2_20160828_110820_202_l2b_v10...</td>\n",
       "    </tr>\n",
       "    <tr>\n",
       "      <th>51</th>\n",
       "      <td>ir2_20160826_090820_202_l2b_v10.fit</td>\n",
       "      <td>2016-08-26 09:08:20</td>\n",
       "      <td>202</td>\n",
       "      <td>6.97</td>\n",
       "      <td>/Users/klay6683/Dropbox/data/venim/akatsuki/ir2/calibrated/r0025/ir2_20160826_090820_202_l2b_v10...</td>\n",
       "    </tr>\n",
       "    <tr>\n",
       "      <th>58</th>\n",
       "      <td>ir2_20160826_110820_202_l2b_v10.fit</td>\n",
       "      <td>2016-08-26 11:08:20</td>\n",
       "      <td>202</td>\n",
       "      <td>6.97</td>\n",
       "      <td>/Users/klay6683/Dropbox/data/venim/akatsuki/ir2/calibrated/r0025/ir2_20160826_110820_202_l2b_v10...</td>\n",
       "    </tr>\n",
       "    <tr>\n",
       "      <th>84</th>\n",
       "      <td>ir2_20160904_212542_202_l2b_v10.fit</td>\n",
       "      <td>2016-09-04 21:25:42</td>\n",
       "      <td>202</td>\n",
       "      <td>6.97</td>\n",
       "      <td>/Users/klay6683/Dropbox/data/venim/akatsuki/ir2/calibrated/r0025/ir2_20160904_212542_202_l2b_v10...</td>\n",
       "    </tr>\n",
       "  </tbody>\n",
       "</table>\n",
       "</div>"
      ],
      "text/plain": [
       "                               filename            datetime  wavelength  exposure                                                                                            full_path\n",
       "7   ir2_20160825_021042_202_l2b_v10.fit 2016-08-25 02:10:42         202      6.97  /Users/klay6683/Dropbox/data/venim/akatsuki/ir2/calibrated/r0025/ir2_20160825_021042_202_l2b_v10...\n",
       "16  ir2_20160828_110820_202_l2b_v10.fit 2016-08-28 11:08:20         202      6.97  /Users/klay6683/Dropbox/data/venim/akatsuki/ir2/calibrated/r0025/ir2_20160828_110820_202_l2b_v10...\n",
       "51  ir2_20160826_090820_202_l2b_v10.fit 2016-08-26 09:08:20         202      6.97  /Users/klay6683/Dropbox/data/venim/akatsuki/ir2/calibrated/r0025/ir2_20160826_090820_202_l2b_v10...\n",
       "58  ir2_20160826_110820_202_l2b_v10.fit 2016-08-26 11:08:20         202      6.97  /Users/klay6683/Dropbox/data/venim/akatsuki/ir2/calibrated/r0025/ir2_20160826_110820_202_l2b_v10...\n",
       "84  ir2_20160904_212542_202_l2b_v10.fit 2016-09-04 21:25:42         202      6.97  /Users/klay6683/Dropbox/data/venim/akatsuki/ir2/calibrated/r0025/ir2_20160904_212542_202_l2b_v10..."
      ]
     },
     "execution_count": 16,
     "metadata": {},
     "output_type": "execute_result"
    }
   ],
   "source": [
    "short_202s = df[(df.wavelength==202) & (df.exposure<10)]\n",
    "short_202s.head()"
   ]
  },
  {
   "cell_type": "code",
   "execution_count": null,
   "metadata": {},
   "outputs": [],
   "source": []
  }
 ],
 "metadata": {
  "kernelspec": {
   "display_name": "Python [conda env:py37] *",
   "language": "python",
   "name": "conda-env-py37-py"
  },
  "language_info": {
   "codemirror_mode": {
    "name": "ipython",
    "version": 3
   },
   "file_extension": ".py",
   "mimetype": "text/x-python",
   "name": "python",
   "nbconvert_exporter": "python",
   "pygments_lexer": "ipython3",
   "version": "3.7.6"
  }
 },
 "nbformat": 4,
 "nbformat_minor": 4
}
