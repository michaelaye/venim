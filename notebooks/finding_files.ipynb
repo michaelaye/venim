{
 "cells": [
  {
   "cell_type": "code",
   "execution_count": 1,
   "metadata": {},
   "outputs": [],
   "source": [
    "from venim.akatsuki.ir2 import (\n",
    "    get_file_header, get_orbit_file_list, getdata, get_file_data, get_file_path, IR2PathManager\n",
    ")"
   ]
  },
  {
   "cell_type": "markdown",
   "metadata": {},
   "source": [
    "## orbit unknown"
   ]
  },
  {
   "cell_type": "code",
   "execution_count": 2,
   "metadata": {},
   "outputs": [],
   "source": [
    "id = \"ir2_20160825_021042_202_l2b_v10.fit\""
   ]
  },
  {
   "cell_type": "code",
   "execution_count": 3,
   "metadata": {},
   "outputs": [
    {
     "data": {
      "text/plain": [
       "array([[0.0274001 , 0.02330993, 0.02859067, ..., 0.02331178, 0.02467787,\n",
       "        0.01652493],\n",
       "       [0.0316646 , 0.04182127, 0.03279238, ..., 0.02633065, 0.01943572,\n",
       "        0.02506897],\n",
       "       [0.0267205 , 0.03956323, 0.04101482, ..., 0.02945183, 0.02672193,\n",
       "        0.0253132 ],\n",
       "       ...,\n",
       "       [0.05834591, 0.05786409, 0.0674255 , ..., 0.03375199, 0.04179231,\n",
       "        0.03695557],\n",
       "       [0.05270885, 0.05499405, 0.06451134, ..., 0.0254655 , 0.02812219,\n",
       "        0.02978044],\n",
       "       [0.0416375 , 0.0533443 , 0.06018749, ..., 0.01194046, 0.01986316,\n",
       "        0.02268159]], dtype=float32)"
      ]
     },
     "execution_count": 3,
     "metadata": {},
     "output_type": "execute_result"
    }
   ],
   "source": [
    "get_file_data(id)"
   ]
  },
  {
   "cell_type": "code",
   "execution_count": 4,
   "metadata": {},
   "outputs": [
    {
     "data": {
      "text/plain": [
       "PosixPath('/Users/klay6683/Dropbox/data/venim/akatsuki/ir2/calibrated/r0025/ir2_20160825_021042_202_l2b_v10.fit')"
      ]
     },
     "execution_count": 4,
     "metadata": {},
     "output_type": "execute_result"
    }
   ],
   "source": [
    "get_file_path(id)"
   ]
  },
  {
   "cell_type": "markdown",
   "metadata": {},
   "source": [
    "# orbit known, get all files"
   ]
  },
  {
   "cell_type": "code",
   "execution_count": 5,
   "metadata": {},
   "outputs": [],
   "source": [
    "orbit = 25"
   ]
  },
  {
   "cell_type": "code",
   "execution_count": 6,
   "metadata": {},
   "outputs": [],
   "source": [
    "# fast\n",
    "files = get_orbit_file_list(orbit)"
   ]
  },
  {
   "cell_type": "code",
   "execution_count": 7,
   "metadata": {},
   "outputs": [],
   "source": [
    "# with pathmanager if you need to\n",
    "pm = IR2PathManager(orbit=orbit)"
   ]
  },
  {
   "cell_type": "code",
   "execution_count": 8,
   "metadata": {},
   "outputs": [
    {
     "data": {
      "text/plain": [
       "'r0025'"
      ]
     },
     "execution_count": 8,
     "metadata": {},
     "output_type": "execute_result"
    }
   ],
   "source": [
    "pm.orbit  # orbit is automatically converted to the revolution string rxxx"
   ]
  },
  {
   "cell_type": "code",
   "execution_count": 9,
   "metadata": {},
   "outputs": [
    {
     "data": {
      "text/plain": [
       "PosixPath('/Users/klay6683/Dropbox/data/venim/akatsuki/ir2/calibrated/r0025')"
      ]
     },
     "execution_count": 9,
     "metadata": {},
     "output_type": "execute_result"
    }
   ],
   "source": [
    "pm.savedir  # now complete with orbit"
   ]
  },
  {
   "cell_type": "markdown",
   "metadata": {},
   "source": [
    "The pandas dataframe has now\n",
    "\n",
    "* full path as last column\n",
    "* 2 new columns wavelength and exposure"
   ]
  },
  {
   "cell_type": "code",
   "execution_count": 10,
   "metadata": {},
   "outputs": [
    {
     "data": {
      "text/html": [
       "<div>\n",
       "<style scoped>\n",
       "    .dataframe tbody tr th:only-of-type {\n",
       "        vertical-align: middle;\n",
       "    }\n",
       "\n",
       "    .dataframe tbody tr th {\n",
       "        vertical-align: top;\n",
       "    }\n",
       "\n",
       "    .dataframe thead th {\n",
       "        text-align: right;\n",
       "    }\n",
       "</style>\n",
       "<table border=\"1\" class=\"dataframe\">\n",
       "  <thead>\n",
       "    <tr style=\"text-align: right;\">\n",
       "      <th></th>\n",
       "      <th>filename</th>\n",
       "      <th>wavelength</th>\n",
       "      <th>EXPOSURE</th>\n",
       "      <th>NAXIS1</th>\n",
       "      <th>NAXIS2</th>\n",
       "      <th>I2_T_C1</th>\n",
       "      <th>I2_T_C2</th>\n",
       "      <th>I2_T_OP</th>\n",
       "      <th>full_path</th>\n",
       "    </tr>\n",
       "    <tr>\n",
       "      <th>datetime</th>\n",
       "      <th></th>\n",
       "      <th></th>\n",
       "      <th></th>\n",
       "      <th></th>\n",
       "      <th></th>\n",
       "      <th></th>\n",
       "      <th></th>\n",
       "      <th></th>\n",
       "      <th></th>\n",
       "    </tr>\n",
       "  </thead>\n",
       "  <tbody>\n",
       "    <tr>\n",
       "      <th>2016-08-29 20:10:08</th>\n",
       "      <td>ir2_20160829_201008_202_l2b_v10.fit</td>\n",
       "      <td>202</td>\n",
       "      <td>12.97</td>\n",
       "      <td>768.0</td>\n",
       "      <td>512.0</td>\n",
       "      <td>69.29</td>\n",
       "      <td>70.05</td>\n",
       "      <td>194.35</td>\n",
       "      <td>/Users/klay6683/Dropbox/data/venim/akatsuki/ir2/calibrated/r0025/ir2_20160829_201008_202_l2b_v10...</td>\n",
       "    </tr>\n",
       "    <tr>\n",
       "      <th>2016-08-25 08:10:15</th>\n",
       "      <td>ir2_20160825_081015_202_l2b_v10.fit</td>\n",
       "      <td>202</td>\n",
       "      <td>12.97</td>\n",
       "      <td>1024.0</td>\n",
       "      <td>1024.0</td>\n",
       "      <td>66.70</td>\n",
       "      <td>67.46</td>\n",
       "      <td>183.82</td>\n",
       "      <td>/Users/klay6683/Dropbox/data/venim/akatsuki/ir2/calibrated/r0025/ir2_20160825_081015_202_l2b_v10...</td>\n",
       "    </tr>\n",
       "    <tr>\n",
       "      <th>2016-08-28 10:03:34</th>\n",
       "      <td>ir2_20160828_100334_226_l2b_v10.fit</td>\n",
       "      <td>226</td>\n",
       "      <td>6.97</td>\n",
       "      <td>768.0</td>\n",
       "      <td>640.0</td>\n",
       "      <td>66.26</td>\n",
       "      <td>67.46</td>\n",
       "      <td>186.83</td>\n",
       "      <td>/Users/klay6683/Dropbox/data/venim/akatsuki/ir2/calibrated/r0025/ir2_20160828_100334_226_l2b_v10...</td>\n",
       "    </tr>\n",
       "    <tr>\n",
       "      <th>2016-08-28 18:02:11</th>\n",
       "      <td>ir2_20160828_180211_174_l2b_v10.fit</td>\n",
       "      <td>174</td>\n",
       "      <td>6.97</td>\n",
       "      <td>768.0</td>\n",
       "      <td>640.0</td>\n",
       "      <td>68.34</td>\n",
       "      <td>68.75</td>\n",
       "      <td>192.10</td>\n",
       "      <td>/Users/klay6683/Dropbox/data/venim/akatsuki/ir2/calibrated/r0025/ir2_20160828_180211_174_l2b_v10...</td>\n",
       "    </tr>\n",
       "    <tr>\n",
       "      <th>2016-08-27 10:02:11</th>\n",
       "      <td>ir2_20160827_100211_174_l2b_v10.fit</td>\n",
       "      <td>174</td>\n",
       "      <td>6.97</td>\n",
       "      <td>768.0</td>\n",
       "      <td>640.0</td>\n",
       "      <td>65.83</td>\n",
       "      <td>66.16</td>\n",
       "      <td>185.33</td>\n",
       "      <td>/Users/klay6683/Dropbox/data/venim/akatsuki/ir2/calibrated/r0025/ir2_20160827_100211_174_l2b_v10...</td>\n",
       "    </tr>\n",
       "  </tbody>\n",
       "</table>\n",
       "</div>"
      ],
      "text/plain": [
       "                                                filename  wavelength  EXPOSURE  NAXIS1  NAXIS2  I2_T_C1  I2_T_C2  I2_T_OP  \\\n",
       "datetime                                                                                                                    \n",
       "2016-08-29 20:10:08  ir2_20160829_201008_202_l2b_v10.fit         202     12.97   768.0   512.0    69.29    70.05   194.35   \n",
       "2016-08-25 08:10:15  ir2_20160825_081015_202_l2b_v10.fit         202     12.97  1024.0  1024.0    66.70    67.46   183.82   \n",
       "2016-08-28 10:03:34  ir2_20160828_100334_226_l2b_v10.fit         226      6.97   768.0   640.0    66.26    67.46   186.83   \n",
       "2016-08-28 18:02:11  ir2_20160828_180211_174_l2b_v10.fit         174      6.97   768.0   640.0    68.34    68.75   192.10   \n",
       "2016-08-27 10:02:11  ir2_20160827_100211_174_l2b_v10.fit         174      6.97   768.0   640.0    65.83    66.16   185.33   \n",
       "\n",
       "                                                                                                               full_path  \n",
       "datetime                                                                                                                  \n",
       "2016-08-29 20:10:08  /Users/klay6683/Dropbox/data/venim/akatsuki/ir2/calibrated/r0025/ir2_20160829_201008_202_l2b_v10...  \n",
       "2016-08-25 08:10:15  /Users/klay6683/Dropbox/data/venim/akatsuki/ir2/calibrated/r0025/ir2_20160825_081015_202_l2b_v10...  \n",
       "2016-08-28 10:03:34  /Users/klay6683/Dropbox/data/venim/akatsuki/ir2/calibrated/r0025/ir2_20160828_100334_226_l2b_v10...  \n",
       "2016-08-28 18:02:11  /Users/klay6683/Dropbox/data/venim/akatsuki/ir2/calibrated/r0025/ir2_20160828_180211_174_l2b_v10...  \n",
       "2016-08-27 10:02:11  /Users/klay6683/Dropbox/data/venim/akatsuki/ir2/calibrated/r0025/ir2_20160827_100211_174_l2b_v10...  "
      ]
     },
     "execution_count": 10,
     "metadata": {},
     "output_type": "execute_result"
    }
   ],
   "source": [
    "files = pm.list_files_for_orbit()\n",
    "files.head()"
   ]
  },
  {
   "cell_type": "code",
   "execution_count": 11,
   "metadata": {},
   "outputs": [
    {
     "data": {
      "text/plain": [
       "filename       object\n",
       "wavelength      int64\n",
       "EXPOSURE      float64\n",
       "NAXIS1        float64\n",
       "NAXIS2        float64\n",
       "I2_T_C1       float64\n",
       "I2_T_C2       float64\n",
       "I2_T_OP       float64\n",
       "full_path      object\n",
       "dtype: object"
      ]
     },
     "execution_count": 11,
     "metadata": {},
     "output_type": "execute_result"
    }
   ],
   "source": [
    "files.dtypes"
   ]
  },
  {
   "cell_type": "markdown",
   "metadata": {},
   "source": [
    "See stats on a dataframe column, use the `value_counts()` method:"
   ]
  },
  {
   "cell_type": "code",
   "execution_count": 12,
   "metadata": {},
   "outputs": [
    {
     "data": {
      "text/plain": [
       "6.97     135\n",
       "12.97    112\n",
       "Name: EXPOSURE, dtype: int64"
      ]
     },
     "execution_count": 12,
     "metadata": {},
     "output_type": "execute_result"
    }
   ],
   "source": [
    "files.EXPOSURE.value_counts()"
   ]
  },
  {
   "cell_type": "markdown",
   "metadata": {},
   "source": [
    "To filter your pandas dataframe (or numpy array) by boolean logic use so called `lazy indexing`.\n",
    "\n",
    "A logical condition returns a list of booleans of same shape as original array:"
   ]
  },
  {
   "cell_type": "code",
   "execution_count": 13,
   "metadata": {},
   "outputs": [
    {
     "data": {
      "text/plain": [
       "datetime\n",
       "2016-08-29 20:10:08    False\n",
       "2016-08-25 08:10:15    False\n",
       "2016-08-28 10:03:34     True\n",
       "2016-08-28 18:02:11     True\n",
       "2016-08-27 10:02:11     True\n",
       "                       ...  \n",
       "2016-08-25 12:02:12     True\n",
       "2016-08-27 14:10:08    False\n",
       "2016-08-29 12:10:07    False\n",
       "2016-08-28 08:02:12     True\n",
       "2016-08-25 13:02:12     True\n",
       "Name: EXPOSURE, Length: 247, dtype: bool"
      ]
     },
     "execution_count": 13,
     "metadata": {},
     "output_type": "execute_result"
    }
   ],
   "source": [
    "df = files  # use previously used name for dataframe\n",
    "df.EXPOSURE < 10"
   ]
  },
  {
   "cell_type": "markdown",
   "metadata": {},
   "source": [
    "Using that within the indexing brackets of a numpy array or pandas.DataFrame returns only the rows for which the condition is true (note the exposure columns all showing values below 10 now):"
   ]
  },
  {
   "cell_type": "code",
   "execution_count": 14,
   "metadata": {},
   "outputs": [
    {
     "data": {
      "text/html": [
       "<div>\n",
       "<style scoped>\n",
       "    .dataframe tbody tr th:only-of-type {\n",
       "        vertical-align: middle;\n",
       "    }\n",
       "\n",
       "    .dataframe tbody tr th {\n",
       "        vertical-align: top;\n",
       "    }\n",
       "\n",
       "    .dataframe thead th {\n",
       "        text-align: right;\n",
       "    }\n",
       "</style>\n",
       "<table border=\"1\" class=\"dataframe\">\n",
       "  <thead>\n",
       "    <tr style=\"text-align: right;\">\n",
       "      <th></th>\n",
       "      <th>filename</th>\n",
       "      <th>wavelength</th>\n",
       "      <th>EXPOSURE</th>\n",
       "      <th>NAXIS1</th>\n",
       "      <th>NAXIS2</th>\n",
       "      <th>I2_T_C1</th>\n",
       "      <th>I2_T_C2</th>\n",
       "      <th>I2_T_OP</th>\n",
       "      <th>full_path</th>\n",
       "    </tr>\n",
       "    <tr>\n",
       "      <th>datetime</th>\n",
       "      <th></th>\n",
       "      <th></th>\n",
       "      <th></th>\n",
       "      <th></th>\n",
       "      <th></th>\n",
       "      <th></th>\n",
       "      <th></th>\n",
       "      <th></th>\n",
       "      <th></th>\n",
       "    </tr>\n",
       "  </thead>\n",
       "  <tbody>\n",
       "    <tr>\n",
       "      <th>2016-08-28 10:03:34</th>\n",
       "      <td>ir2_20160828_100334_226_l2b_v10.fit</td>\n",
       "      <td>226</td>\n",
       "      <td>6.97</td>\n",
       "      <td>768.0</td>\n",
       "      <td>640.0</td>\n",
       "      <td>66.26</td>\n",
       "      <td>67.46</td>\n",
       "      <td>186.83</td>\n",
       "      <td>/Users/klay6683/Dropbox/data/venim/akatsuki/ir2/calibrated/r0025/ir2_20160828_100334_226_l2b_v10...</td>\n",
       "    </tr>\n",
       "    <tr>\n",
       "      <th>2016-08-28 18:02:11</th>\n",
       "      <td>ir2_20160828_180211_174_l2b_v10.fit</td>\n",
       "      <td>174</td>\n",
       "      <td>6.97</td>\n",
       "      <td>768.0</td>\n",
       "      <td>640.0</td>\n",
       "      <td>68.34</td>\n",
       "      <td>68.75</td>\n",
       "      <td>192.10</td>\n",
       "      <td>/Users/klay6683/Dropbox/data/venim/akatsuki/ir2/calibrated/r0025/ir2_20160828_180211_174_l2b_v10...</td>\n",
       "    </tr>\n",
       "    <tr>\n",
       "      <th>2016-08-27 10:02:11</th>\n",
       "      <td>ir2_20160827_100211_174_l2b_v10.fit</td>\n",
       "      <td>174</td>\n",
       "      <td>6.97</td>\n",
       "      <td>768.0</td>\n",
       "      <td>640.0</td>\n",
       "      <td>65.83</td>\n",
       "      <td>66.16</td>\n",
       "      <td>185.33</td>\n",
       "      <td>/Users/klay6683/Dropbox/data/venim/akatsuki/ir2/calibrated/r0025/ir2_20160827_100211_174_l2b_v10...</td>\n",
       "    </tr>\n",
       "    <tr>\n",
       "      <th>2016-08-27 18:03:34</th>\n",
       "      <td>ir2_20160827_180334_226_l2b_v10.fit</td>\n",
       "      <td>226</td>\n",
       "      <td>6.97</td>\n",
       "      <td>768.0</td>\n",
       "      <td>640.0</td>\n",
       "      <td>67.13</td>\n",
       "      <td>67.46</td>\n",
       "      <td>189.84</td>\n",
       "      <td>/Users/klay6683/Dropbox/data/venim/akatsuki/ir2/calibrated/r0025/ir2_20160827_180334_226_l2b_v10...</td>\n",
       "    </tr>\n",
       "    <tr>\n",
       "      <th>2016-08-25 02:10:42</th>\n",
       "      <td>ir2_20160825_021042_202_l2b_v10.fit</td>\n",
       "      <td>202</td>\n",
       "      <td>6.97</td>\n",
       "      <td>1024.0</td>\n",
       "      <td>1024.0</td>\n",
       "      <td>65.14</td>\n",
       "      <td>66.16</td>\n",
       "      <td>178.56</td>\n",
       "      <td>/Users/klay6683/Dropbox/data/venim/akatsuki/ir2/calibrated/r0025/ir2_20160825_021042_202_l2b_v10...</td>\n",
       "    </tr>\n",
       "  </tbody>\n",
       "</table>\n",
       "</div>"
      ],
      "text/plain": [
       "                                                filename  wavelength  EXPOSURE  NAXIS1  NAXIS2  I2_T_C1  I2_T_C2  I2_T_OP  \\\n",
       "datetime                                                                                                                    \n",
       "2016-08-28 10:03:34  ir2_20160828_100334_226_l2b_v10.fit         226      6.97   768.0   640.0    66.26    67.46   186.83   \n",
       "2016-08-28 18:02:11  ir2_20160828_180211_174_l2b_v10.fit         174      6.97   768.0   640.0    68.34    68.75   192.10   \n",
       "2016-08-27 10:02:11  ir2_20160827_100211_174_l2b_v10.fit         174      6.97   768.0   640.0    65.83    66.16   185.33   \n",
       "2016-08-27 18:03:34  ir2_20160827_180334_226_l2b_v10.fit         226      6.97   768.0   640.0    67.13    67.46   189.84   \n",
       "2016-08-25 02:10:42  ir2_20160825_021042_202_l2b_v10.fit         202      6.97  1024.0  1024.0    65.14    66.16   178.56   \n",
       "\n",
       "                                                                                                               full_path  \n",
       "datetime                                                                                                                  \n",
       "2016-08-28 10:03:34  /Users/klay6683/Dropbox/data/venim/akatsuki/ir2/calibrated/r0025/ir2_20160828_100334_226_l2b_v10...  \n",
       "2016-08-28 18:02:11  /Users/klay6683/Dropbox/data/venim/akatsuki/ir2/calibrated/r0025/ir2_20160828_180211_174_l2b_v10...  \n",
       "2016-08-27 10:02:11  /Users/klay6683/Dropbox/data/venim/akatsuki/ir2/calibrated/r0025/ir2_20160827_100211_174_l2b_v10...  \n",
       "2016-08-27 18:03:34  /Users/klay6683/Dropbox/data/venim/akatsuki/ir2/calibrated/r0025/ir2_20160827_180334_226_l2b_v10...  \n",
       "2016-08-25 02:10:42  /Users/klay6683/Dropbox/data/venim/akatsuki/ir2/calibrated/r0025/ir2_20160825_021042_202_l2b_v10...  "
      ]
     },
     "execution_count": 14,
     "metadata": {},
     "output_type": "execute_result"
    }
   ],
   "source": [
    "shorter = df[df.EXPOSURE<10]\n",
    "shorter.head()"
   ]
  },
  {
   "cell_type": "markdown",
   "metadata": {},
   "source": [
    "You can combine logical searches like so (now filtering for wavelength as well:)"
   ]
  },
  {
   "cell_type": "code",
   "execution_count": 15,
   "metadata": {},
   "outputs": [
    {
     "data": {
      "text/html": [
       "<div>\n",
       "<style scoped>\n",
       "    .dataframe tbody tr th:only-of-type {\n",
       "        vertical-align: middle;\n",
       "    }\n",
       "\n",
       "    .dataframe tbody tr th {\n",
       "        vertical-align: top;\n",
       "    }\n",
       "\n",
       "    .dataframe thead th {\n",
       "        text-align: right;\n",
       "    }\n",
       "</style>\n",
       "<table border=\"1\" class=\"dataframe\">\n",
       "  <thead>\n",
       "    <tr style=\"text-align: right;\">\n",
       "      <th></th>\n",
       "      <th>filename</th>\n",
       "      <th>wavelength</th>\n",
       "      <th>EXPOSURE</th>\n",
       "      <th>NAXIS1</th>\n",
       "      <th>NAXIS2</th>\n",
       "      <th>I2_T_C1</th>\n",
       "      <th>I2_T_C2</th>\n",
       "      <th>I2_T_OP</th>\n",
       "      <th>full_path</th>\n",
       "    </tr>\n",
       "    <tr>\n",
       "      <th>datetime</th>\n",
       "      <th></th>\n",
       "      <th></th>\n",
       "      <th></th>\n",
       "      <th></th>\n",
       "      <th></th>\n",
       "      <th></th>\n",
       "      <th></th>\n",
       "      <th></th>\n",
       "      <th></th>\n",
       "    </tr>\n",
       "  </thead>\n",
       "  <tbody>\n",
       "    <tr>\n",
       "      <th>2016-08-25 02:10:42</th>\n",
       "      <td>ir2_20160825_021042_202_l2b_v10.fit</td>\n",
       "      <td>202</td>\n",
       "      <td>6.97</td>\n",
       "      <td>1024.0</td>\n",
       "      <td>1024.0</td>\n",
       "      <td>65.14</td>\n",
       "      <td>66.16</td>\n",
       "      <td>178.56</td>\n",
       "      <td>/Users/klay6683/Dropbox/data/venim/akatsuki/ir2/calibrated/r0025/ir2_20160825_021042_202_l2b_v10...</td>\n",
       "    </tr>\n",
       "    <tr>\n",
       "      <th>2016-08-28 11:08:20</th>\n",
       "      <td>ir2_20160828_110820_202_l2b_v10.fit</td>\n",
       "      <td>202</td>\n",
       "      <td>6.97</td>\n",
       "      <td>768.0</td>\n",
       "      <td>640.0</td>\n",
       "      <td>66.78</td>\n",
       "      <td>67.46</td>\n",
       "      <td>187.58</td>\n",
       "      <td>/Users/klay6683/Dropbox/data/venim/akatsuki/ir2/calibrated/r0025/ir2_20160828_110820_202_l2b_v10...</td>\n",
       "    </tr>\n",
       "    <tr>\n",
       "      <th>2016-08-26 09:08:20</th>\n",
       "      <td>ir2_20160826_090820_202_l2b_v10.fit</td>\n",
       "      <td>202</td>\n",
       "      <td>6.97</td>\n",
       "      <td>1024.0</td>\n",
       "      <td>640.0</td>\n",
       "      <td>65.31</td>\n",
       "      <td>66.16</td>\n",
       "      <td>183.82</td>\n",
       "      <td>/Users/klay6683/Dropbox/data/venim/akatsuki/ir2/calibrated/r0025/ir2_20160826_090820_202_l2b_v10...</td>\n",
       "    </tr>\n",
       "    <tr>\n",
       "      <th>2016-08-26 11:08:20</th>\n",
       "      <td>ir2_20160826_110820_202_l2b_v10.fit</td>\n",
       "      <td>202</td>\n",
       "      <td>6.97</td>\n",
       "      <td>1024.0</td>\n",
       "      <td>640.0</td>\n",
       "      <td>65.74</td>\n",
       "      <td>66.16</td>\n",
       "      <td>184.58</td>\n",
       "      <td>/Users/klay6683/Dropbox/data/venim/akatsuki/ir2/calibrated/r0025/ir2_20160826_110820_202_l2b_v10...</td>\n",
       "    </tr>\n",
       "    <tr>\n",
       "      <th>2016-09-04 21:25:42</th>\n",
       "      <td>ir2_20160904_212542_202_l2b_v10.fit</td>\n",
       "      <td>202</td>\n",
       "      <td>6.97</td>\n",
       "      <td>1024.0</td>\n",
       "      <td>1024.0</td>\n",
       "      <td>70.68</td>\n",
       "      <td>73.94</td>\n",
       "      <td>200.37</td>\n",
       "      <td>/Users/klay6683/Dropbox/data/venim/akatsuki/ir2/calibrated/r0025/ir2_20160904_212542_202_l2b_v10...</td>\n",
       "    </tr>\n",
       "  </tbody>\n",
       "</table>\n",
       "</div>"
      ],
      "text/plain": [
       "                                                filename  wavelength  EXPOSURE  NAXIS1  NAXIS2  I2_T_C1  I2_T_C2  I2_T_OP  \\\n",
       "datetime                                                                                                                    \n",
       "2016-08-25 02:10:42  ir2_20160825_021042_202_l2b_v10.fit         202      6.97  1024.0  1024.0    65.14    66.16   178.56   \n",
       "2016-08-28 11:08:20  ir2_20160828_110820_202_l2b_v10.fit         202      6.97   768.0   640.0    66.78    67.46   187.58   \n",
       "2016-08-26 09:08:20  ir2_20160826_090820_202_l2b_v10.fit         202      6.97  1024.0   640.0    65.31    66.16   183.82   \n",
       "2016-08-26 11:08:20  ir2_20160826_110820_202_l2b_v10.fit         202      6.97  1024.0   640.0    65.74    66.16   184.58   \n",
       "2016-09-04 21:25:42  ir2_20160904_212542_202_l2b_v10.fit         202      6.97  1024.0  1024.0    70.68    73.94   200.37   \n",
       "\n",
       "                                                                                                               full_path  \n",
       "datetime                                                                                                                  \n",
       "2016-08-25 02:10:42  /Users/klay6683/Dropbox/data/venim/akatsuki/ir2/calibrated/r0025/ir2_20160825_021042_202_l2b_v10...  \n",
       "2016-08-28 11:08:20  /Users/klay6683/Dropbox/data/venim/akatsuki/ir2/calibrated/r0025/ir2_20160828_110820_202_l2b_v10...  \n",
       "2016-08-26 09:08:20  /Users/klay6683/Dropbox/data/venim/akatsuki/ir2/calibrated/r0025/ir2_20160826_090820_202_l2b_v10...  \n",
       "2016-08-26 11:08:20  /Users/klay6683/Dropbox/data/venim/akatsuki/ir2/calibrated/r0025/ir2_20160826_110820_202_l2b_v10...  \n",
       "2016-09-04 21:25:42  /Users/klay6683/Dropbox/data/venim/akatsuki/ir2/calibrated/r0025/ir2_20160904_212542_202_l2b_v10...  "
      ]
     },
     "execution_count": 15,
     "metadata": {},
     "output_type": "execute_result"
    }
   ],
   "source": [
    "short_202s = df[(df.wavelength==202) & (df.EXPOSURE<10)]\n",
    "short_202s.head()"
   ]
  },
  {
   "cell_type": "code",
   "execution_count": null,
   "metadata": {},
   "outputs": [],
   "source": []
  }
 ],
 "metadata": {
  "kernelspec": {
   "display_name": "Python [conda env:py37] *",
   "language": "python",
   "name": "conda-env-py37-py"
  },
  "language_info": {
   "codemirror_mode": {
    "name": "ipython",
    "version": 3
   },
   "file_extension": ".py",
   "mimetype": "text/x-python",
   "name": "python",
   "nbconvert_exporter": "python",
   "pygments_lexer": "ipython3",
   "version": "3.7.6"
  }
 },
 "nbformat": 4,
 "nbformat_minor": 4
}
