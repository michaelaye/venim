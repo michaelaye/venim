{
 "cells": [
  {
   "cell_type": "code",
   "execution_count": 1,
   "metadata": {},
   "outputs": [],
   "source": [
    "from venim.akatsuki.ir2 import IR2PathManager, get_orbit_file_list"
   ]
  },
  {
   "cell_type": "code",
   "execution_count": 2,
   "metadata": {},
   "outputs": [],
   "source": [
    "orbit = 25"
   ]
  },
  {
   "cell_type": "code",
   "execution_count": 3,
   "metadata": {},
   "outputs": [],
   "source": [
    "pm = IR2PathManager(orbit=orbit)"
   ]
  },
  {
   "cell_type": "code",
   "execution_count": 4,
   "metadata": {},
   "outputs": [
    {
     "data": {
      "text/plain": [
       "'r0025'"
      ]
     },
     "execution_count": 4,
     "metadata": {},
     "output_type": "execute_result"
    }
   ],
   "source": [
    "pm.orbit  # orbit is automatically converted to the revolution string rxxx"
   ]
  },
  {
   "cell_type": "code",
   "execution_count": 5,
   "metadata": {},
   "outputs": [
    {
     "data": {
      "text/plain": [
       "PosixPath('/Users/klay6683/Dropbox/data/venim/akatsuki/ir2/calibrated/r0025')"
      ]
     },
     "execution_count": 5,
     "metadata": {},
     "output_type": "execute_result"
    }
   ],
   "source": [
    "pm.savedir  # now complete with orbit"
   ]
  },
  {
   "cell_type": "markdown",
   "metadata": {},
   "source": [
    "The pandas dataframe has now\n",
    "\n",
    "* full path as last column\n",
    "* 2 new columns wavelength and exposure"
   ]
  },
  {
   "cell_type": "code",
   "execution_count": 6,
   "metadata": {},
   "outputs": [
    {
     "data": {
      "text/html": [
       "<div>\n",
       "<style scoped>\n",
       "    .dataframe tbody tr th:only-of-type {\n",
       "        vertical-align: middle;\n",
       "    }\n",
       "\n",
       "    .dataframe tbody tr th {\n",
       "        vertical-align: top;\n",
       "    }\n",
       "\n",
       "    .dataframe thead th {\n",
       "        text-align: right;\n",
       "    }\n",
       "</style>\n",
       "<table border=\"1\" class=\"dataframe\">\n",
       "  <thead>\n",
       "    <tr style=\"text-align: right;\">\n",
       "      <th></th>\n",
       "      <th>filename</th>\n",
       "      <th>datetime</th>\n",
       "      <th>wavelength</th>\n",
       "      <th>exposure</th>\n",
       "      <th>full_path</th>\n",
       "    </tr>\n",
       "  </thead>\n",
       "  <tbody>\n",
       "    <tr>\n",
       "      <th>0</th>\n",
       "      <td>ir2_20160829_201008_202_l2b_v10.fit</td>\n",
       "      <td>2016-08-29 20:10:08</td>\n",
       "      <td>202</td>\n",
       "      <td>12.97</td>\n",
       "      <td>/Users/klay6683/Dropbox/data/venim/akatsuki/ir2/calibrated/r0025/ir2_20160829_201008_202_l2b_v10...</td>\n",
       "    </tr>\n",
       "    <tr>\n",
       "      <th>1</th>\n",
       "      <td>ir2_20160825_081015_202_l2b_v10.fit</td>\n",
       "      <td>2016-08-25 08:10:15</td>\n",
       "      <td>202</td>\n",
       "      <td>12.97</td>\n",
       "      <td>/Users/klay6683/Dropbox/data/venim/akatsuki/ir2/calibrated/r0025/ir2_20160825_081015_202_l2b_v10...</td>\n",
       "    </tr>\n",
       "    <tr>\n",
       "      <th>2</th>\n",
       "      <td>ir2_20160828_100334_226_l2b_v10.fit</td>\n",
       "      <td>2016-08-28 10:03:34</td>\n",
       "      <td>226</td>\n",
       "      <td>6.97</td>\n",
       "      <td>/Users/klay6683/Dropbox/data/venim/akatsuki/ir2/calibrated/r0025/ir2_20160828_100334_226_l2b_v10...</td>\n",
       "    </tr>\n",
       "    <tr>\n",
       "      <th>3</th>\n",
       "      <td>ir2_20160828_180211_174_l2b_v10.fit</td>\n",
       "      <td>2016-08-28 18:02:11</td>\n",
       "      <td>174</td>\n",
       "      <td>6.97</td>\n",
       "      <td>/Users/klay6683/Dropbox/data/venim/akatsuki/ir2/calibrated/r0025/ir2_20160828_180211_174_l2b_v10...</td>\n",
       "    </tr>\n",
       "    <tr>\n",
       "      <th>4</th>\n",
       "      <td>ir2_20160827_100211_174_l2b_v10.fit</td>\n",
       "      <td>2016-08-27 10:02:11</td>\n",
       "      <td>174</td>\n",
       "      <td>6.97</td>\n",
       "      <td>/Users/klay6683/Dropbox/data/venim/akatsuki/ir2/calibrated/r0025/ir2_20160827_100211_174_l2b_v10...</td>\n",
       "    </tr>\n",
       "  </tbody>\n",
       "</table>\n",
       "</div>"
      ],
      "text/plain": [
       "                              filename            datetime  wavelength  exposure                                                                                            full_path\n",
       "0  ir2_20160829_201008_202_l2b_v10.fit 2016-08-29 20:10:08         202     12.97  /Users/klay6683/Dropbox/data/venim/akatsuki/ir2/calibrated/r0025/ir2_20160829_201008_202_l2b_v10...\n",
       "1  ir2_20160825_081015_202_l2b_v10.fit 2016-08-25 08:10:15         202     12.97  /Users/klay6683/Dropbox/data/venim/akatsuki/ir2/calibrated/r0025/ir2_20160825_081015_202_l2b_v10...\n",
       "2  ir2_20160828_100334_226_l2b_v10.fit 2016-08-28 10:03:34         226      6.97  /Users/klay6683/Dropbox/data/venim/akatsuki/ir2/calibrated/r0025/ir2_20160828_100334_226_l2b_v10...\n",
       "3  ir2_20160828_180211_174_l2b_v10.fit 2016-08-28 18:02:11         174      6.97  /Users/klay6683/Dropbox/data/venim/akatsuki/ir2/calibrated/r0025/ir2_20160828_180211_174_l2b_v10...\n",
       "4  ir2_20160827_100211_174_l2b_v10.fit 2016-08-27 10:02:11         174      6.97  /Users/klay6683/Dropbox/data/venim/akatsuki/ir2/calibrated/r0025/ir2_20160827_100211_174_l2b_v10..."
      ]
     },
     "execution_count": 6,
     "metadata": {},
     "output_type": "execute_result"
    }
   ],
   "source": [
    "files = pm.list_files_for_orbit()\n",
    "files.head()"
   ]
  },
  {
   "cell_type": "code",
   "execution_count": 7,
   "metadata": {},
   "outputs": [
    {
     "data": {
      "text/plain": [
       "filename              object\n",
       "datetime      datetime64[ns]\n",
       "wavelength             int64\n",
       "exposure             float64\n",
       "full_path             object\n",
       "dtype: object"
      ]
     },
     "execution_count": 7,
     "metadata": {},
     "output_type": "execute_result"
    }
   ],
   "source": [
    "files.dtypes"
   ]
  },
  {
   "cell_type": "markdown",
   "metadata": {},
   "source": [
    "If you don't want to deal with the PathManager object, just use the new utility function `get_orbit_file_list()`"
   ]
  },
  {
   "cell_type": "code",
   "execution_count": 8,
   "metadata": {},
   "outputs": [
    {
     "data": {
      "text/html": [
       "<div>\n",
       "<style scoped>\n",
       "    .dataframe tbody tr th:only-of-type {\n",
       "        vertical-align: middle;\n",
       "    }\n",
       "\n",
       "    .dataframe tbody tr th {\n",
       "        vertical-align: top;\n",
       "    }\n",
       "\n",
       "    .dataframe thead th {\n",
       "        text-align: right;\n",
       "    }\n",
       "</style>\n",
       "<table border=\"1\" class=\"dataframe\">\n",
       "  <thead>\n",
       "    <tr style=\"text-align: right;\">\n",
       "      <th></th>\n",
       "      <th>filename</th>\n",
       "      <th>datetime</th>\n",
       "      <th>wavelength</th>\n",
       "      <th>exposure</th>\n",
       "      <th>full_path</th>\n",
       "    </tr>\n",
       "  </thead>\n",
       "  <tbody>\n",
       "    <tr>\n",
       "      <th>0</th>\n",
       "      <td>ir2_20160829_201008_202_l2b_v10.fit</td>\n",
       "      <td>2016-08-29 20:10:08</td>\n",
       "      <td>202</td>\n",
       "      <td>12.97</td>\n",
       "      <td>/Users/klay6683/Dropbox/data/venim/akatsuki/ir2/calibrated/r0025/ir2_20160829_201008_202_l2b_v10...</td>\n",
       "    </tr>\n",
       "    <tr>\n",
       "      <th>1</th>\n",
       "      <td>ir2_20160825_081015_202_l2b_v10.fit</td>\n",
       "      <td>2016-08-25 08:10:15</td>\n",
       "      <td>202</td>\n",
       "      <td>12.97</td>\n",
       "      <td>/Users/klay6683/Dropbox/data/venim/akatsuki/ir2/calibrated/r0025/ir2_20160825_081015_202_l2b_v10...</td>\n",
       "    </tr>\n",
       "    <tr>\n",
       "      <th>2</th>\n",
       "      <td>ir2_20160828_100334_226_l2b_v10.fit</td>\n",
       "      <td>2016-08-28 10:03:34</td>\n",
       "      <td>226</td>\n",
       "      <td>6.97</td>\n",
       "      <td>/Users/klay6683/Dropbox/data/venim/akatsuki/ir2/calibrated/r0025/ir2_20160828_100334_226_l2b_v10...</td>\n",
       "    </tr>\n",
       "    <tr>\n",
       "      <th>3</th>\n",
       "      <td>ir2_20160828_180211_174_l2b_v10.fit</td>\n",
       "      <td>2016-08-28 18:02:11</td>\n",
       "      <td>174</td>\n",
       "      <td>6.97</td>\n",
       "      <td>/Users/klay6683/Dropbox/data/venim/akatsuki/ir2/calibrated/r0025/ir2_20160828_180211_174_l2b_v10...</td>\n",
       "    </tr>\n",
       "    <tr>\n",
       "      <th>4</th>\n",
       "      <td>ir2_20160827_100211_174_l2b_v10.fit</td>\n",
       "      <td>2016-08-27 10:02:11</td>\n",
       "      <td>174</td>\n",
       "      <td>6.97</td>\n",
       "      <td>/Users/klay6683/Dropbox/data/venim/akatsuki/ir2/calibrated/r0025/ir2_20160827_100211_174_l2b_v10...</td>\n",
       "    </tr>\n",
       "  </tbody>\n",
       "</table>\n",
       "</div>"
      ],
      "text/plain": [
       "                              filename            datetime  wavelength  exposure                                                                                            full_path\n",
       "0  ir2_20160829_201008_202_l2b_v10.fit 2016-08-29 20:10:08         202     12.97  /Users/klay6683/Dropbox/data/venim/akatsuki/ir2/calibrated/r0025/ir2_20160829_201008_202_l2b_v10...\n",
       "1  ir2_20160825_081015_202_l2b_v10.fit 2016-08-25 08:10:15         202     12.97  /Users/klay6683/Dropbox/data/venim/akatsuki/ir2/calibrated/r0025/ir2_20160825_081015_202_l2b_v10...\n",
       "2  ir2_20160828_100334_226_l2b_v10.fit 2016-08-28 10:03:34         226      6.97  /Users/klay6683/Dropbox/data/venim/akatsuki/ir2/calibrated/r0025/ir2_20160828_100334_226_l2b_v10...\n",
       "3  ir2_20160828_180211_174_l2b_v10.fit 2016-08-28 18:02:11         174      6.97  /Users/klay6683/Dropbox/data/venim/akatsuki/ir2/calibrated/r0025/ir2_20160828_180211_174_l2b_v10...\n",
       "4  ir2_20160827_100211_174_l2b_v10.fit 2016-08-27 10:02:11         174      6.97  /Users/klay6683/Dropbox/data/venim/akatsuki/ir2/calibrated/r0025/ir2_20160827_100211_174_l2b_v10..."
      ]
     },
     "execution_count": 8,
     "metadata": {},
     "output_type": "execute_result"
    }
   ],
   "source": [
    "df = get_orbit_file_list(25)\n",
    "df.head()"
   ]
  },
  {
   "cell_type": "markdown",
   "metadata": {},
   "source": [
    "See stats on a dataframe column, use the `value_counts()` method:"
   ]
  },
  {
   "cell_type": "code",
   "execution_count": 9,
   "metadata": {},
   "outputs": [
    {
     "data": {
      "text/plain": [
       "6.97     136\n",
       "12.97    112\n",
       "Name: exposure, dtype: int64"
      ]
     },
     "execution_count": 9,
     "metadata": {},
     "output_type": "execute_result"
    }
   ],
   "source": [
    "df.exposure.value_counts()"
   ]
  },
  {
   "cell_type": "markdown",
   "metadata": {},
   "source": [
    "To filter your pandas dataframe (or numpy array) by boolean logic use so called `lazy indexing`.\n",
    "\n",
    "A logical condition returns a list of booleans of same shape as original array:"
   ]
  },
  {
   "cell_type": "code",
   "execution_count": 10,
   "metadata": {},
   "outputs": [
    {
     "data": {
      "text/plain": [
       "0      False\n",
       "1      False\n",
       "2       True\n",
       "3       True\n",
       "4       True\n",
       "       ...  \n",
       "243     True\n",
       "244    False\n",
       "245    False\n",
       "246     True\n",
       "247     True\n",
       "Name: exposure, Length: 248, dtype: bool"
      ]
     },
     "execution_count": 10,
     "metadata": {},
     "output_type": "execute_result"
    }
   ],
   "source": [
    "df.exposure < 10"
   ]
  },
  {
   "cell_type": "markdown",
   "metadata": {},
   "source": [
    "Using that within the indexing brackets of a numpy array or pandas.DataFrame returns only the rows for which the condition is true (note the exposure columns all showing values below 10 now):"
   ]
  },
  {
   "cell_type": "code",
   "execution_count": 11,
   "metadata": {},
   "outputs": [
    {
     "data": {
      "text/html": [
       "<div>\n",
       "<style scoped>\n",
       "    .dataframe tbody tr th:only-of-type {\n",
       "        vertical-align: middle;\n",
       "    }\n",
       "\n",
       "    .dataframe tbody tr th {\n",
       "        vertical-align: top;\n",
       "    }\n",
       "\n",
       "    .dataframe thead th {\n",
       "        text-align: right;\n",
       "    }\n",
       "</style>\n",
       "<table border=\"1\" class=\"dataframe\">\n",
       "  <thead>\n",
       "    <tr style=\"text-align: right;\">\n",
       "      <th></th>\n",
       "      <th>filename</th>\n",
       "      <th>datetime</th>\n",
       "      <th>wavelength</th>\n",
       "      <th>exposure</th>\n",
       "      <th>full_path</th>\n",
       "    </tr>\n",
       "  </thead>\n",
       "  <tbody>\n",
       "    <tr>\n",
       "      <th>2</th>\n",
       "      <td>ir2_20160828_100334_226_l2b_v10.fit</td>\n",
       "      <td>2016-08-28 10:03:34</td>\n",
       "      <td>226</td>\n",
       "      <td>6.97</td>\n",
       "      <td>/Users/klay6683/Dropbox/data/venim/akatsuki/ir2/calibrated/r0025/ir2_20160828_100334_226_l2b_v10...</td>\n",
       "    </tr>\n",
       "    <tr>\n",
       "      <th>3</th>\n",
       "      <td>ir2_20160828_180211_174_l2b_v10.fit</td>\n",
       "      <td>2016-08-28 18:02:11</td>\n",
       "      <td>174</td>\n",
       "      <td>6.97</td>\n",
       "      <td>/Users/klay6683/Dropbox/data/venim/akatsuki/ir2/calibrated/r0025/ir2_20160828_180211_174_l2b_v10...</td>\n",
       "    </tr>\n",
       "    <tr>\n",
       "      <th>4</th>\n",
       "      <td>ir2_20160827_100211_174_l2b_v10.fit</td>\n",
       "      <td>2016-08-27 10:02:11</td>\n",
       "      <td>174</td>\n",
       "      <td>6.97</td>\n",
       "      <td>/Users/klay6683/Dropbox/data/venim/akatsuki/ir2/calibrated/r0025/ir2_20160827_100211_174_l2b_v10...</td>\n",
       "    </tr>\n",
       "    <tr>\n",
       "      <th>6</th>\n",
       "      <td>ir2_20160827_180334_226_l2b_v10.fit</td>\n",
       "      <td>2016-08-27 18:03:34</td>\n",
       "      <td>226</td>\n",
       "      <td>6.97</td>\n",
       "      <td>/Users/klay6683/Dropbox/data/venim/akatsuki/ir2/calibrated/r0025/ir2_20160827_180334_226_l2b_v10...</td>\n",
       "    </tr>\n",
       "    <tr>\n",
       "      <th>7</th>\n",
       "      <td>ir2_20160825_021042_202_l2b_v10.fit</td>\n",
       "      <td>2016-08-25 02:10:42</td>\n",
       "      <td>202</td>\n",
       "      <td>6.97</td>\n",
       "      <td>/Users/klay6683/Dropbox/data/venim/akatsuki/ir2/calibrated/r0025/ir2_20160825_021042_202_l2b_v10...</td>\n",
       "    </tr>\n",
       "  </tbody>\n",
       "</table>\n",
       "</div>"
      ],
      "text/plain": [
       "                              filename            datetime  wavelength  exposure                                                                                            full_path\n",
       "2  ir2_20160828_100334_226_l2b_v10.fit 2016-08-28 10:03:34         226      6.97  /Users/klay6683/Dropbox/data/venim/akatsuki/ir2/calibrated/r0025/ir2_20160828_100334_226_l2b_v10...\n",
       "3  ir2_20160828_180211_174_l2b_v10.fit 2016-08-28 18:02:11         174      6.97  /Users/klay6683/Dropbox/data/venim/akatsuki/ir2/calibrated/r0025/ir2_20160828_180211_174_l2b_v10...\n",
       "4  ir2_20160827_100211_174_l2b_v10.fit 2016-08-27 10:02:11         174      6.97  /Users/klay6683/Dropbox/data/venim/akatsuki/ir2/calibrated/r0025/ir2_20160827_100211_174_l2b_v10...\n",
       "6  ir2_20160827_180334_226_l2b_v10.fit 2016-08-27 18:03:34         226      6.97  /Users/klay6683/Dropbox/data/venim/akatsuki/ir2/calibrated/r0025/ir2_20160827_180334_226_l2b_v10...\n",
       "7  ir2_20160825_021042_202_l2b_v10.fit 2016-08-25 02:10:42         202      6.97  /Users/klay6683/Dropbox/data/venim/akatsuki/ir2/calibrated/r0025/ir2_20160825_021042_202_l2b_v10..."
      ]
     },
     "execution_count": 11,
     "metadata": {},
     "output_type": "execute_result"
    }
   ],
   "source": [
    "shorter = df[df.exposure<10]\n",
    "shorter.head()"
   ]
  },
  {
   "cell_type": "markdown",
   "metadata": {},
   "source": [
    "You can combine logical searches like so (now filtering for wavelength as well:)"
   ]
  },
  {
   "cell_type": "code",
   "execution_count": 12,
   "metadata": {},
   "outputs": [
    {
     "data": {
      "text/html": [
       "<div>\n",
       "<style scoped>\n",
       "    .dataframe tbody tr th:only-of-type {\n",
       "        vertical-align: middle;\n",
       "    }\n",
       "\n",
       "    .dataframe tbody tr th {\n",
       "        vertical-align: top;\n",
       "    }\n",
       "\n",
       "    .dataframe thead th {\n",
       "        text-align: right;\n",
       "    }\n",
       "</style>\n",
       "<table border=\"1\" class=\"dataframe\">\n",
       "  <thead>\n",
       "    <tr style=\"text-align: right;\">\n",
       "      <th></th>\n",
       "      <th>filename</th>\n",
       "      <th>datetime</th>\n",
       "      <th>wavelength</th>\n",
       "      <th>exposure</th>\n",
       "      <th>full_path</th>\n",
       "    </tr>\n",
       "  </thead>\n",
       "  <tbody>\n",
       "    <tr>\n",
       "      <th>7</th>\n",
       "      <td>ir2_20160825_021042_202_l2b_v10.fit</td>\n",
       "      <td>2016-08-25 02:10:42</td>\n",
       "      <td>202</td>\n",
       "      <td>6.97</td>\n",
       "      <td>/Users/klay6683/Dropbox/data/venim/akatsuki/ir2/calibrated/r0025/ir2_20160825_021042_202_l2b_v10...</td>\n",
       "    </tr>\n",
       "    <tr>\n",
       "      <th>16</th>\n",
       "      <td>ir2_20160828_110820_202_l2b_v10.fit</td>\n",
       "      <td>2016-08-28 11:08:20</td>\n",
       "      <td>202</td>\n",
       "      <td>6.97</td>\n",
       "      <td>/Users/klay6683/Dropbox/data/venim/akatsuki/ir2/calibrated/r0025/ir2_20160828_110820_202_l2b_v10...</td>\n",
       "    </tr>\n",
       "    <tr>\n",
       "      <th>51</th>\n",
       "      <td>ir2_20160826_090820_202_l2b_v10.fit</td>\n",
       "      <td>2016-08-26 09:08:20</td>\n",
       "      <td>202</td>\n",
       "      <td>6.97</td>\n",
       "      <td>/Users/klay6683/Dropbox/data/venim/akatsuki/ir2/calibrated/r0025/ir2_20160826_090820_202_l2b_v10...</td>\n",
       "    </tr>\n",
       "    <tr>\n",
       "      <th>58</th>\n",
       "      <td>ir2_20160826_110820_202_l2b_v10.fit</td>\n",
       "      <td>2016-08-26 11:08:20</td>\n",
       "      <td>202</td>\n",
       "      <td>6.97</td>\n",
       "      <td>/Users/klay6683/Dropbox/data/venim/akatsuki/ir2/calibrated/r0025/ir2_20160826_110820_202_l2b_v10...</td>\n",
       "    </tr>\n",
       "    <tr>\n",
       "      <th>84</th>\n",
       "      <td>ir2_20160904_212542_202_l2b_v10.fit</td>\n",
       "      <td>2016-09-04 21:25:42</td>\n",
       "      <td>202</td>\n",
       "      <td>6.97</td>\n",
       "      <td>/Users/klay6683/Dropbox/data/venim/akatsuki/ir2/calibrated/r0025/ir2_20160904_212542_202_l2b_v10...</td>\n",
       "    </tr>\n",
       "  </tbody>\n",
       "</table>\n",
       "</div>"
      ],
      "text/plain": [
       "                               filename            datetime  wavelength  exposure                                                                                            full_path\n",
       "7   ir2_20160825_021042_202_l2b_v10.fit 2016-08-25 02:10:42         202      6.97  /Users/klay6683/Dropbox/data/venim/akatsuki/ir2/calibrated/r0025/ir2_20160825_021042_202_l2b_v10...\n",
       "16  ir2_20160828_110820_202_l2b_v10.fit 2016-08-28 11:08:20         202      6.97  /Users/klay6683/Dropbox/data/venim/akatsuki/ir2/calibrated/r0025/ir2_20160828_110820_202_l2b_v10...\n",
       "51  ir2_20160826_090820_202_l2b_v10.fit 2016-08-26 09:08:20         202      6.97  /Users/klay6683/Dropbox/data/venim/akatsuki/ir2/calibrated/r0025/ir2_20160826_090820_202_l2b_v10...\n",
       "58  ir2_20160826_110820_202_l2b_v10.fit 2016-08-26 11:08:20         202      6.97  /Users/klay6683/Dropbox/data/venim/akatsuki/ir2/calibrated/r0025/ir2_20160826_110820_202_l2b_v10...\n",
       "84  ir2_20160904_212542_202_l2b_v10.fit 2016-09-04 21:25:42         202      6.97  /Users/klay6683/Dropbox/data/venim/akatsuki/ir2/calibrated/r0025/ir2_20160904_212542_202_l2b_v10..."
      ]
     },
     "execution_count": 12,
     "metadata": {},
     "output_type": "execute_result"
    }
   ],
   "source": [
    "short_202s = df[(df.wavelength==202) & (df.exposure<10)]\n",
    "short_202s.head()"
   ]
  },
  {
   "cell_type": "code",
   "execution_count": null,
   "metadata": {},
   "outputs": [],
   "source": []
  }
 ],
 "metadata": {
  "kernelspec": {
   "display_name": "Python [conda env:py37] *",
   "language": "python",
   "name": "conda-env-py37-py"
  },
  "language_info": {
   "codemirror_mode": {
    "name": "ipython",
    "version": 3
   },
   "file_extension": ".py",
   "mimetype": "text/x-python",
   "name": "python",
   "nbconvert_exporter": "python",
   "pygments_lexer": "ipython3",
   "version": "3.7.6"
  }
 },
 "nbformat": 4,
 "nbformat_minor": 4
}
