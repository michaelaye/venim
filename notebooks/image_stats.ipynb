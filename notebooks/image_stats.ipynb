{
 "cells": [
  {
   "cell_type": "code",
   "execution_count": 24,
   "metadata": {},
   "outputs": [],
   "source": [
    "from venim.directory import scan_image_directory"
   ]
  },
  {
   "cell_type": "code",
   "execution_count": 25,
   "metadata": {},
   "outputs": [
    {
     "data": {
      "text/plain": [
       "\u001b[0;31mSignature:\u001b[0m \u001b[0mscan_image_directory\u001b[0m\u001b[0;34m(\u001b[0m\u001b[0mpath\u001b[0m\u001b[0;34m)\u001b[0m\u001b[0;34m\u001b[0m\u001b[0;34m\u001b[0m\u001b[0m\n",
       "\u001b[0;31mDocstring:\u001b[0m\n",
       "Scan directory of FITS files to create basic stats.\n",
       "\n",
       "Creates CSV file ready to be read by pandas and print-out of the stats if\n",
       "less than 100 entries.\n",
       "\n",
       "Parameters\n",
       "----------\n",
       "path : str, pathlib.Path\n",
       "\n",
       "Returns\n",
       "-------\n",
       "None\n",
       "\u001b[0;31mFile:\u001b[0m      ~/Dropbox/src/venim/venim/directory.py\n",
       "\u001b[0;31mType:\u001b[0m      function\n"
      ]
     },
     "metadata": {},
     "output_type": "display_data"
    }
   ],
   "source": [
    "scan_image_directory?"
   ]
  },
  {
   "cell_type": "code",
   "execution_count": 26,
   "metadata": {},
   "outputs": [],
   "source": [
    "from pathlib import Path\n",
    "path = Path(\"/Users/klay6683/Dropbox/Shared/venus/set2\")"
   ]
  },
  {
   "cell_type": "code",
   "execution_count": 27,
   "metadata": {},
   "outputs": [],
   "source": [
    "flist = sorted(list(path.glob('*.fits')))"
   ]
  },
  {
   "cell_type": "code",
   "execution_count": 28,
   "metadata": {},
   "outputs": [
    {
     "data": {
      "text/plain": [
       "[PosixPath('/Users/klay6683/Dropbox/Shared/venus/set2/sgd.2017A072.170429.im.00073.a.fits'),\n",
       " PosixPath('/Users/klay6683/Dropbox/Shared/venus/set2/sgd.2017A072.170429.im.00074.a.fits'),\n",
       " PosixPath('/Users/klay6683/Dropbox/Shared/venus/set2/sgd.2017A072.170429.im.00075.a.fits'),\n",
       " PosixPath('/Users/klay6683/Dropbox/Shared/venus/set2/sgd.2017A072.170429.im.00076.a.fits'),\n",
       " PosixPath('/Users/klay6683/Dropbox/Shared/venus/set2/sgd.2017A072.170429.im.00077.a.fits'),\n",
       " PosixPath('/Users/klay6683/Dropbox/Shared/venus/set2/sgd.2017A072.170429.im.00078.a.fits'),\n",
       " PosixPath('/Users/klay6683/Dropbox/Shared/venus/set2/sgd.2017A072.170429.im.00079.a.fits'),\n",
       " PosixPath('/Users/klay6683/Dropbox/Shared/venus/set2/sgd.2017A072.170429.im.00080.a.fits'),\n",
       " PosixPath('/Users/klay6683/Dropbox/Shared/venus/set2/sgd.2017A072.170429.im.00081.a.fits'),\n",
       " PosixPath('/Users/klay6683/Dropbox/Shared/venus/set2/sgd.2017A072.170429.im.00082.a.fits'),\n",
       " PosixPath('/Users/klay6683/Dropbox/Shared/venus/set2/sgd.2017A072.170429.im.00083.a.fits'),\n",
       " PosixPath('/Users/klay6683/Dropbox/Shared/venus/set2/sgd.2017A072.170429.im.00084.a.fits'),\n",
       " PosixPath('/Users/klay6683/Dropbox/Shared/venus/set2/sgd.2017A072.170429.im.00085.a.fits'),\n",
       " PosixPath('/Users/klay6683/Dropbox/Shared/venus/set2/sgd.2017A072.170429.im.00086.a.fits'),\n",
       " PosixPath('/Users/klay6683/Dropbox/Shared/venus/set2/sgd.2017A072.170429.im.00087.a.fits'),\n",
       " PosixPath('/Users/klay6683/Dropbox/Shared/venus/set2/sgd.2017A072.170429.im.00088.a.fits'),\n",
       " PosixPath('/Users/klay6683/Dropbox/Shared/venus/set2/sgd.2017A072.170429.im.00089.a.fits'),\n",
       " PosixPath('/Users/klay6683/Dropbox/Shared/venus/set2/sgd.2017A072.170429.im.00090.a.fits'),\n",
       " PosixPath('/Users/klay6683/Dropbox/Shared/venus/set2/sgd.2017A072.170429.im.00091.a.fits'),\n",
       " PosixPath('/Users/klay6683/Dropbox/Shared/venus/set2/sgd.2017A072.170429.im.00092.a.fits'),\n",
       " PosixPath('/Users/klay6683/Dropbox/Shared/venus/set2/sgd.2017A072.170429.im.00093.a.fits'),\n",
       " PosixPath('/Users/klay6683/Dropbox/Shared/venus/set2/sgd.2017A072.170429.im.00094.a.fits'),\n",
       " PosixPath('/Users/klay6683/Dropbox/Shared/venus/set2/sgd.2017A072.170429.im.00095.a.fits')]"
      ]
     },
     "execution_count": 28,
     "metadata": {},
     "output_type": "execute_result"
    }
   ],
   "source": [
    "flist"
   ]
  },
  {
   "cell_type": "code",
   "execution_count": 33,
   "metadata": {},
   "outputs": [
    {
     "name": "stdout",
     "output_type": "stream",
     "text": [
      "23 images found.\n",
      "Scanning directory...\n"
     ]
    },
    {
     "data": {
      "application/vnd.jupyter.widget-view+json": {
       "model_id": "cb53da5fb3f043dcb6dcb39242ada349",
       "version_major": 2,
       "version_minor": 0
      },
      "text/plain": [
       "HBox(children=(IntProgress(value=0, max=23), HTML(value='')))"
      ]
     },
     "metadata": {},
     "output_type": "display_data"
    },
    {
     "name": "stdout",
     "output_type": "stream",
     "text": [
      "\n",
      "Metadata CSV generated at /Users/klay6683/Dropbox/Shared/venus/set2/directory.csv\n"
     ]
    },
    {
     "data": {
      "text/html": [
       "<div>\n",
       "<style scoped>\n",
       "    .dataframe tbody tr th:only-of-type {\n",
       "        vertical-align: middle;\n",
       "    }\n",
       "\n",
       "    .dataframe tbody tr th {\n",
       "        vertical-align: top;\n",
       "    }\n",
       "\n",
       "    .dataframe thead th {\n",
       "        text-align: right;\n",
       "    }\n",
       "</style>\n",
       "<table border=\"1\" class=\"dataframe\">\n",
       "  <thead>\n",
       "    <tr style=\"text-align: right;\">\n",
       "      <th></th>\n",
       "      <th>name</th>\n",
       "      <th>date</th>\n",
       "      <th>time</th>\n",
       "      <th>filter</th>\n",
       "      <th>exposure</th>\n",
       "      <th>hasSlit</th>\n",
       "      <th>isValid</th>\n",
       "    </tr>\n",
       "  </thead>\n",
       "  <tbody>\n",
       "    <tr>\n",
       "      <th>0</th>\n",
       "      <td>sgd.2017A072.170429.im.00076.a.fits</td>\n",
       "      <td>2017-04-29</td>\n",
       "      <td>16:29:00.743649</td>\n",
       "      <td>contK</td>\n",
       "      <td>0.4825</td>\n",
       "      <td>False</td>\n",
       "      <td>True</td>\n",
       "    </tr>\n",
       "    <tr>\n",
       "      <th>1</th>\n",
       "      <td>sgd.2017A072.170429.im.00085.a.fits</td>\n",
       "      <td>2017-04-29</td>\n",
       "      <td>16:29:23.791623</td>\n",
       "      <td>contK</td>\n",
       "      <td>0.4825</td>\n",
       "      <td>False</td>\n",
       "      <td>True</td>\n",
       "    </tr>\n",
       "    <tr>\n",
       "      <th>2</th>\n",
       "      <td>sgd.2017A072.170429.im.00089.a.fits</td>\n",
       "      <td>2017-04-29</td>\n",
       "      <td>16:29:34.030940</td>\n",
       "      <td>contK</td>\n",
       "      <td>0.4825</td>\n",
       "      <td>False</td>\n",
       "      <td>True</td>\n",
       "    </tr>\n",
       "    <tr>\n",
       "      <th>3</th>\n",
       "      <td>sgd.2017A072.170429.im.00095.a.fits</td>\n",
       "      <td>2017-04-29</td>\n",
       "      <td>16:29:49.287968</td>\n",
       "      <td>contK</td>\n",
       "      <td>0.4825</td>\n",
       "      <td>False</td>\n",
       "      <td>True</td>\n",
       "    </tr>\n",
       "    <tr>\n",
       "      <th>4</th>\n",
       "      <td>sgd.2017A072.170429.im.00087.a.fits</td>\n",
       "      <td>2017-04-29</td>\n",
       "      <td>16:29:28.900203</td>\n",
       "      <td>contK</td>\n",
       "      <td>0.4825</td>\n",
       "      <td>False</td>\n",
       "      <td>True</td>\n",
       "    </tr>\n",
       "    <tr>\n",
       "      <th>5</th>\n",
       "      <td>sgd.2017A072.170429.im.00074.a.fits</td>\n",
       "      <td>2017-04-29</td>\n",
       "      <td>16:28:55.619760</td>\n",
       "      <td>contK</td>\n",
       "      <td>0.4825</td>\n",
       "      <td>False</td>\n",
       "      <td>True</td>\n",
       "    </tr>\n",
       "    <tr>\n",
       "      <th>6</th>\n",
       "      <td>sgd.2017A072.170429.im.00078.a.fits</td>\n",
       "      <td>2017-04-29</td>\n",
       "      <td>16:29:05.857341</td>\n",
       "      <td>contK</td>\n",
       "      <td>0.4825</td>\n",
       "      <td>False</td>\n",
       "      <td>True</td>\n",
       "    </tr>\n",
       "    <tr>\n",
       "      <th>7</th>\n",
       "      <td>sgd.2017A072.170429.im.00083.a.fits</td>\n",
       "      <td>2017-04-29</td>\n",
       "      <td>16:29:18.674485</td>\n",
       "      <td>contK</td>\n",
       "      <td>0.4825</td>\n",
       "      <td>False</td>\n",
       "      <td>True</td>\n",
       "    </tr>\n",
       "    <tr>\n",
       "      <th>8</th>\n",
       "      <td>sgd.2017A072.170429.im.00091.a.fits</td>\n",
       "      <td>2017-04-29</td>\n",
       "      <td>16:29:39.093477</td>\n",
       "      <td>contK</td>\n",
       "      <td>0.4825</td>\n",
       "      <td>False</td>\n",
       "      <td>True</td>\n",
       "    </tr>\n",
       "    <tr>\n",
       "      <th>9</th>\n",
       "      <td>sgd.2017A072.170429.im.00093.a.fits</td>\n",
       "      <td>2017-04-29</td>\n",
       "      <td>16:29:44.162143</td>\n",
       "      <td>contK</td>\n",
       "      <td>0.4825</td>\n",
       "      <td>False</td>\n",
       "      <td>True</td>\n",
       "    </tr>\n",
       "    <tr>\n",
       "      <th>10</th>\n",
       "      <td>sgd.2017A072.170429.im.00081.a.fits</td>\n",
       "      <td>2017-04-29</td>\n",
       "      <td>16:29:13.553948</td>\n",
       "      <td>contK</td>\n",
       "      <td>0.4825</td>\n",
       "      <td>False</td>\n",
       "      <td>True</td>\n",
       "    </tr>\n",
       "    <tr>\n",
       "      <th>11</th>\n",
       "      <td>sgd.2017A072.170429.im.00084.a.fits</td>\n",
       "      <td>2017-04-29</td>\n",
       "      <td>16:29:21.238418</td>\n",
       "      <td>contK</td>\n",
       "      <td>0.4825</td>\n",
       "      <td>False</td>\n",
       "      <td>True</td>\n",
       "    </tr>\n",
       "    <tr>\n",
       "      <th>12</th>\n",
       "      <td>sgd.2017A072.170429.im.00088.a.fits</td>\n",
       "      <td>2017-04-29</td>\n",
       "      <td>16:29:31.461985</td>\n",
       "      <td>contK</td>\n",
       "      <td>0.4825</td>\n",
       "      <td>False</td>\n",
       "      <td>True</td>\n",
       "    </tr>\n",
       "    <tr>\n",
       "      <th>13</th>\n",
       "      <td>sgd.2017A072.170429.im.00077.a.fits</td>\n",
       "      <td>2017-04-29</td>\n",
       "      <td>16:29:03.296171</td>\n",
       "      <td>contK</td>\n",
       "      <td>0.4825</td>\n",
       "      <td>False</td>\n",
       "      <td>True</td>\n",
       "    </tr>\n",
       "    <tr>\n",
       "      <th>14</th>\n",
       "      <td>sgd.2017A072.170429.im.00075.a.fits</td>\n",
       "      <td>2017-04-29</td>\n",
       "      <td>16:28:58.181967</td>\n",
       "      <td>contK</td>\n",
       "      <td>0.4825</td>\n",
       "      <td>False</td>\n",
       "      <td>True</td>\n",
       "    </tr>\n",
       "    <tr>\n",
       "      <th>15</th>\n",
       "      <td>sgd.2017A072.170429.im.00079.a.fits</td>\n",
       "      <td>2017-04-29</td>\n",
       "      <td>16:29:08.424829</td>\n",
       "      <td>contK</td>\n",
       "      <td>0.4825</td>\n",
       "      <td>False</td>\n",
       "      <td>True</td>\n",
       "    </tr>\n",
       "    <tr>\n",
       "      <th>16</th>\n",
       "      <td>sgd.2017A072.170429.im.00094.a.fits</td>\n",
       "      <td>2017-04-29</td>\n",
       "      <td>16:29:46.728242</td>\n",
       "      <td>contK</td>\n",
       "      <td>0.4825</td>\n",
       "      <td>False</td>\n",
       "      <td>True</td>\n",
       "    </tr>\n",
       "    <tr>\n",
       "      <th>17</th>\n",
       "      <td>sgd.2017A072.170429.im.00086.a.fits</td>\n",
       "      <td>2017-04-29</td>\n",
       "      <td>16:29:26.346229</td>\n",
       "      <td>contK</td>\n",
       "      <td>0.4825</td>\n",
       "      <td>False</td>\n",
       "      <td>True</td>\n",
       "    </tr>\n",
       "    <tr>\n",
       "      <th>18</th>\n",
       "      <td>sgd.2017A072.170429.im.00082.a.fits</td>\n",
       "      <td>2017-04-29</td>\n",
       "      <td>16:29:16.113968</td>\n",
       "      <td>contK</td>\n",
       "      <td>0.4825</td>\n",
       "      <td>False</td>\n",
       "      <td>True</td>\n",
       "    </tr>\n",
       "    <tr>\n",
       "      <th>19</th>\n",
       "      <td>sgd.2017A072.170429.im.00090.a.fits</td>\n",
       "      <td>2017-04-29</td>\n",
       "      <td>16:29:36.531259</td>\n",
       "      <td>contK</td>\n",
       "      <td>0.4825</td>\n",
       "      <td>False</td>\n",
       "      <td>True</td>\n",
       "    </tr>\n",
       "    <tr>\n",
       "      <th>20</th>\n",
       "      <td>sgd.2017A072.170429.im.00092.a.fits</td>\n",
       "      <td>2017-04-29</td>\n",
       "      <td>16:29:41.600478</td>\n",
       "      <td>contK</td>\n",
       "      <td>0.4825</td>\n",
       "      <td>False</td>\n",
       "      <td>True</td>\n",
       "    </tr>\n",
       "    <tr>\n",
       "      <th>21</th>\n",
       "      <td>sgd.2017A072.170429.im.00080.a.fits</td>\n",
       "      <td>2017-04-29</td>\n",
       "      <td>16:29:10.986995</td>\n",
       "      <td>contK</td>\n",
       "      <td>0.4825</td>\n",
       "      <td>False</td>\n",
       "      <td>True</td>\n",
       "    </tr>\n",
       "    <tr>\n",
       "      <th>22</th>\n",
       "      <td>sgd.2017A072.170429.im.00073.a.fits</td>\n",
       "      <td>2017-04-29</td>\n",
       "      <td>16:28:53.062309</td>\n",
       "      <td>contK</td>\n",
       "      <td>0.4825</td>\n",
       "      <td>False</td>\n",
       "      <td>True</td>\n",
       "    </tr>\n",
       "  </tbody>\n",
       "</table>\n",
       "</div>"
      ],
      "text/plain": [
       "                                   name        date             time filter  \\\n",
       "0   sgd.2017A072.170429.im.00076.a.fits  2017-04-29  16:29:00.743649  contK   \n",
       "1   sgd.2017A072.170429.im.00085.a.fits  2017-04-29  16:29:23.791623  contK   \n",
       "2   sgd.2017A072.170429.im.00089.a.fits  2017-04-29  16:29:34.030940  contK   \n",
       "3   sgd.2017A072.170429.im.00095.a.fits  2017-04-29  16:29:49.287968  contK   \n",
       "4   sgd.2017A072.170429.im.00087.a.fits  2017-04-29  16:29:28.900203  contK   \n",
       "5   sgd.2017A072.170429.im.00074.a.fits  2017-04-29  16:28:55.619760  contK   \n",
       "6   sgd.2017A072.170429.im.00078.a.fits  2017-04-29  16:29:05.857341  contK   \n",
       "7   sgd.2017A072.170429.im.00083.a.fits  2017-04-29  16:29:18.674485  contK   \n",
       "8   sgd.2017A072.170429.im.00091.a.fits  2017-04-29  16:29:39.093477  contK   \n",
       "9   sgd.2017A072.170429.im.00093.a.fits  2017-04-29  16:29:44.162143  contK   \n",
       "10  sgd.2017A072.170429.im.00081.a.fits  2017-04-29  16:29:13.553948  contK   \n",
       "11  sgd.2017A072.170429.im.00084.a.fits  2017-04-29  16:29:21.238418  contK   \n",
       "12  sgd.2017A072.170429.im.00088.a.fits  2017-04-29  16:29:31.461985  contK   \n",
       "13  sgd.2017A072.170429.im.00077.a.fits  2017-04-29  16:29:03.296171  contK   \n",
       "14  sgd.2017A072.170429.im.00075.a.fits  2017-04-29  16:28:58.181967  contK   \n",
       "15  sgd.2017A072.170429.im.00079.a.fits  2017-04-29  16:29:08.424829  contK   \n",
       "16  sgd.2017A072.170429.im.00094.a.fits  2017-04-29  16:29:46.728242  contK   \n",
       "17  sgd.2017A072.170429.im.00086.a.fits  2017-04-29  16:29:26.346229  contK   \n",
       "18  sgd.2017A072.170429.im.00082.a.fits  2017-04-29  16:29:16.113968  contK   \n",
       "19  sgd.2017A072.170429.im.00090.a.fits  2017-04-29  16:29:36.531259  contK   \n",
       "20  sgd.2017A072.170429.im.00092.a.fits  2017-04-29  16:29:41.600478  contK   \n",
       "21  sgd.2017A072.170429.im.00080.a.fits  2017-04-29  16:29:10.986995  contK   \n",
       "22  sgd.2017A072.170429.im.00073.a.fits  2017-04-29  16:28:53.062309  contK   \n",
       "\n",
       "    exposure  hasSlit  isValid  \n",
       "0     0.4825    False     True  \n",
       "1     0.4825    False     True  \n",
       "2     0.4825    False     True  \n",
       "3     0.4825    False     True  \n",
       "4     0.4825    False     True  \n",
       "5     0.4825    False     True  \n",
       "6     0.4825    False     True  \n",
       "7     0.4825    False     True  \n",
       "8     0.4825    False     True  \n",
       "9     0.4825    False     True  \n",
       "10    0.4825    False     True  \n",
       "11    0.4825    False     True  \n",
       "12    0.4825    False     True  \n",
       "13    0.4825    False     True  \n",
       "14    0.4825    False     True  \n",
       "15    0.4825    False     True  \n",
       "16    0.4825    False     True  \n",
       "17    0.4825    False     True  \n",
       "18    0.4825    False     True  \n",
       "19    0.4825    False     True  \n",
       "20    0.4825    False     True  \n",
       "21    0.4825    False     True  \n",
       "22    0.4825    False     True  "
      ]
     },
     "execution_count": 33,
     "metadata": {},
     "output_type": "execute_result"
    }
   ],
   "source": [
    "df = scan_image_directory(path)\n",
    "df"
   ]
  },
  {
   "cell_type": "code",
   "execution_count": 36,
   "metadata": {},
   "outputs": [
    {
     "name": "stdout",
     "output_type": "stream",
     "text": [
      "16 images found.\n",
      "Scanning directory...\n"
     ]
    },
    {
     "data": {
      "application/vnd.jupyter.widget-view+json": {
       "model_id": "aa480737fbce4c9c8f17988013c8b4ae",
       "version_major": 2,
       "version_minor": 0
      },
      "text/plain": [
       "HBox(children=(IntProgress(value=0, max=16), HTML(value='')))"
      ]
     },
     "metadata": {},
     "output_type": "display_data"
    },
    {
     "name": "stdout",
     "output_type": "stream",
     "text": [
      "\n",
      "Metadata CSV generated at /Users/klay6683/Dropbox/Shared/venus/set3_with_slits/directory.csv\n"
     ]
    },
    {
     "data": {
      "text/html": [
       "<div>\n",
       "<style scoped>\n",
       "    .dataframe tbody tr th:only-of-type {\n",
       "        vertical-align: middle;\n",
       "    }\n",
       "\n",
       "    .dataframe tbody tr th {\n",
       "        vertical-align: top;\n",
       "    }\n",
       "\n",
       "    .dataframe thead th {\n",
       "        text-align: right;\n",
       "    }\n",
       "</style>\n",
       "<table border=\"1\" class=\"dataframe\">\n",
       "  <thead>\n",
       "    <tr style=\"text-align: right;\">\n",
       "      <th></th>\n",
       "      <th>name</th>\n",
       "      <th>date</th>\n",
       "      <th>time</th>\n",
       "      <th>filter</th>\n",
       "      <th>exposure</th>\n",
       "      <th>hasSlit</th>\n",
       "      <th>isValid</th>\n",
       "    </tr>\n",
       "  </thead>\n",
       "  <tbody>\n",
       "    <tr>\n",
       "      <th>0</th>\n",
       "      <td>sgd.2017A072.170429.im.00886.a.fits</td>\n",
       "      <td>2017-04-29</td>\n",
       "      <td>17:12:35.944281</td>\n",
       "      <td>contK</td>\n",
       "      <td>0.4825</td>\n",
       "      <td>True</td>\n",
       "      <td>True</td>\n",
       "    </tr>\n",
       "    <tr>\n",
       "      <th>1</th>\n",
       "      <td>sgd.2017A072.170429.im.00898.a.fits</td>\n",
       "      <td>2017-04-29</td>\n",
       "      <td>17:13:06.644083</td>\n",
       "      <td>contK</td>\n",
       "      <td>0.4825</td>\n",
       "      <td>True</td>\n",
       "      <td>True</td>\n",
       "    </tr>\n",
       "    <tr>\n",
       "      <th>2</th>\n",
       "      <td>sgd.2017A072.170429.im.00894.a.fits</td>\n",
       "      <td>2017-04-29</td>\n",
       "      <td>17:12:56.395786</td>\n",
       "      <td>contK</td>\n",
       "      <td>0.4825</td>\n",
       "      <td>True</td>\n",
       "      <td>True</td>\n",
       "    </tr>\n",
       "    <tr>\n",
       "      <th>3</th>\n",
       "      <td>sgd.2017A072.170429.im.00888.a.fits</td>\n",
       "      <td>2017-04-29</td>\n",
       "      <td>17:12:41.087347</td>\n",
       "      <td>contK</td>\n",
       "      <td>0.4825</td>\n",
       "      <td>True</td>\n",
       "      <td>True</td>\n",
       "    </tr>\n",
       "    <tr>\n",
       "      <th>4</th>\n",
       "      <td>sgd.2017A072.170429.im.00896.a.fits</td>\n",
       "      <td>2017-04-29</td>\n",
       "      <td>17:13:01.493163</td>\n",
       "      <td>contK</td>\n",
       "      <td>0.4825</td>\n",
       "      <td>True</td>\n",
       "      <td>True</td>\n",
       "    </tr>\n",
       "    <tr>\n",
       "      <th>5</th>\n",
       "      <td>sgd.2017A072.170429.im.00884.a.fits</td>\n",
       "      <td>2017-04-29</td>\n",
       "      <td>17:12:30.836675</td>\n",
       "      <td>contK</td>\n",
       "      <td>0.4825</td>\n",
       "      <td>True</td>\n",
       "      <td>True</td>\n",
       "    </tr>\n",
       "    <tr>\n",
       "      <th>6</th>\n",
       "      <td>sgd.2017A072.170429.im.00892.a.fits</td>\n",
       "      <td>2017-04-29</td>\n",
       "      <td>17:12:51.282221</td>\n",
       "      <td>contK</td>\n",
       "      <td>0.4825</td>\n",
       "      <td>True</td>\n",
       "      <td>True</td>\n",
       "    </tr>\n",
       "    <tr>\n",
       "      <th>7</th>\n",
       "      <td>sgd.2017A072.170429.im.00890.a.fits</td>\n",
       "      <td>2017-04-29</td>\n",
       "      <td>17:12:46.186308</td>\n",
       "      <td>contK</td>\n",
       "      <td>0.4825</td>\n",
       "      <td>True</td>\n",
       "      <td>True</td>\n",
       "    </tr>\n",
       "    <tr>\n",
       "      <th>8</th>\n",
       "      <td>sgd.2017A072.170429.im.00899.a.fits</td>\n",
       "      <td>2017-04-29</td>\n",
       "      <td>17:13:09.199857</td>\n",
       "      <td>contK</td>\n",
       "      <td>0.4825</td>\n",
       "      <td>True</td>\n",
       "      <td>True</td>\n",
       "    </tr>\n",
       "    <tr>\n",
       "      <th>9</th>\n",
       "      <td>sgd.2017A072.170429.im.00887.a.fits</td>\n",
       "      <td>2017-04-29</td>\n",
       "      <td>17:12:38.499589</td>\n",
       "      <td>contK</td>\n",
       "      <td>0.4825</td>\n",
       "      <td>True</td>\n",
       "      <td>True</td>\n",
       "    </tr>\n",
       "    <tr>\n",
       "      <th>10</th>\n",
       "      <td>sgd.2017A072.170429.im.00895.a.fits</td>\n",
       "      <td>2017-04-29</td>\n",
       "      <td>17:12:58.936358</td>\n",
       "      <td>contK</td>\n",
       "      <td>0.4825</td>\n",
       "      <td>True</td>\n",
       "      <td>True</td>\n",
       "    </tr>\n",
       "    <tr>\n",
       "      <th>11</th>\n",
       "      <td>sgd.2017A072.170429.im.00897.a.fits</td>\n",
       "      <td>2017-04-29</td>\n",
       "      <td>17:13:04.070775</td>\n",
       "      <td>contK</td>\n",
       "      <td>0.4825</td>\n",
       "      <td>True</td>\n",
       "      <td>True</td>\n",
       "    </tr>\n",
       "    <tr>\n",
       "      <th>12</th>\n",
       "      <td>sgd.2017A072.170429.im.00889.a.fits</td>\n",
       "      <td>2017-04-29</td>\n",
       "      <td>17:12:43.630177</td>\n",
       "      <td>contK</td>\n",
       "      <td>0.4825</td>\n",
       "      <td>True</td>\n",
       "      <td>True</td>\n",
       "    </tr>\n",
       "    <tr>\n",
       "      <th>13</th>\n",
       "      <td>sgd.2017A072.170429.im.00885.a.fits</td>\n",
       "      <td>2017-04-29</td>\n",
       "      <td>17:12:33.387360</td>\n",
       "      <td>contK</td>\n",
       "      <td>0.4825</td>\n",
       "      <td>True</td>\n",
       "      <td>True</td>\n",
       "    </tr>\n",
       "    <tr>\n",
       "      <th>14</th>\n",
       "      <td>sgd.2017A072.170429.im.00893.a.fits</td>\n",
       "      <td>2017-04-29</td>\n",
       "      <td>17:12:53.838908</td>\n",
       "      <td>contK</td>\n",
       "      <td>0.4825</td>\n",
       "      <td>True</td>\n",
       "      <td>True</td>\n",
       "    </tr>\n",
       "    <tr>\n",
       "      <th>15</th>\n",
       "      <td>sgd.2017A072.170429.im.00891.a.fits</td>\n",
       "      <td>2017-04-29</td>\n",
       "      <td>17:12:48.727766</td>\n",
       "      <td>contK</td>\n",
       "      <td>0.4825</td>\n",
       "      <td>True</td>\n",
       "      <td>True</td>\n",
       "    </tr>\n",
       "  </tbody>\n",
       "</table>\n",
       "</div>"
      ],
      "text/plain": [
       "                                   name        date             time filter  \\\n",
       "0   sgd.2017A072.170429.im.00886.a.fits  2017-04-29  17:12:35.944281  contK   \n",
       "1   sgd.2017A072.170429.im.00898.a.fits  2017-04-29  17:13:06.644083  contK   \n",
       "2   sgd.2017A072.170429.im.00894.a.fits  2017-04-29  17:12:56.395786  contK   \n",
       "3   sgd.2017A072.170429.im.00888.a.fits  2017-04-29  17:12:41.087347  contK   \n",
       "4   sgd.2017A072.170429.im.00896.a.fits  2017-04-29  17:13:01.493163  contK   \n",
       "5   sgd.2017A072.170429.im.00884.a.fits  2017-04-29  17:12:30.836675  contK   \n",
       "6   sgd.2017A072.170429.im.00892.a.fits  2017-04-29  17:12:51.282221  contK   \n",
       "7   sgd.2017A072.170429.im.00890.a.fits  2017-04-29  17:12:46.186308  contK   \n",
       "8   sgd.2017A072.170429.im.00899.a.fits  2017-04-29  17:13:09.199857  contK   \n",
       "9   sgd.2017A072.170429.im.00887.a.fits  2017-04-29  17:12:38.499589  contK   \n",
       "10  sgd.2017A072.170429.im.00895.a.fits  2017-04-29  17:12:58.936358  contK   \n",
       "11  sgd.2017A072.170429.im.00897.a.fits  2017-04-29  17:13:04.070775  contK   \n",
       "12  sgd.2017A072.170429.im.00889.a.fits  2017-04-29  17:12:43.630177  contK   \n",
       "13  sgd.2017A072.170429.im.00885.a.fits  2017-04-29  17:12:33.387360  contK   \n",
       "14  sgd.2017A072.170429.im.00893.a.fits  2017-04-29  17:12:53.838908  contK   \n",
       "15  sgd.2017A072.170429.im.00891.a.fits  2017-04-29  17:12:48.727766  contK   \n",
       "\n",
       "    exposure  hasSlit  isValid  \n",
       "0     0.4825     True     True  \n",
       "1     0.4825     True     True  \n",
       "2     0.4825     True     True  \n",
       "3     0.4825     True     True  \n",
       "4     0.4825     True     True  \n",
       "5     0.4825     True     True  \n",
       "6     0.4825     True     True  \n",
       "7     0.4825     True     True  \n",
       "8     0.4825     True     True  \n",
       "9     0.4825     True     True  \n",
       "10    0.4825     True     True  \n",
       "11    0.4825     True     True  \n",
       "12    0.4825     True     True  \n",
       "13    0.4825     True     True  \n",
       "14    0.4825     True     True  \n",
       "15    0.4825     True     True  "
      ]
     },
     "execution_count": 36,
     "metadata": {},
     "output_type": "execute_result"
    }
   ],
   "source": [
    "df = scan_image_directory(\"/Users/klay6683/Dropbox/Shared/venus/set3_with_slits\")\n",
    "df"
   ]
  },
  {
   "cell_type": "code",
   "execution_count": null,
   "metadata": {},
   "outputs": [],
   "source": []
  }
 ],
 "metadata": {
  "kernelspec": {
   "display_name": "Python [conda env:py37] *",
   "language": "python",
   "name": "conda-env-py37-py"
  },
  "language_info": {
   "codemirror_mode": {
    "name": "ipython",
    "version": 3
   },
   "file_extension": ".py",
   "mimetype": "text/x-python",
   "name": "python",
   "nbconvert_exporter": "python",
   "pygments_lexer": "ipython3",
   "version": "3.7.3"
  },
  "widgets": {
   "application/vnd.jupyter.widget-state+json": {
    "state": {
     "0264cbc6d2b24e7da2321a5923f276f3": {
      "model_module": "@jupyter-widgets/controls",
      "model_module_version": "1.5.0",
      "model_name": "DescriptionStyleModel",
      "state": {
       "description_width": ""
      }
     },
     "034371a2576048ca9cb6a7c753581531": {
      "model_module": "@jupyter-widgets/controls",
      "model_module_version": "1.5.0",
      "model_name": "DescriptionStyleModel",
      "state": {
       "description_width": ""
      }
     },
     "0b37a2d76199400d85f777b3275faaf9": {
      "model_module": "@jupyter-widgets/controls",
      "model_module_version": "1.5.0",
      "model_name": "HBoxModel",
      "state": {
       "children": [
        "IPY_MODEL_be34d22808974a0480058e5ce4a41dbb",
        "IPY_MODEL_9226e28bef00496fa56f71fd7dd9c5c6"
       ],
       "layout": "IPY_MODEL_e5782cc01a9d4a22992499bc3ae9964f"
      }
     },
     "1118a98c3900439f80bc134cb4360328": {
      "model_module": "@jupyter-widgets/base",
      "model_module_version": "1.2.0",
      "model_name": "LayoutModel",
      "state": {}
     },
     "15d325b55f2640ed84a11e1de0dec420": {
      "model_module": "@jupyter-widgets/base",
      "model_module_version": "1.2.0",
      "model_name": "LayoutModel",
      "state": {}
     },
     "18d89a8a14ce4e3d99c6eb3b972eb15f": {
      "model_module": "@jupyter-widgets/controls",
      "model_module_version": "1.5.0",
      "model_name": "ProgressStyleModel",
      "state": {
       "description_width": "initial"
      }
     },
     "22262d36c811437e8f01e6760a81ae82": {
      "model_module": "@jupyter-widgets/controls",
      "model_module_version": "1.5.0",
      "model_name": "DescriptionStyleModel",
      "state": {
       "description_width": ""
      }
     },
     "23fb85b7e10a46e79abf1f688d955c6b": {
      "model_module": "@jupyter-widgets/base",
      "model_module_version": "1.2.0",
      "model_name": "LayoutModel",
      "state": {}
     },
     "27b4647dcd7f4e44ac616f5f2bba0bd6": {
      "model_module": "@jupyter-widgets/base",
      "model_module_version": "1.2.0",
      "model_name": "LayoutModel",
      "state": {}
     },
     "2a9bad96ac74483fa9da916f7b52a599": {
      "model_module": "@jupyter-widgets/base",
      "model_module_version": "1.2.0",
      "model_name": "LayoutModel",
      "state": {}
     },
     "31aad561d6604a1eafdd2c09251e02f4": {
      "model_module": "@jupyter-widgets/base",
      "model_module_version": "1.2.0",
      "model_name": "LayoutModel",
      "state": {}
     },
     "3e86fca198e7409aba9d83e9753f8e18": {
      "model_module": "@jupyter-widgets/base",
      "model_module_version": "1.2.0",
      "model_name": "LayoutModel",
      "state": {}
     },
     "44898beeff514bda9025b416448f6afe": {
      "model_module": "@jupyter-widgets/controls",
      "model_module_version": "1.5.0",
      "model_name": "HBoxModel",
      "state": {
       "children": [
        "IPY_MODEL_5bdfbc260a424bc3badc10366b23f8d1",
        "IPY_MODEL_8ceb13ef1dc345ffba4c9b5ecb887720"
       ],
       "layout": "IPY_MODEL_7f00ad51c0674e66b9daf10fcad48d00"
      }
     },
     "47742f8c21c34cc7b3a9e53381ec2e46": {
      "model_module": "@jupyter-widgets/controls",
      "model_module_version": "1.5.0",
      "model_name": "IntProgressModel",
      "state": {
       "bar_style": "success",
       "description": "100%",
       "layout": "IPY_MODEL_23fb85b7e10a46e79abf1f688d955c6b",
       "max": 23,
       "style": "IPY_MODEL_c3ad84a24c624941bc004a3b1e970252",
       "value": 23
      }
     },
     "51faeb58b91d43e683e35e5071d388c7": {
      "model_module": "@jupyter-widgets/controls",
      "model_module_version": "1.5.0",
      "model_name": "HTMLModel",
      "state": {
       "layout": "IPY_MODEL_31aad561d6604a1eafdd2c09251e02f4",
       "style": "IPY_MODEL_d968c6e4fe01468abd7eed56ef8dcba4",
       "value": " 23/23 [01:54&lt;00:00,  4.97s/it]"
      }
     },
     "57cc0dcb20a04c51a0284318a2b40dd3": {
      "model_module": "@jupyter-widgets/base",
      "model_module_version": "1.2.0",
      "model_name": "LayoutModel",
      "state": {}
     },
     "5bdfbc260a424bc3badc10366b23f8d1": {
      "model_module": "@jupyter-widgets/controls",
      "model_module_version": "1.5.0",
      "model_name": "IntProgressModel",
      "state": {
       "bar_style": "success",
       "description": "100%",
       "layout": "IPY_MODEL_2a9bad96ac74483fa9da916f7b52a599",
       "max": 23,
       "style": "IPY_MODEL_18d89a8a14ce4e3d99c6eb3b972eb15f",
       "value": 23
      }
     },
     "5ffeff7346874f89b73f94c36aa66630": {
      "model_module": "@jupyter-widgets/controls",
      "model_module_version": "1.5.0",
      "model_name": "HBoxModel",
      "state": {
       "children": [
        "IPY_MODEL_e9834ef6f4484ce78b99896032bb3c81",
        "IPY_MODEL_b74d3276343e442f865261a87aa5c61f"
       ],
       "layout": "IPY_MODEL_27b4647dcd7f4e44ac616f5f2bba0bd6"
      }
     },
     "746b6bcc1c594cba8972d68051e64365": {
      "model_module": "@jupyter-widgets/base",
      "model_module_version": "1.2.0",
      "model_name": "LayoutModel",
      "state": {}
     },
     "75bb76857729497b8e9c562f6a872069": {
      "model_module": "@jupyter-widgets/base",
      "model_module_version": "1.2.0",
      "model_name": "LayoutModel",
      "state": {}
     },
     "7f00ad51c0674e66b9daf10fcad48d00": {
      "model_module": "@jupyter-widgets/base",
      "model_module_version": "1.2.0",
      "model_name": "LayoutModel",
      "state": {}
     },
     "89033d231a5944a7aa41ea04247462ce": {
      "model_module": "@jupyter-widgets/controls",
      "model_module_version": "1.5.0",
      "model_name": "ProgressStyleModel",
      "state": {
       "description_width": "initial"
      }
     },
     "8ceb13ef1dc345ffba4c9b5ecb887720": {
      "model_module": "@jupyter-widgets/controls",
      "model_module_version": "1.5.0",
      "model_name": "HTMLModel",
      "state": {
       "layout": "IPY_MODEL_15d325b55f2640ed84a11e1de0dec420",
       "style": "IPY_MODEL_22262d36c811437e8f01e6760a81ae82",
       "value": " 23/23 [14:57&lt;00:00, 39.01s/it]"
      }
     },
     "91eeb73da61c487cb0d1d33cd2b73bff": {
      "model_module": "@jupyter-widgets/controls",
      "model_module_version": "1.5.0",
      "model_name": "HTMLModel",
      "state": {
       "layout": "IPY_MODEL_3e86fca198e7409aba9d83e9753f8e18",
       "style": "IPY_MODEL_0264cbc6d2b24e7da2321a5923f276f3",
       "value": " 16/16 [00:00&lt;00:00, 217.59it/s]"
      }
     },
     "9226e28bef00496fa56f71fd7dd9c5c6": {
      "model_module": "@jupyter-widgets/controls",
      "model_module_version": "1.5.0",
      "model_name": "HTMLModel",
      "state": {
       "layout": "IPY_MODEL_1118a98c3900439f80bc134cb4360328",
       "style": "IPY_MODEL_c7921de67c114cbe993a7cf7d5cc10b2",
       "value": " 23/23 [15:45&lt;00:00, 41.11s/it]"
      }
     },
     "a537b8e4e2304689b91c3cb0ca539b18": {
      "model_module": "@jupyter-widgets/controls",
      "model_module_version": "1.5.0",
      "model_name": "ProgressStyleModel",
      "state": {
       "description_width": "initial"
      }
     },
     "aa480737fbce4c9c8f17988013c8b4ae": {
      "model_module": "@jupyter-widgets/controls",
      "model_module_version": "1.5.0",
      "model_name": "HBoxModel",
      "state": {
       "children": [
        "IPY_MODEL_ec672c17084c48279e4e36c0d8e2d29c",
        "IPY_MODEL_91eeb73da61c487cb0d1d33cd2b73bff"
       ],
       "layout": "IPY_MODEL_57cc0dcb20a04c51a0284318a2b40dd3"
      }
     },
     "b74d3276343e442f865261a87aa5c61f": {
      "model_module": "@jupyter-widgets/controls",
      "model_module_version": "1.5.0",
      "model_name": "HTMLModel",
      "state": {
       "layout": "IPY_MODEL_746b6bcc1c594cba8972d68051e64365",
       "style": "IPY_MODEL_034371a2576048ca9cb6a7c753581531",
       "value": " 0/6 [00:00&lt;?, ?it/s]"
      }
     },
     "be34d22808974a0480058e5ce4a41dbb": {
      "model_module": "@jupyter-widgets/controls",
      "model_module_version": "1.5.0",
      "model_name": "IntProgressModel",
      "state": {
       "bar_style": "success",
       "description": "100%",
       "layout": "IPY_MODEL_c55e29d4dd30454bb9c99e809a482132",
       "max": 23,
       "style": "IPY_MODEL_a537b8e4e2304689b91c3cb0ca539b18",
       "value": 23
      }
     },
     "c3ad84a24c624941bc004a3b1e970252": {
      "model_module": "@jupyter-widgets/controls",
      "model_module_version": "1.5.0",
      "model_name": "ProgressStyleModel",
      "state": {
       "description_width": "initial"
      }
     },
     "c55e29d4dd30454bb9c99e809a482132": {
      "model_module": "@jupyter-widgets/base",
      "model_module_version": "1.2.0",
      "model_name": "LayoutModel",
      "state": {}
     },
     "c7921de67c114cbe993a7cf7d5cc10b2": {
      "model_module": "@jupyter-widgets/controls",
      "model_module_version": "1.5.0",
      "model_name": "DescriptionStyleModel",
      "state": {
       "description_width": ""
      }
     },
     "cb53da5fb3f043dcb6dcb39242ada349": {
      "model_module": "@jupyter-widgets/controls",
      "model_module_version": "1.5.0",
      "model_name": "HBoxModel",
      "state": {
       "children": [
        "IPY_MODEL_47742f8c21c34cc7b3a9e53381ec2e46",
        "IPY_MODEL_51faeb58b91d43e683e35e5071d388c7"
       ],
       "layout": "IPY_MODEL_e64f674dfc254d5f94f827ae63889f89"
      }
     },
     "d968c6e4fe01468abd7eed56ef8dcba4": {
      "model_module": "@jupyter-widgets/controls",
      "model_module_version": "1.5.0",
      "model_name": "DescriptionStyleModel",
      "state": {
       "description_width": ""
      }
     },
     "db7a8a72b8c442118660b0b2307bdccb": {
      "model_module": "@jupyter-widgets/base",
      "model_module_version": "1.2.0",
      "model_name": "LayoutModel",
      "state": {}
     },
     "e5782cc01a9d4a22992499bc3ae9964f": {
      "model_module": "@jupyter-widgets/base",
      "model_module_version": "1.2.0",
      "model_name": "LayoutModel",
      "state": {}
     },
     "e64f674dfc254d5f94f827ae63889f89": {
      "model_module": "@jupyter-widgets/base",
      "model_module_version": "1.2.0",
      "model_name": "LayoutModel",
      "state": {}
     },
     "e9834ef6f4484ce78b99896032bb3c81": {
      "model_module": "@jupyter-widgets/controls",
      "model_module_version": "1.5.0",
      "model_name": "IntProgressModel",
      "state": {
       "bar_style": "danger",
       "description": "  0%",
       "layout": "IPY_MODEL_db7a8a72b8c442118660b0b2307bdccb",
       "max": 6,
       "style": "IPY_MODEL_f3cd0ed1df0048d887097f4e9f12258e"
      }
     },
     "ec672c17084c48279e4e36c0d8e2d29c": {
      "model_module": "@jupyter-widgets/controls",
      "model_module_version": "1.5.0",
      "model_name": "IntProgressModel",
      "state": {
       "bar_style": "success",
       "description": "100%",
       "layout": "IPY_MODEL_75bb76857729497b8e9c562f6a872069",
       "max": 16,
       "style": "IPY_MODEL_89033d231a5944a7aa41ea04247462ce",
       "value": 16
      }
     },
     "f3cd0ed1df0048d887097f4e9f12258e": {
      "model_module": "@jupyter-widgets/controls",
      "model_module_version": "1.5.0",
      "model_name": "ProgressStyleModel",
      "state": {
       "description_width": "initial"
      }
     }
    },
    "version_major": 2,
    "version_minor": 0
   }
  }
 },
 "nbformat": 4,
 "nbformat_minor": 4
}
