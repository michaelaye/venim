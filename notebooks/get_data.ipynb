{
 "cells": [
  {
   "cell_type": "markdown",
   "metadata": {},
   "source": [
    "# VENIM AKATSUKI Data Retrieval\n",
    "\n",
    "The first time you use this module, it will ask you to provide a data path to a `venim` storage directory, where `venim` will put all data it auto-magically downloads."
   ]
  },
  {
   "cell_type": "code",
   "execution_count": 1,
   "metadata": {},
   "outputs": [],
   "source": [
    "from venim.akatsuki import ir2"
   ]
  },
  {
   "cell_type": "markdown",
   "metadata": {},
   "source": [
    "Once that initial configuration is set up, there is a config object that is used to keep this information available.\n",
    "\n",
    "In the future, this config option can be used to implement many other switches or package control set ups. The world is your oyster. ;)"
   ]
  },
  {
   "cell_type": "code",
   "execution_count": 2,
   "metadata": {},
   "outputs": [
    {
     "data": {
      "text/plain": [
       "{'venim_path': '~/Dropbox/data/venim'}"
      ]
     },
     "execution_count": 2,
     "metadata": {},
     "output_type": "execute_result"
    }
   ],
   "source": [
    "ir2.config"
   ]
  },
  {
   "cell_type": "markdown",
   "metadata": {},
   "source": [
    "## Downloader class\n",
    "\n",
    "The Downloader class has several methods to help get you to Akatsuki (for now) data the easiest way possible.\n"
   ]
  },
  {
   "cell_type": "code",
   "execution_count": 3,
   "metadata": {},
   "outputs": [],
   "source": [
    "orbit = 25  # the automatic conversion to the revolution string is now implemented here as well:"
   ]
  },
  {
   "cell_type": "code",
   "execution_count": 4,
   "metadata": {},
   "outputs": [],
   "source": [
    "downloader = ir2.Downloader(orbit=orbit)"
   ]
  },
  {
   "cell_type": "code",
   "execution_count": 5,
   "metadata": {},
   "outputs": [
    {
     "data": {
      "text/plain": [
       "'r0025'"
      ]
     },
     "execution_count": 5,
     "metadata": {},
     "output_type": "execute_result"
    }
   ],
   "source": [
    "downloader.orbit"
   ]
  },
  {
   "cell_type": "code",
   "execution_count": 6,
   "metadata": {},
   "outputs": [
    {
     "data": {
      "text/plain": [
       "0      https://atmos.nmsu.edu/PDS/data/vcoir2_1001/data/l2b/r0025/ir2_20160824_193142_202_l2b_v10.fit\n",
       "1      https://atmos.nmsu.edu/PDS/data/vcoir2_1001/data/l2b/r0025/ir2_20160824_193142_202_l2b_v10.lbl\n",
       "2      https://atmos.nmsu.edu/PDS/data/vcoir2_1001/data/l2b/r0025/ir2_20160824_203242_202_l2b_v10.fit\n",
       "3      https://atmos.nmsu.edu/PDS/data/vcoir2_1001/data/l2b/r0025/ir2_20160824_203242_202_l2b_v10.lbl\n",
       "4      https://atmos.nmsu.edu/PDS/data/vcoir2_1001/data/l2b/r0025/ir2_20160824_220044_202_l2b_v10.fit\n",
       "                                                    ...                                              \n",
       "489    https://atmos.nmsu.edu/PDS/data/vcoir2_1001/data/l2b/r0025/ir2_20160904_210542_202_l2b_v10.lbl\n",
       "490    https://atmos.nmsu.edu/PDS/data/vcoir2_1001/data/l2b/r0025/ir2_20160904_211542_202_l2b_v10.fit\n",
       "491    https://atmos.nmsu.edu/PDS/data/vcoir2_1001/data/l2b/r0025/ir2_20160904_211542_202_l2b_v10.lbl\n",
       "492    https://atmos.nmsu.edu/PDS/data/vcoir2_1001/data/l2b/r0025/ir2_20160904_212542_202_l2b_v10.fit\n",
       "493    https://atmos.nmsu.edu/PDS/data/vcoir2_1001/data/l2b/r0025/ir2_20160904_212542_202_l2b_v10.lbl\n",
       "Length: 494, dtype: object"
      ]
     },
     "execution_count": 6,
     "metadata": {},
     "output_type": "execute_result"
    }
   ],
   "source": [
    "downloader.get_urls_for_orbit(orbit)"
   ]
  },
  {
   "cell_type": "code",
   "execution_count": 7,
   "metadata": {},
   "outputs": [
    {
     "data": {
      "application/vnd.jupyter.widget-view+json": {
       "model_id": "dcfa57de34214305ba4fd75b44b4e116",
       "version_major": 2,
       "version_minor": 0
      },
      "text/plain": [
       "HBox(children=(FloatProgress(value=0.0, max=494.0), HTML(value='')))"
      ]
     },
     "metadata": {},
     "output_type": "display_data"
    },
    {
     "name": "stdout",
     "output_type": "stream",
     "text": [
      "\n"
     ]
    }
   ],
   "source": [
    "downloader.download_orbit_files(orbit, only_fits=False)"
   ]
  }
 ],
 "metadata": {
  "kernelspec": {
   "display_name": "Python [conda env:py37] *",
   "language": "python",
   "name": "conda-env-py37-py"
  },
  "language_info": {
   "codemirror_mode": {
    "name": "ipython",
    "version": 3
   },
   "file_extension": ".py",
   "mimetype": "text/x-python",
   "name": "python",
   "nbconvert_exporter": "python",
   "pygments_lexer": "ipython3",
   "version": "3.7.6"
  },
  "widgets": {
   "application/vnd.jupyter.widget-state+json": {
    "state": {},
    "version_major": 2,
    "version_minor": 0
   }
  }
 },
 "nbformat": 4,
 "nbformat_minor": 4
}
