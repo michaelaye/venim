{
 "cells": [
  {
   "cell_type": "code",
   "execution_count": 2,
   "metadata": {},
   "outputs": [],
   "source": [
    "from venim.akatsuki import ir2"
   ]
  },
  {
   "cell_type": "code",
   "execution_count": 3,
   "metadata": {},
   "outputs": [],
   "source": [
    "pm = ir2.IR2PathManager()"
   ]
  },
  {
   "cell_type": "code",
   "execution_count": 4,
   "metadata": {},
   "outputs": [
    {
     "data": {
      "text/plain": [
       "PosixPath('/Users/klay6683/Dropbox/data/venim/akatsuki/ir2/raw')"
      ]
     },
     "execution_count": 4,
     "metadata": {},
     "output_type": "execute_result"
    }
   ],
   "source": [
    "pm.raw_savedir"
   ]
  },
  {
   "cell_type": "code",
   "execution_count": 37,
   "metadata": {},
   "outputs": [],
   "source": [
    "orbit = 'r0025'"
   ]
  },
  {
   "cell_type": "code",
   "execution_count": 72,
   "metadata": {},
   "outputs": [],
   "source": [
    "downloader = ir2.Downloader()"
   ]
  },
  {
   "cell_type": "code",
   "execution_count": 73,
   "metadata": {},
   "outputs": [
    {
     "data": {
      "text/plain": [
       "0      https://atmos.nmsu.edu/PDS/data/vcoir2_1001/data/l2b/r0025/ir2_20160824_193142_202_l2b_v10.fit\n",
       "1      https://atmos.nmsu.edu/PDS/data/vcoir2_1001/data/l2b/r0025/ir2_20160824_193142_202_l2b_v10.lbl\n",
       "2      https://atmos.nmsu.edu/PDS/data/vcoir2_1001/data/l2b/r0025/ir2_20160824_203242_202_l2b_v10.fit\n",
       "3      https://atmos.nmsu.edu/PDS/data/vcoir2_1001/data/l2b/r0025/ir2_20160824_203242_202_l2b_v10.lbl\n",
       "4      https://atmos.nmsu.edu/PDS/data/vcoir2_1001/data/l2b/r0025/ir2_20160824_220044_202_l2b_v10.fit\n",
       "                                                    ...                                              \n",
       "489    https://atmos.nmsu.edu/PDS/data/vcoir2_1001/data/l2b/r0025/ir2_20160904_210542_202_l2b_v10.lbl\n",
       "490    https://atmos.nmsu.edu/PDS/data/vcoir2_1001/data/l2b/r0025/ir2_20160904_211542_202_l2b_v10.fit\n",
       "491    https://atmos.nmsu.edu/PDS/data/vcoir2_1001/data/l2b/r0025/ir2_20160904_211542_202_l2b_v10.lbl\n",
       "492    https://atmos.nmsu.edu/PDS/data/vcoir2_1001/data/l2b/r0025/ir2_20160904_212542_202_l2b_v10.fit\n",
       "493    https://atmos.nmsu.edu/PDS/data/vcoir2_1001/data/l2b/r0025/ir2_20160904_212542_202_l2b_v10.lbl\n",
       "Name: filename, Length: 494, dtype: object"
      ]
     },
     "execution_count": 73,
     "metadata": {},
     "output_type": "execute_result"
    }
   ],
   "source": [
    "downloader.urls_for_orbit(orbit)"
   ]
  },
  {
   "cell_type": "code",
   "execution_count": 75,
   "metadata": {},
   "outputs": [
    {
     "data": {
      "application/vnd.jupyter.widget-view+json": {
       "model_id": "a8dab76ca7044586a8266a7f2546243f",
       "version_major": 2,
       "version_minor": 0
      },
      "text/plain": [
       "HBox(children=(FloatProgress(value=0.0, max=494.0), HTML(value='')))"
      ]
     },
     "metadata": {},
     "output_type": "display_data"
    },
    {
     "name": "stdout",
     "output_type": "stream",
     "text": [
      "\n"
     ]
    }
   ],
   "source": [
    "downloader.download_orbit_files(orbit, test=False, force=True, only_fits=False)"
   ]
  },
  {
   "cell_type": "code",
   "execution_count": 24,
   "metadata": {},
   "outputs": [
    {
     "data": {
      "text/html": [
       "<div>\n",
       "<style scoped>\n",
       "    .dataframe tbody tr th:only-of-type {\n",
       "        vertical-align: middle;\n",
       "    }\n",
       "\n",
       "    .dataframe tbody tr th {\n",
       "        vertical-align: top;\n",
       "    }\n",
       "\n",
       "    .dataframe thead th {\n",
       "        text-align: right;\n",
       "    }\n",
       "</style>\n",
       "<table border=\"1\" class=\"dataframe\">\n",
       "  <thead>\n",
       "    <tr style=\"text-align: right;\">\n",
       "      <th></th>\n",
       "      <th>filename</th>\n",
       "      <th>time</th>\n",
       "      <th>size</th>\n",
       "      <th>datestr</th>\n",
       "      <th>timestr</th>\n",
       "      <th>datetime</th>\n",
       "    </tr>\n",
       "  </thead>\n",
       "  <tbody>\n",
       "    <tr>\n",
       "      <th>0</th>\n",
       "      <td>ir2_20160824_193105_drk_l1b_v10.fit</td>\n",
       "      <td>2019-06-03 15:12</td>\n",
       "      <td>2.0M</td>\n",
       "      <td>20160824</td>\n",
       "      <td>193105</td>\n",
       "      <td>2016-08-24 19:31:05</td>\n",
       "    </tr>\n",
       "    <tr>\n",
       "      <th>1</th>\n",
       "      <td>ir2_20160824_193105_drk_l1b_v10.lbl</td>\n",
       "      <td>2019-06-03 15:12</td>\n",
       "      <td>7.0K</td>\n",
       "      <td>20160824</td>\n",
       "      <td>193105</td>\n",
       "      <td>2016-08-24 19:31:05</td>\n",
       "    </tr>\n",
       "    <tr>\n",
       "      <th>2</th>\n",
       "      <td>ir2_20160824_193142_202_l1b_v10.fit</td>\n",
       "      <td>2019-06-03 15:12</td>\n",
       "      <td>2.0M</td>\n",
       "      <td>20160824</td>\n",
       "      <td>193142</td>\n",
       "      <td>2016-08-24 19:31:42</td>\n",
       "    </tr>\n",
       "    <tr>\n",
       "      <th>3</th>\n",
       "      <td>ir2_20160824_193142_202_l1b_v10.lbl</td>\n",
       "      <td>2019-06-03 15:12</td>\n",
       "      <td>7.1K</td>\n",
       "      <td>20160824</td>\n",
       "      <td>193142</td>\n",
       "      <td>2016-08-24 19:31:42</td>\n",
       "    </tr>\n",
       "    <tr>\n",
       "      <th>4</th>\n",
       "      <td>ir2_20160824_203205_drk_l1b_v10.fit</td>\n",
       "      <td>2019-06-03 15:12</td>\n",
       "      <td>2.0M</td>\n",
       "      <td>20160824</td>\n",
       "      <td>203205</td>\n",
       "      <td>2016-08-24 20:32:05</td>\n",
       "    </tr>\n",
       "    <tr>\n",
       "      <th>...</th>\n",
       "      <td>...</td>\n",
       "      <td>...</td>\n",
       "      <td>...</td>\n",
       "      <td>...</td>\n",
       "      <td>...</td>\n",
       "      <td>...</td>\n",
       "    </tr>\n",
       "    <tr>\n",
       "      <th>499</th>\n",
       "      <td>ir2_20160904_211542_202_l1b_v10.lbl</td>\n",
       "      <td>2019-06-03 15:12</td>\n",
       "      <td>7.1K</td>\n",
       "      <td>20160904</td>\n",
       "      <td>211542</td>\n",
       "      <td>2016-09-04 21:15:42</td>\n",
       "    </tr>\n",
       "    <tr>\n",
       "      <th>500</th>\n",
       "      <td>ir2_20160904_212505_drk_l1b_v10.fit</td>\n",
       "      <td>2019-06-03 15:12</td>\n",
       "      <td>2.0M</td>\n",
       "      <td>20160904</td>\n",
       "      <td>212505</td>\n",
       "      <td>2016-09-04 21:25:05</td>\n",
       "    </tr>\n",
       "    <tr>\n",
       "      <th>501</th>\n",
       "      <td>ir2_20160904_212505_drk_l1b_v10.lbl</td>\n",
       "      <td>2019-06-03 15:12</td>\n",
       "      <td>7.0K</td>\n",
       "      <td>20160904</td>\n",
       "      <td>212505</td>\n",
       "      <td>2016-09-04 21:25:05</td>\n",
       "    </tr>\n",
       "    <tr>\n",
       "      <th>502</th>\n",
       "      <td>ir2_20160904_212542_202_l1b_v10.fit</td>\n",
       "      <td>2019-06-03 15:12</td>\n",
       "      <td>2.0M</td>\n",
       "      <td>20160904</td>\n",
       "      <td>212542</td>\n",
       "      <td>2016-09-04 21:25:42</td>\n",
       "    </tr>\n",
       "    <tr>\n",
       "      <th>503</th>\n",
       "      <td>ir2_20160904_212542_202_l1b_v10.lbl</td>\n",
       "      <td>2019-06-03 15:12</td>\n",
       "      <td>7.1K</td>\n",
       "      <td>20160904</td>\n",
       "      <td>212542</td>\n",
       "      <td>2016-09-04 21:25:42</td>\n",
       "    </tr>\n",
       "  </tbody>\n",
       "</table>\n",
       "<p>504 rows × 6 columns</p>\n",
       "</div>"
      ],
      "text/plain": [
       "                                filename              time  size   datestr timestr            datetime\n",
       "0    ir2_20160824_193105_drk_l1b_v10.fit  2019-06-03 15:12  2.0M  20160824  193105 2016-08-24 19:31:05\n",
       "1    ir2_20160824_193105_drk_l1b_v10.lbl  2019-06-03 15:12  7.0K  20160824  193105 2016-08-24 19:31:05\n",
       "2    ir2_20160824_193142_202_l1b_v10.fit  2019-06-03 15:12  2.0M  20160824  193142 2016-08-24 19:31:42\n",
       "3    ir2_20160824_193142_202_l1b_v10.lbl  2019-06-03 15:12  7.1K  20160824  193142 2016-08-24 19:31:42\n",
       "4    ir2_20160824_203205_drk_l1b_v10.fit  2019-06-03 15:12  2.0M  20160824  203205 2016-08-24 20:32:05\n",
       "..                                   ...               ...   ...       ...     ...                 ...\n",
       "499  ir2_20160904_211542_202_l1b_v10.lbl  2019-06-03 15:12  7.1K  20160904  211542 2016-09-04 21:15:42\n",
       "500  ir2_20160904_212505_drk_l1b_v10.fit  2019-06-03 15:12  2.0M  20160904  212505 2016-09-04 21:25:05\n",
       "501  ir2_20160904_212505_drk_l1b_v10.lbl  2019-06-03 15:12  7.0K  20160904  212505 2016-09-04 21:25:05\n",
       "502  ir2_20160904_212542_202_l1b_v10.fit  2019-06-03 15:12  2.0M  20160904  212542 2016-09-04 21:25:42\n",
       "503  ir2_20160904_212542_202_l1b_v10.lbl  2019-06-03 15:12  7.1K  20160904  212542 2016-09-04 21:25:42\n",
       "\n",
       "[504 rows x 6 columns]"
      ]
     },
     "execution_count": 24,
     "metadata": {},
     "output_type": "execute_result"
    }
   ],
   "source": [
    "downloader.get_orbit_list(rev)"
   ]
  },
  {
   "cell_type": "code",
   "execution_count": null,
   "metadata": {},
   "outputs": [],
   "source": []
  }
 ],
 "metadata": {
  "kernelspec": {
   "display_name": "Python [conda env:py38] *",
   "language": "python",
   "name": "conda-env-py38-py"
  },
  "language_info": {
   "codemirror_mode": {
    "name": "ipython",
    "version": 3
   },
   "file_extension": ".py",
   "mimetype": "text/x-python",
   "name": "python",
   "nbconvert_exporter": "python",
   "pygments_lexer": "ipython3",
   "version": "3.8.2"
  },
  "widgets": {
   "application/vnd.jupyter.widget-state+json": {
    "state": {
     "00575095f1ca435c9581e56d98cacbdf": {
      "model_module": "@jupyter-widgets/controls",
      "model_module_version": "1.5.0",
      "model_name": "HTMLModel",
      "state": {
       "layout": "IPY_MODEL_39fec04cc4a843409e4633da5b284448",
       "style": "IPY_MODEL_5330a7aa13db41889e9d0a30389558f6",
       "value": " 247/247 [00:19&lt;00:00, 12.78it/s]"
      }
     },
     "02bf0f3063bc47029690bb5e728d0f05": {
      "model_module": "@jupyter-widgets/controls",
      "model_module_version": "1.5.0",
      "model_name": "FloatProgressModel",
      "state": {
       "bar_style": "success",
       "description": "100%",
       "layout": "IPY_MODEL_a1e0b3a1142d4540ba62ab8d141434ea",
       "max": 494,
       "style": "IPY_MODEL_3c557c35ce044667b58c7c90c87d862d",
       "value": 494
      }
     },
     "07f95175ddbd428aafb24bc6d59c05b1": {
      "model_module": "@jupyter-widgets/controls",
      "model_module_version": "1.5.0",
      "model_name": "DescriptionStyleModel",
      "state": {
       "description_width": ""
      }
     },
     "087f1497d29e4c31a38782f4ac233c69": {
      "model_module": "@jupyter-widgets/controls",
      "model_module_version": "1.5.0",
      "model_name": "DescriptionStyleModel",
      "state": {
       "description_width": ""
      }
     },
     "0bfde460e7334805828b07b4cd1d5614": {
      "model_module": "@jupyter-widgets/controls",
      "model_module_version": "1.5.0",
      "model_name": "HTMLModel",
      "state": {
       "layout": "IPY_MODEL_485f3d70381346e9aefec6d1f148f97c",
       "style": "IPY_MODEL_07f95175ddbd428aafb24bc6d59c05b1",
       "value": " 8/247 [02:40&lt;1:19:43, 20.01s/it]"
      }
     },
     "0d01841680384807a1536190b261d5a9": {
      "model_module": "@jupyter-widgets/controls",
      "model_module_version": "1.5.0",
      "model_name": "HTMLModel",
      "state": {
       "layout": "IPY_MODEL_e3459f4625a64538bdb596da850ea540",
       "style": "IPY_MODEL_ba28e9cf71024a30b9601823fccfccb3",
       "value": " 494/494 [25:17&lt;00:00,  3.07s/it]"
      }
     },
     "11bc87bbecf3419abdf152d2bfe80107": {
      "model_module": "@jupyter-widgets/controls",
      "model_module_version": "1.5.0",
      "model_name": "HTMLModel",
      "state": {
       "layout": "IPY_MODEL_46f767749f254720ae9d84bb053c2c2c",
       "style": "IPY_MODEL_eae05f9fa93841aca9882edd7b1a312a",
       "value": " 111/247 [21:18&lt;26:06, 11.52s/it]"
      }
     },
     "163e640f9048494899d5de31471b5f32": {
      "model_module": "@jupyter-widgets/base",
      "model_module_version": "1.2.0",
      "model_name": "LayoutModel",
      "state": {}
     },
     "1a32c3aeb6324b48a4a2efcb33be2036": {
      "model_module": "@jupyter-widgets/controls",
      "model_module_version": "1.5.0",
      "model_name": "FloatProgressModel",
      "state": {
       "bar_style": "success",
       "description": "100%",
       "layout": "IPY_MODEL_5f0ce72c22294c0988aab2e591720da2",
       "max": 494,
       "style": "IPY_MODEL_faa99cd1063f40a2a6ef1c7a1e0128d1",
       "value": 494
      }
     },
     "2cfd6e50cc1f4a2cb370495cf1ff6515": {
      "model_module": "@jupyter-widgets/controls",
      "model_module_version": "1.5.0",
      "model_name": "HTMLModel",
      "state": {
       "layout": "IPY_MODEL_8307b2e2edef46ec900534249449d71a",
       "style": "IPY_MODEL_e7a227f691a24c75905aa5840ec45118",
       "value": " 2/247 [01:20&lt;2:45:21, 40.50s/it]"
      }
     },
     "2d1785b63ab5429391e6a780c1456a5a": {
      "model_module": "@jupyter-widgets/base",
      "model_module_version": "1.2.0",
      "model_name": "LayoutModel",
      "state": {}
     },
     "30040ff44f1f49ca896ab107ea8bc2ed": {
      "model_module": "@jupyter-widgets/base",
      "model_module_version": "1.2.0",
      "model_name": "LayoutModel",
      "state": {}
     },
     "39fec04cc4a843409e4633da5b284448": {
      "model_module": "@jupyter-widgets/base",
      "model_module_version": "1.2.0",
      "model_name": "LayoutModel",
      "state": {}
     },
     "3bab467952cc431c83c35895f3cb622d": {
      "model_module": "@jupyter-widgets/controls",
      "model_module_version": "1.5.0",
      "model_name": "FloatProgressModel",
      "state": {
       "bar_style": "danger",
       "description": "  2%",
       "layout": "IPY_MODEL_e0baf1b894e74f10b9d28160a90912ca",
       "max": 247,
       "style": "IPY_MODEL_cad2836f7a88474d81c0ca95aa9fb072",
       "value": 4
      }
     },
     "3c557c35ce044667b58c7c90c87d862d": {
      "model_module": "@jupyter-widgets/controls",
      "model_module_version": "1.5.0",
      "model_name": "ProgressStyleModel",
      "state": {
       "description_width": "initial"
      }
     },
     "3f3e968db7a746f1843ba586da3ddc9a": {
      "model_module": "@jupyter-widgets/controls",
      "model_module_version": "1.5.0",
      "model_name": "FloatProgressModel",
      "state": {
       "bar_style": "success",
       "description": "100%",
       "layout": "IPY_MODEL_eafa9e6e6773404fb958bfb9052a6256",
       "max": 494,
       "style": "IPY_MODEL_86a228f8c5db4cb5b7bb4d01714ac4d3",
       "value": 494
      }
     },
     "3fe572518c154f7f89cbe523d5785f99": {
      "model_module": "@jupyter-widgets/base",
      "model_module_version": "1.2.0",
      "model_name": "LayoutModel",
      "state": {}
     },
     "4329280f064b479d85d1ad7e9f0bd970": {
      "model_module": "@jupyter-widgets/controls",
      "model_module_version": "1.5.0",
      "model_name": "ProgressStyleModel",
      "state": {
       "description_width": "initial"
      }
     },
     "46f767749f254720ae9d84bb053c2c2c": {
      "model_module": "@jupyter-widgets/base",
      "model_module_version": "1.2.0",
      "model_name": "LayoutModel",
      "state": {}
     },
     "485f3d70381346e9aefec6d1f148f97c": {
      "model_module": "@jupyter-widgets/base",
      "model_module_version": "1.2.0",
      "model_name": "LayoutModel",
      "state": {}
     },
     "4aafef9228584399a3be617b45c5cabb": {
      "model_module": "@jupyter-widgets/base",
      "model_module_version": "1.2.0",
      "model_name": "LayoutModel",
      "state": {}
     },
     "4c5cab3b39d149f28e893dcae5308b05": {
      "model_module": "@jupyter-widgets/controls",
      "model_module_version": "1.5.0",
      "model_name": "ProgressStyleModel",
      "state": {
       "description_width": "initial"
      }
     },
     "4d9e9f56ad344f2d9a4a9ec2eea0e849": {
      "model_module": "@jupyter-widgets/controls",
      "model_module_version": "1.5.0",
      "model_name": "ProgressStyleModel",
      "state": {
       "description_width": "initial"
      }
     },
     "4ef7280fb63e4cf38a7958f3b5f70c51": {
      "model_module": "@jupyter-widgets/base",
      "model_module_version": "1.2.0",
      "model_name": "LayoutModel",
      "state": {}
     },
     "520785d6a9bd422f9533891e198d56e5": {
      "model_module": "@jupyter-widgets/base",
      "model_module_version": "1.2.0",
      "model_name": "LayoutModel",
      "state": {}
     },
     "5330a7aa13db41889e9d0a30389558f6": {
      "model_module": "@jupyter-widgets/controls",
      "model_module_version": "1.5.0",
      "model_name": "DescriptionStyleModel",
      "state": {
       "description_width": ""
      }
     },
     "59ac5f0c11a644b6afb29722a29def49": {
      "model_module": "@jupyter-widgets/base",
      "model_module_version": "1.2.0",
      "model_name": "LayoutModel",
      "state": {}
     },
     "5c76109dbf2845899d1b325bbcf36f70": {
      "model_module": "@jupyter-widgets/controls",
      "model_module_version": "1.5.0",
      "model_name": "HTMLModel",
      "state": {
       "layout": "IPY_MODEL_91cc8149476844f08ed35c17a40a9208",
       "style": "IPY_MODEL_82d3fe59104b4abeab9b35cd9bc742e9",
       "value": " 494/494 [00:00&lt;00:00, 4065.07it/s]"
      }
     },
     "5f0ce72c22294c0988aab2e591720da2": {
      "model_module": "@jupyter-widgets/base",
      "model_module_version": "1.2.0",
      "model_name": "LayoutModel",
      "state": {}
     },
     "676ea0f2da994647acbb67a67fd14409": {
      "model_module": "@jupyter-widgets/controls",
      "model_module_version": "1.5.0",
      "model_name": "HBoxModel",
      "state": {
       "children": [
        "IPY_MODEL_02bf0f3063bc47029690bb5e728d0f05",
        "IPY_MODEL_ca73b4b49cef402d8ef6db35e93ff597"
       ],
       "layout": "IPY_MODEL_2d1785b63ab5429391e6a780c1456a5a"
      }
     },
     "67fd0f6ea8ed4e92a51ba68eaf80cd30": {
      "model_module": "@jupyter-widgets/controls",
      "model_module_version": "1.5.0",
      "model_name": "HBoxModel",
      "state": {
       "children": [
        "IPY_MODEL_ba2d3074673148ffa80e24387938371e",
        "IPY_MODEL_00575095f1ca435c9581e56d98cacbdf"
       ],
       "layout": "IPY_MODEL_f150d9100b34440790676d2cf7cec9e0"
      }
     },
     "6c3a056038a24bc59004f979e8db6716": {
      "model_module": "@jupyter-widgets/controls",
      "model_module_version": "1.5.0",
      "model_name": "HTMLModel",
      "state": {
       "layout": "IPY_MODEL_59ac5f0c11a644b6afb29722a29def49",
       "style": "IPY_MODEL_087f1497d29e4c31a38782f4ac233c69",
       "value": " 494/494 [02:13&lt;00:00,  3.70it/s]"
      }
     },
     "6cf61a17f92a46a2932d0f3f5f7db96c": {
      "model_module": "@jupyter-widgets/base",
      "model_module_version": "1.2.0",
      "model_name": "LayoutModel",
      "state": {}
     },
     "6dca72de1775409ab7c0a3aec8c5815c": {
      "model_module": "@jupyter-widgets/controls",
      "model_module_version": "1.5.0",
      "model_name": "HBoxModel",
      "state": {
       "children": [
        "IPY_MODEL_7275070077b9492baf13ee96f25595a0",
        "IPY_MODEL_2cfd6e50cc1f4a2cb370495cf1ff6515"
       ],
       "layout": "IPY_MODEL_fd4047e86d4343e0845e4fdf45bdae43"
      }
     },
     "7275070077b9492baf13ee96f25595a0": {
      "model_module": "@jupyter-widgets/controls",
      "model_module_version": "1.5.0",
      "model_name": "FloatProgressModel",
      "state": {
       "bar_style": "danger",
       "description": "  1%",
       "layout": "IPY_MODEL_8dcad91d3fbe46679e422e35a582de20",
       "max": 247,
       "style": "IPY_MODEL_4329280f064b479d85d1ad7e9f0bd970",
       "value": 2
      }
     },
     "77f7379c341e4476876a6dfce6eb2c93": {
      "model_module": "@jupyter-widgets/controls",
      "model_module_version": "1.5.0",
      "model_name": "HTMLModel",
      "state": {
       "layout": "IPY_MODEL_4aafef9228584399a3be617b45c5cabb",
       "style": "IPY_MODEL_f03b03a9073d4bfc9d244344313974fa",
       "value": " 494/494 [00:36&lt;00:00, 13.53it/s]"
      }
     },
     "7bdb16b4489044b492b9020996309af9": {
      "model_module": "@jupyter-widgets/controls",
      "model_module_version": "1.5.0",
      "model_name": "HTMLModel",
      "state": {
       "layout": "IPY_MODEL_b43f1f42c74b4400b55e229a195169ca",
       "style": "IPY_MODEL_9f728a0d4504434f8046026e385180eb",
       "value": " 125/247 [05:31&lt;05:23,  2.65s/it]"
      }
     },
     "82d3fe59104b4abeab9b35cd9bc742e9": {
      "model_module": "@jupyter-widgets/controls",
      "model_module_version": "1.5.0",
      "model_name": "DescriptionStyleModel",
      "state": {
       "description_width": ""
      }
     },
     "8307b2e2edef46ec900534249449d71a": {
      "model_module": "@jupyter-widgets/base",
      "model_module_version": "1.2.0",
      "model_name": "LayoutModel",
      "state": {}
     },
     "86a228f8c5db4cb5b7bb4d01714ac4d3": {
      "model_module": "@jupyter-widgets/controls",
      "model_module_version": "1.5.0",
      "model_name": "ProgressStyleModel",
      "state": {
       "description_width": "initial"
      }
     },
     "8828204c14834a71a016c52bcafd2686": {
      "model_module": "@jupyter-widgets/base",
      "model_module_version": "1.2.0",
      "model_name": "LayoutModel",
      "state": {}
     },
     "89e3670c42414dfd9eae0402e4e84182": {
      "model_module": "@jupyter-widgets/controls",
      "model_module_version": "1.5.0",
      "model_name": "FloatProgressModel",
      "state": {
       "bar_style": "danger",
       "description": " 51%",
       "layout": "IPY_MODEL_4ef7280fb63e4cf38a7958f3b5f70c51",
       "max": 247,
       "style": "IPY_MODEL_e0a48f0924134b09b668b5e272a521e0",
       "value": 125
      }
     },
     "8b8ff9081392432487f7448b49c1beee": {
      "model_module": "@jupyter-widgets/base",
      "model_module_version": "1.2.0",
      "model_name": "LayoutModel",
      "state": {}
     },
     "8d559fa5cadf4222849058001a776250": {
      "model_module": "@jupyter-widgets/controls",
      "model_module_version": "1.5.0",
      "model_name": "ProgressStyleModel",
      "state": {
       "description_width": "initial"
      }
     },
     "8dcad91d3fbe46679e422e35a582de20": {
      "model_module": "@jupyter-widgets/base",
      "model_module_version": "1.2.0",
      "model_name": "LayoutModel",
      "state": {}
     },
     "91cc8149476844f08ed35c17a40a9208": {
      "model_module": "@jupyter-widgets/base",
      "model_module_version": "1.2.0",
      "model_name": "LayoutModel",
      "state": {}
     },
     "974d859c38184ba2a6c8617435936c6f": {
      "model_module": "@jupyter-widgets/controls",
      "model_module_version": "1.5.0",
      "model_name": "FloatProgressModel",
      "state": {
       "bar_style": "danger",
       "description": "  3%",
       "layout": "IPY_MODEL_6cf61a17f92a46a2932d0f3f5f7db96c",
       "max": 247,
       "style": "IPY_MODEL_4c5cab3b39d149f28e893dcae5308b05",
       "value": 8
      }
     },
     "977d62c490964f05b3129c8570f893ee": {
      "model_module": "@jupyter-widgets/controls",
      "model_module_version": "1.5.0",
      "model_name": "HBoxModel",
      "state": {
       "children": [
        "IPY_MODEL_3f3e968db7a746f1843ba586da3ddc9a",
        "IPY_MODEL_77f7379c341e4476876a6dfce6eb2c93"
       ],
       "layout": "IPY_MODEL_163e640f9048494899d5de31471b5f32"
      }
     },
     "9d070bbabaed41dc9fb831b655961a29": {
      "model_module": "@jupyter-widgets/controls",
      "model_module_version": "1.5.0",
      "model_name": "HBoxModel",
      "state": {
       "children": [
        "IPY_MODEL_89e3670c42414dfd9eae0402e4e84182",
        "IPY_MODEL_7bdb16b4489044b492b9020996309af9"
       ],
       "layout": "IPY_MODEL_3fe572518c154f7f89cbe523d5785f99"
      }
     },
     "9f728a0d4504434f8046026e385180eb": {
      "model_module": "@jupyter-widgets/controls",
      "model_module_version": "1.5.0",
      "model_name": "DescriptionStyleModel",
      "state": {
       "description_width": ""
      }
     },
     "a16328001b63441ca7859bfaf225e1ac": {
      "model_module": "@jupyter-widgets/base",
      "model_module_version": "1.2.0",
      "model_name": "LayoutModel",
      "state": {}
     },
     "a1e0b3a1142d4540ba62ab8d141434ea": {
      "model_module": "@jupyter-widgets/base",
      "model_module_version": "1.2.0",
      "model_name": "LayoutModel",
      "state": {}
     },
     "a2eb1d5528084c04b4326b1163a4488a": {
      "model_module": "@jupyter-widgets/controls",
      "model_module_version": "1.5.0",
      "model_name": "HTMLModel",
      "state": {
       "layout": "IPY_MODEL_30040ff44f1f49ca896ab107ea8bc2ed",
       "style": "IPY_MODEL_cf764994d3be429baaead8c9c540bcd2",
       "value": " 4/247 [00:43&lt;44:31, 10.99s/it]"
      }
     },
     "a8dab76ca7044586a8266a7f2546243f": {
      "model_module": "@jupyter-widgets/controls",
      "model_module_version": "1.5.0",
      "model_name": "HBoxModel",
      "state": {
       "children": [
        "IPY_MODEL_1a32c3aeb6324b48a4a2efcb33be2036",
        "IPY_MODEL_0d01841680384807a1536190b261d5a9"
       ],
       "layout": "IPY_MODEL_c82c4ae183b04b538dff205156a079b5"
      }
     },
     "b43f1f42c74b4400b55e229a195169ca": {
      "model_module": "@jupyter-widgets/base",
      "model_module_version": "1.2.0",
      "model_name": "LayoutModel",
      "state": {}
     },
     "ba28e9cf71024a30b9601823fccfccb3": {
      "model_module": "@jupyter-widgets/controls",
      "model_module_version": "1.5.0",
      "model_name": "DescriptionStyleModel",
      "state": {
       "description_width": ""
      }
     },
     "ba2d3074673148ffa80e24387938371e": {
      "model_module": "@jupyter-widgets/controls",
      "model_module_version": "1.5.0",
      "model_name": "FloatProgressModel",
      "state": {
       "bar_style": "success",
       "description": "100%",
       "layout": "IPY_MODEL_520785d6a9bd422f9533891e198d56e5",
       "max": 247,
       "style": "IPY_MODEL_d61f24e59c2044718587b2267c4608ad",
       "value": 247
      }
     },
     "be84b2dea4154e029899be36fef12f07": {
      "model_module": "@jupyter-widgets/base",
      "model_module_version": "1.2.0",
      "model_name": "LayoutModel",
      "state": {}
     },
     "c7cb77a0885c4bc0a1b6469c0b0e8087": {
      "model_module": "@jupyter-widgets/base",
      "model_module_version": "1.2.0",
      "model_name": "LayoutModel",
      "state": {}
     },
     "c7d6260529964871acc180013a671d03": {
      "model_module": "@jupyter-widgets/controls",
      "model_module_version": "1.5.0",
      "model_name": "HBoxModel",
      "state": {
       "children": [
        "IPY_MODEL_ee43617fadaf4c61b9e85ff0a6947214",
        "IPY_MODEL_11bc87bbecf3419abdf152d2bfe80107"
       ],
       "layout": "IPY_MODEL_d2f0ce7652ca4a49b7bf700c44d4c461"
      }
     },
     "c82c4ae183b04b538dff205156a079b5": {
      "model_module": "@jupyter-widgets/base",
      "model_module_version": "1.2.0",
      "model_name": "LayoutModel",
      "state": {}
     },
     "ca73b4b49cef402d8ef6db35e93ff597": {
      "model_module": "@jupyter-widgets/controls",
      "model_module_version": "1.5.0",
      "model_name": "HTMLModel",
      "state": {
       "layout": "IPY_MODEL_c7cb77a0885c4bc0a1b6469c0b0e8087",
       "style": "IPY_MODEL_f3397b8d2cb7486f9126b529925b324c",
       "value": " 494/494 [02:42&lt;00:00,  3.05it/s]"
      }
     },
     "cad2836f7a88474d81c0ca95aa9fb072": {
      "model_module": "@jupyter-widgets/controls",
      "model_module_version": "1.5.0",
      "model_name": "ProgressStyleModel",
      "state": {
       "description_width": "initial"
      }
     },
     "cef14aeafce340d6a2ef3f2719f4464a": {
      "model_module": "@jupyter-widgets/controls",
      "model_module_version": "1.5.0",
      "model_name": "ProgressStyleModel",
      "state": {
       "description_width": "initial"
      }
     },
     "cf764994d3be429baaead8c9c540bcd2": {
      "model_module": "@jupyter-widgets/controls",
      "model_module_version": "1.5.0",
      "model_name": "DescriptionStyleModel",
      "state": {
       "description_width": ""
      }
     },
     "d2f06bc99ca44d69871f8f4fc739cf5d": {
      "model_module": "@jupyter-widgets/controls",
      "model_module_version": "1.5.0",
      "model_name": "FloatProgressModel",
      "state": {
       "bar_style": "success",
       "description": "100%",
       "layout": "IPY_MODEL_8b8ff9081392432487f7448b49c1beee",
       "max": 494,
       "style": "IPY_MODEL_4d9e9f56ad344f2d9a4a9ec2eea0e849",
       "value": 494
      }
     },
     "d2f0ce7652ca4a49b7bf700c44d4c461": {
      "model_module": "@jupyter-widgets/base",
      "model_module_version": "1.2.0",
      "model_name": "LayoutModel",
      "state": {}
     },
     "d40f7e6bc1a34d0b847865c09b373474": {
      "model_module": "@jupyter-widgets/controls",
      "model_module_version": "1.5.0",
      "model_name": "HBoxModel",
      "state": {
       "children": [
        "IPY_MODEL_974d859c38184ba2a6c8617435936c6f",
        "IPY_MODEL_0bfde460e7334805828b07b4cd1d5614"
       ],
       "layout": "IPY_MODEL_dacd9e930b674b239f5f7ccf8f43fd17"
      }
     },
     "d61f24e59c2044718587b2267c4608ad": {
      "model_module": "@jupyter-widgets/controls",
      "model_module_version": "1.5.0",
      "model_name": "ProgressStyleModel",
      "state": {
       "description_width": "initial"
      }
     },
     "dacd9e930b674b239f5f7ccf8f43fd17": {
      "model_module": "@jupyter-widgets/base",
      "model_module_version": "1.2.0",
      "model_name": "LayoutModel",
      "state": {}
     },
     "dff83050e6ad41ee85470fedae534e7c": {
      "model_module": "@jupyter-widgets/controls",
      "model_module_version": "1.5.0",
      "model_name": "HBoxModel",
      "state": {
       "children": [
        "IPY_MODEL_d2f06bc99ca44d69871f8f4fc739cf5d",
        "IPY_MODEL_5c76109dbf2845899d1b325bbcf36f70"
       ],
       "layout": "IPY_MODEL_e5afd53868c84218aa0d402cf8d70119"
      }
     },
     "e0a48f0924134b09b668b5e272a521e0": {
      "model_module": "@jupyter-widgets/controls",
      "model_module_version": "1.5.0",
      "model_name": "ProgressStyleModel",
      "state": {
       "description_width": "initial"
      }
     },
     "e0baf1b894e74f10b9d28160a90912ca": {
      "model_module": "@jupyter-widgets/base",
      "model_module_version": "1.2.0",
      "model_name": "LayoutModel",
      "state": {}
     },
     "e3459f4625a64538bdb596da850ea540": {
      "model_module": "@jupyter-widgets/base",
      "model_module_version": "1.2.0",
      "model_name": "LayoutModel",
      "state": {}
     },
     "e5afd53868c84218aa0d402cf8d70119": {
      "model_module": "@jupyter-widgets/base",
      "model_module_version": "1.2.0",
      "model_name": "LayoutModel",
      "state": {}
     },
     "e7a227f691a24c75905aa5840ec45118": {
      "model_module": "@jupyter-widgets/controls",
      "model_module_version": "1.5.0",
      "model_name": "DescriptionStyleModel",
      "state": {
       "description_width": ""
      }
     },
     "e818424691d845acaf2b4130e4b77673": {
      "model_module": "@jupyter-widgets/controls",
      "model_module_version": "1.5.0",
      "model_name": "HBoxModel",
      "state": {
       "children": [
        "IPY_MODEL_3bab467952cc431c83c35895f3cb622d",
        "IPY_MODEL_a2eb1d5528084c04b4326b1163a4488a"
       ],
       "layout": "IPY_MODEL_ee3303fd18cb48ccbd49bbb1b0409a70"
      }
     },
     "eae05f9fa93841aca9882edd7b1a312a": {
      "model_module": "@jupyter-widgets/controls",
      "model_module_version": "1.5.0",
      "model_name": "DescriptionStyleModel",
      "state": {
       "description_width": ""
      }
     },
     "eafa9e6e6773404fb958bfb9052a6256": {
      "model_module": "@jupyter-widgets/base",
      "model_module_version": "1.2.0",
      "model_name": "LayoutModel",
      "state": {}
     },
     "ee3303fd18cb48ccbd49bbb1b0409a70": {
      "model_module": "@jupyter-widgets/base",
      "model_module_version": "1.2.0",
      "model_name": "LayoutModel",
      "state": {}
     },
     "ee43617fadaf4c61b9e85ff0a6947214": {
      "model_module": "@jupyter-widgets/controls",
      "model_module_version": "1.5.0",
      "model_name": "FloatProgressModel",
      "state": {
       "bar_style": "danger",
       "description": " 45%",
       "layout": "IPY_MODEL_8828204c14834a71a016c52bcafd2686",
       "max": 247,
       "style": "IPY_MODEL_cef14aeafce340d6a2ef3f2719f4464a",
       "value": 111
      }
     },
     "f03b03a9073d4bfc9d244344313974fa": {
      "model_module": "@jupyter-widgets/controls",
      "model_module_version": "1.5.0",
      "model_name": "DescriptionStyleModel",
      "state": {
       "description_width": ""
      }
     },
     "f150d9100b34440790676d2cf7cec9e0": {
      "model_module": "@jupyter-widgets/base",
      "model_module_version": "1.2.0",
      "model_name": "LayoutModel",
      "state": {}
     },
     "f3397b8d2cb7486f9126b529925b324c": {
      "model_module": "@jupyter-widgets/controls",
      "model_module_version": "1.5.0",
      "model_name": "DescriptionStyleModel",
      "state": {
       "description_width": ""
      }
     },
     "f95755d4d9474a55808a3814f30335fc": {
      "model_module": "@jupyter-widgets/controls",
      "model_module_version": "1.5.0",
      "model_name": "FloatProgressModel",
      "state": {
       "bar_style": "success",
       "description": "100%",
       "layout": "IPY_MODEL_a16328001b63441ca7859bfaf225e1ac",
       "max": 494,
       "style": "IPY_MODEL_8d559fa5cadf4222849058001a776250",
       "value": 494
      }
     },
     "faa99cd1063f40a2a6ef1c7a1e0128d1": {
      "model_module": "@jupyter-widgets/controls",
      "model_module_version": "1.5.0",
      "model_name": "ProgressStyleModel",
      "state": {
       "description_width": "initial"
      }
     },
     "fbc7060d286246ac8505c5e496d405fc": {
      "model_module": "@jupyter-widgets/controls",
      "model_module_version": "1.5.0",
      "model_name": "HBoxModel",
      "state": {
       "children": [
        "IPY_MODEL_f95755d4d9474a55808a3814f30335fc",
        "IPY_MODEL_6c3a056038a24bc59004f979e8db6716"
       ],
       "layout": "IPY_MODEL_be84b2dea4154e029899be36fef12f07"
      }
     },
     "fd4047e86d4343e0845e4fdf45bdae43": {
      "model_module": "@jupyter-widgets/base",
      "model_module_version": "1.2.0",
      "model_name": "LayoutModel",
      "state": {}
     }
    },
    "version_major": 2,
    "version_minor": 0
   }
  }
 },
 "nbformat": 4,
 "nbformat_minor": 4
}
